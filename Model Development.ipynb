{
 "cells": [
  {
   "cell_type": "code",
   "execution_count": 1,
   "id": "7f6443cf-690c-4868-a839-ec71986c7490",
   "metadata": {},
   "outputs": [],
   "source": [
    "import pandas as pd\n",
    "import seaborn as sns\n",
    "import numpy as np\n",
    "import matplotlib.pyplot as plt"
   ]
  },
  {
   "cell_type": "code",
   "execution_count": 2,
   "id": "02d9866e-3c45-47df-a2b0-a3b44610d2a8",
   "metadata": {},
   "outputs": [],
   "source": [
    "from sklearn.preprocessing import StandardScaler\n",
    "from sklearn.decomposition import PCA\n",
    "\n",
    "from sklearn.cluster import KMeans"
   ]
  },
  {
   "cell_type": "code",
   "execution_count": 3,
   "id": "b79cebc2-8fd5-4ad1-b3e1-060a97fab4bc",
   "metadata": {},
   "outputs": [],
   "source": [
    "wine = pd.read_csv('winequalityN.csv')"
   ]
  },
  {
   "cell_type": "code",
   "execution_count": 4,
   "id": "f6d07bed-c5db-4027-b39c-58487c857b3c",
   "metadata": {},
   "outputs": [
    {
     "data": {
      "text/html": [
       "<div>\n",
       "<style scoped>\n",
       "    .dataframe tbody tr th:only-of-type {\n",
       "        vertical-align: middle;\n",
       "    }\n",
       "\n",
       "    .dataframe tbody tr th {\n",
       "        vertical-align: top;\n",
       "    }\n",
       "\n",
       "    .dataframe thead th {\n",
       "        text-align: right;\n",
       "    }\n",
       "</style>\n",
       "<table border=\"1\" class=\"dataframe\">\n",
       "  <thead>\n",
       "    <tr style=\"text-align: right;\">\n",
       "      <th></th>\n",
       "      <th>type</th>\n",
       "      <th>fixed acidity</th>\n",
       "      <th>volatile acidity</th>\n",
       "      <th>citric acid</th>\n",
       "      <th>residual sugar</th>\n",
       "      <th>chlorides</th>\n",
       "      <th>free sulfur dioxide</th>\n",
       "      <th>total sulfur dioxide</th>\n",
       "      <th>density</th>\n",
       "      <th>pH</th>\n",
       "      <th>sulphates</th>\n",
       "      <th>alcohol</th>\n",
       "      <th>quality</th>\n",
       "    </tr>\n",
       "  </thead>\n",
       "  <tbody>\n",
       "    <tr>\n",
       "      <th>0</th>\n",
       "      <td>white</td>\n",
       "      <td>7.0</td>\n",
       "      <td>0.270</td>\n",
       "      <td>0.36</td>\n",
       "      <td>20.7</td>\n",
       "      <td>0.045</td>\n",
       "      <td>45.0</td>\n",
       "      <td>170.0</td>\n",
       "      <td>1.00100</td>\n",
       "      <td>3.00</td>\n",
       "      <td>0.45</td>\n",
       "      <td>8.8</td>\n",
       "      <td>6</td>\n",
       "    </tr>\n",
       "    <tr>\n",
       "      <th>1</th>\n",
       "      <td>white</td>\n",
       "      <td>6.3</td>\n",
       "      <td>0.300</td>\n",
       "      <td>0.34</td>\n",
       "      <td>1.6</td>\n",
       "      <td>0.049</td>\n",
       "      <td>14.0</td>\n",
       "      <td>132.0</td>\n",
       "      <td>0.99400</td>\n",
       "      <td>3.30</td>\n",
       "      <td>0.49</td>\n",
       "      <td>9.5</td>\n",
       "      <td>6</td>\n",
       "    </tr>\n",
       "    <tr>\n",
       "      <th>2</th>\n",
       "      <td>white</td>\n",
       "      <td>8.1</td>\n",
       "      <td>0.280</td>\n",
       "      <td>0.40</td>\n",
       "      <td>6.9</td>\n",
       "      <td>0.050</td>\n",
       "      <td>30.0</td>\n",
       "      <td>97.0</td>\n",
       "      <td>0.99510</td>\n",
       "      <td>3.26</td>\n",
       "      <td>0.44</td>\n",
       "      <td>10.1</td>\n",
       "      <td>6</td>\n",
       "    </tr>\n",
       "    <tr>\n",
       "      <th>3</th>\n",
       "      <td>white</td>\n",
       "      <td>7.2</td>\n",
       "      <td>0.230</td>\n",
       "      <td>0.32</td>\n",
       "      <td>8.5</td>\n",
       "      <td>0.058</td>\n",
       "      <td>47.0</td>\n",
       "      <td>186.0</td>\n",
       "      <td>0.99560</td>\n",
       "      <td>3.19</td>\n",
       "      <td>0.40</td>\n",
       "      <td>9.9</td>\n",
       "      <td>6</td>\n",
       "    </tr>\n",
       "    <tr>\n",
       "      <th>4</th>\n",
       "      <td>white</td>\n",
       "      <td>7.2</td>\n",
       "      <td>0.230</td>\n",
       "      <td>0.32</td>\n",
       "      <td>8.5</td>\n",
       "      <td>0.058</td>\n",
       "      <td>47.0</td>\n",
       "      <td>186.0</td>\n",
       "      <td>0.99560</td>\n",
       "      <td>3.19</td>\n",
       "      <td>0.40</td>\n",
       "      <td>9.9</td>\n",
       "      <td>6</td>\n",
       "    </tr>\n",
       "    <tr>\n",
       "      <th>...</th>\n",
       "      <td>...</td>\n",
       "      <td>...</td>\n",
       "      <td>...</td>\n",
       "      <td>...</td>\n",
       "      <td>...</td>\n",
       "      <td>...</td>\n",
       "      <td>...</td>\n",
       "      <td>...</td>\n",
       "      <td>...</td>\n",
       "      <td>...</td>\n",
       "      <td>...</td>\n",
       "      <td>...</td>\n",
       "      <td>...</td>\n",
       "    </tr>\n",
       "    <tr>\n",
       "      <th>6492</th>\n",
       "      <td>red</td>\n",
       "      <td>6.2</td>\n",
       "      <td>0.600</td>\n",
       "      <td>0.08</td>\n",
       "      <td>2.0</td>\n",
       "      <td>0.090</td>\n",
       "      <td>32.0</td>\n",
       "      <td>44.0</td>\n",
       "      <td>0.99490</td>\n",
       "      <td>3.45</td>\n",
       "      <td>0.58</td>\n",
       "      <td>10.5</td>\n",
       "      <td>5</td>\n",
       "    </tr>\n",
       "    <tr>\n",
       "      <th>6493</th>\n",
       "      <td>red</td>\n",
       "      <td>5.9</td>\n",
       "      <td>0.550</td>\n",
       "      <td>0.10</td>\n",
       "      <td>2.2</td>\n",
       "      <td>0.062</td>\n",
       "      <td>39.0</td>\n",
       "      <td>51.0</td>\n",
       "      <td>0.99512</td>\n",
       "      <td>3.52</td>\n",
       "      <td>NaN</td>\n",
       "      <td>11.2</td>\n",
       "      <td>6</td>\n",
       "    </tr>\n",
       "    <tr>\n",
       "      <th>6494</th>\n",
       "      <td>red</td>\n",
       "      <td>6.3</td>\n",
       "      <td>0.510</td>\n",
       "      <td>0.13</td>\n",
       "      <td>2.3</td>\n",
       "      <td>0.076</td>\n",
       "      <td>29.0</td>\n",
       "      <td>40.0</td>\n",
       "      <td>0.99574</td>\n",
       "      <td>3.42</td>\n",
       "      <td>0.75</td>\n",
       "      <td>11.0</td>\n",
       "      <td>6</td>\n",
       "    </tr>\n",
       "    <tr>\n",
       "      <th>6495</th>\n",
       "      <td>red</td>\n",
       "      <td>5.9</td>\n",
       "      <td>0.645</td>\n",
       "      <td>0.12</td>\n",
       "      <td>2.0</td>\n",
       "      <td>0.075</td>\n",
       "      <td>32.0</td>\n",
       "      <td>44.0</td>\n",
       "      <td>0.99547</td>\n",
       "      <td>3.57</td>\n",
       "      <td>0.71</td>\n",
       "      <td>10.2</td>\n",
       "      <td>5</td>\n",
       "    </tr>\n",
       "    <tr>\n",
       "      <th>6496</th>\n",
       "      <td>red</td>\n",
       "      <td>6.0</td>\n",
       "      <td>0.310</td>\n",
       "      <td>0.47</td>\n",
       "      <td>3.6</td>\n",
       "      <td>0.067</td>\n",
       "      <td>18.0</td>\n",
       "      <td>42.0</td>\n",
       "      <td>0.99549</td>\n",
       "      <td>3.39</td>\n",
       "      <td>0.66</td>\n",
       "      <td>11.0</td>\n",
       "      <td>6</td>\n",
       "    </tr>\n",
       "  </tbody>\n",
       "</table>\n",
       "<p>6497 rows × 13 columns</p>\n",
       "</div>"
      ],
      "text/plain": [
       "       type  fixed acidity  volatile acidity  citric acid  residual sugar  \\\n",
       "0     white            7.0             0.270         0.36            20.7   \n",
       "1     white            6.3             0.300         0.34             1.6   \n",
       "2     white            8.1             0.280         0.40             6.9   \n",
       "3     white            7.2             0.230         0.32             8.5   \n",
       "4     white            7.2             0.230         0.32             8.5   \n",
       "...     ...            ...               ...          ...             ...   \n",
       "6492    red            6.2             0.600         0.08             2.0   \n",
       "6493    red            5.9             0.550         0.10             2.2   \n",
       "6494    red            6.3             0.510         0.13             2.3   \n",
       "6495    red            5.9             0.645         0.12             2.0   \n",
       "6496    red            6.0             0.310         0.47             3.6   \n",
       "\n",
       "      chlorides  free sulfur dioxide  total sulfur dioxide  density    pH  \\\n",
       "0         0.045                 45.0                 170.0  1.00100  3.00   \n",
       "1         0.049                 14.0                 132.0  0.99400  3.30   \n",
       "2         0.050                 30.0                  97.0  0.99510  3.26   \n",
       "3         0.058                 47.0                 186.0  0.99560  3.19   \n",
       "4         0.058                 47.0                 186.0  0.99560  3.19   \n",
       "...         ...                  ...                   ...      ...   ...   \n",
       "6492      0.090                 32.0                  44.0  0.99490  3.45   \n",
       "6493      0.062                 39.0                  51.0  0.99512  3.52   \n",
       "6494      0.076                 29.0                  40.0  0.99574  3.42   \n",
       "6495      0.075                 32.0                  44.0  0.99547  3.57   \n",
       "6496      0.067                 18.0                  42.0  0.99549  3.39   \n",
       "\n",
       "      sulphates  alcohol  quality  \n",
       "0          0.45      8.8        6  \n",
       "1          0.49      9.5        6  \n",
       "2          0.44     10.1        6  \n",
       "3          0.40      9.9        6  \n",
       "4          0.40      9.9        6  \n",
       "...         ...      ...      ...  \n",
       "6492       0.58     10.5        5  \n",
       "6493        NaN     11.2        6  \n",
       "6494       0.75     11.0        6  \n",
       "6495       0.71     10.2        5  \n",
       "6496       0.66     11.0        6  \n",
       "\n",
       "[6497 rows x 13 columns]"
      ]
     },
     "execution_count": 4,
     "metadata": {},
     "output_type": "execute_result"
    }
   ],
   "source": [
    "wine"
   ]
  },
  {
   "cell_type": "markdown",
   "id": "e249d68f-1626-4c94-a36b-2ff8b1801b5e",
   "metadata": {},
   "source": [
    "Segun el dataset de wine, realice las siguientes actividades:\n",
    "- Limpie las variables numericas. (evalue primero si vale la pena estretificar por type), en caso de existir valores atipicos remplece por la media.\n",
    "- Aplique PCA utilizando maximo 5 columnas (evalue si el PCA vale la pena hacer uno para white y otro para red)\n",
    "    - No se debe de usar quality para este ejercicio\n",
    "- Una ves tenga el PCA, aplique un algoritmo de k-means para crear tres perfiles del vino. (explique que significa cada perfil)\n",
    "- Agregue la nueva variable al dateset y elimine las columnas que hayan formado parte de analisis del PCA, tanto para white como para red, en caso que hayan sido entrenamientos distintos.\n",
    "- Crea la varible de respuesta de la siguiente manera:\n",
    "    - if quality >= 5 ? 1 else 0\n",
    "- Elimine la variable quality del dataset\n",
    "- Aplique los siguientes entrenamientos de MLS (evalue primero si vale la pena estretificar por type):\n",
    "    - Regresion Logistica\n",
    "    - NN\n",
    "    - Arboles de decisiones\n",
    "    - Random Forest\n",
    "- Explique cual de los entrenamientos fue el mejor?"
   ]
  },
  {
   "cell_type": "code",
   "execution_count": null,
   "id": "5f7609b6-55ff-4d71-bf60-5378596994b7",
   "metadata": {
    "tags": []
   },
   "outputs": [],
   "source": []
  },
  {
   "cell_type": "markdown",
   "id": "55d0418c-2f55-4cae-a1cd-21d253a2afe4",
   "metadata": {},
   "source": [
    "### Sumando los valores nulos que hay en cada columna"
   ]
  },
  {
   "cell_type": "code",
   "execution_count": 5,
   "id": "e727daa6-dc2b-45fa-b21e-2567e50ee2c5",
   "metadata": {},
   "outputs": [
    {
     "data": {
      "text/plain": [
       "type                     0\n",
       "fixed acidity           10\n",
       "volatile acidity         8\n",
       "citric acid              3\n",
       "residual sugar           2\n",
       "chlorides                2\n",
       "free sulfur dioxide      0\n",
       "total sulfur dioxide     0\n",
       "density                  0\n",
       "pH                       9\n",
       "sulphates                4\n",
       "alcohol                  0\n",
       "quality                  0\n",
       "dtype: int64"
      ]
     },
     "execution_count": 5,
     "metadata": {},
     "output_type": "execute_result"
    }
   ],
   "source": [
    "wine.isnull().sum()"
   ]
  },
  {
   "cell_type": "code",
   "execution_count": null,
   "id": "e4a85449-0cdb-4395-9cc0-d4141e170676",
   "metadata": {},
   "outputs": [],
   "source": []
  },
  {
   "cell_type": "markdown",
   "id": "4f5dbdb8-3956-40e1-91e4-65f9d1d30377",
   "metadata": {
    "tags": []
   },
   "source": [
    "### Limpie las variables numericas. (evalue primero si vale la pena estratificar por type), en caso de existir valores atipicos remplace por la media."
   ]
  },
  {
   "cell_type": "code",
   "execution_count": 6,
   "id": "fc02079e-c3ab-459e-9451-a1e20f2046db",
   "metadata": {},
   "outputs": [
    {
     "data": {
      "text/html": [
       "<div>\n",
       "<style scoped>\n",
       "    .dataframe tbody tr th:only-of-type {\n",
       "        vertical-align: middle;\n",
       "    }\n",
       "\n",
       "    .dataframe tbody tr th {\n",
       "        vertical-align: top;\n",
       "    }\n",
       "\n",
       "    .dataframe thead th {\n",
       "        text-align: right;\n",
       "    }\n",
       "</style>\n",
       "<table border=\"1\" class=\"dataframe\">\n",
       "  <thead>\n",
       "    <tr style=\"text-align: right;\">\n",
       "      <th></th>\n",
       "      <th>type</th>\n",
       "    </tr>\n",
       "  </thead>\n",
       "  <tbody>\n",
       "    <tr>\n",
       "      <th>0</th>\n",
       "      <td>white</td>\n",
       "    </tr>\n",
       "    <tr>\n",
       "      <th>4898</th>\n",
       "      <td>red</td>\n",
       "    </tr>\n",
       "  </tbody>\n",
       "</table>\n",
       "</div>"
      ],
      "text/plain": [
       "       type\n",
       "0     white\n",
       "4898    red"
      ]
     },
     "execution_count": 6,
     "metadata": {},
     "output_type": "execute_result"
    }
   ],
   "source": [
    "wine.loc[:,['type']].drop_duplicates()"
   ]
  },
  {
   "cell_type": "markdown",
   "id": "fe6b1538-effe-47c9-8b32-c5210b9fe8c1",
   "metadata": {},
   "source": [
    "No vale la pena estratificar por tipos porque solo hay dos tipos de vinos y tienen características diferentes entre todos ellos"
   ]
  },
  {
   "cell_type": "markdown",
   "id": "0eb23fce-01a3-4147-a38b-70f0ef663db7",
   "metadata": {},
   "source": [
    "#### Limpieza de la variable 'fixed acidity'"
   ]
  },
  {
   "cell_type": "code",
   "execution_count": 7,
   "id": "dc1d2794-f769-4e5f-8e48-ab96b1abc57f",
   "metadata": {},
   "outputs": [],
   "source": [
    "fixed_acidity = wine"
   ]
  },
  {
   "cell_type": "markdown",
   "id": "c98c9800-f320-4d44-8993-3a880771bec1",
   "metadata": {},
   "source": [
    "- Remplazando valores nulos por el promedio:"
   ]
  },
  {
   "cell_type": "code",
   "execution_count": 8,
   "id": "ae0f8efb-22d8-4d54-b256-62efff05dfc0",
   "metadata": {},
   "outputs": [],
   "source": [
    "prom_fixed = fixed_acidity['fixed acidity'].mean()"
   ]
  },
  {
   "cell_type": "code",
   "execution_count": 9,
   "id": "7cfb55a1-c13b-4473-b2b8-30588fdd6067",
   "metadata": {},
   "outputs": [
    {
     "data": {
      "text/plain": [
       "7.2165793124710795"
      ]
     },
     "execution_count": 9,
     "metadata": {},
     "output_type": "execute_result"
    }
   ],
   "source": [
    "prom_fixed"
   ]
  },
  {
   "cell_type": "code",
   "execution_count": 10,
   "id": "a3690208-b650-4f74-9cc8-067c1922c837",
   "metadata": {},
   "outputs": [
    {
     "data": {
      "text/plain": [
       "10"
      ]
     },
     "execution_count": 10,
     "metadata": {},
     "output_type": "execute_result"
    }
   ],
   "source": [
    "fixed_acidity['fixed acidity'].isnull().sum()"
   ]
  },
  {
   "cell_type": "code",
   "execution_count": 11,
   "id": "fc3e1228-d931-4544-ae56-822d7479378f",
   "metadata": {},
   "outputs": [],
   "source": [
    "fixed_acidity['fixed acidity'] = fixed_acidity['fixed acidity'].fillna(prom_fixed)"
   ]
  },
  {
   "cell_type": "code",
   "execution_count": 12,
   "id": "60394521-f100-4822-868f-b2a47b0f4648",
   "metadata": {},
   "outputs": [
    {
     "data": {
      "text/plain": [
       "0"
      ]
     },
     "execution_count": 12,
     "metadata": {},
     "output_type": "execute_result"
    }
   ],
   "source": [
    "fixed_acidity['fixed acidity'].isnull().sum()"
   ]
  },
  {
   "cell_type": "markdown",
   "id": "5d748e49-bb4b-4419-891a-9e8e34a1735f",
   "metadata": {},
   "source": [
    "- Acidez fija de los vinos que tienen una calidad de 8:"
   ]
  },
  {
   "cell_type": "code",
   "execution_count": 13,
   "id": "aaa1696a-ce8a-4373-b54d-158d297cf7f5",
   "metadata": {
    "tags": []
   },
   "outputs": [],
   "source": [
    "fixed_acidity = wine.loc[(wine['quality'] == 8), ['fixed acidity']]"
   ]
  },
  {
   "cell_type": "code",
   "execution_count": 14,
   "id": "ef7f2efc-9da0-4ede-b45a-19fd836db61f",
   "metadata": {},
   "outputs": [
    {
     "data": {
      "text/plain": [
       "{'whiskers': [<matplotlib.lines.Line2D at 0x1b69cad30a0>,\n",
       "  <matplotlib.lines.Line2D at 0x1b69cad3370>],\n",
       " 'caps': [<matplotlib.lines.Line2D at 0x1b69cad3700>,\n",
       "  <matplotlib.lines.Line2D at 0x1b69cad3910>],\n",
       " 'boxes': [<matplotlib.lines.Line2D at 0x1b69c411e20>],\n",
       " 'medians': [<matplotlib.lines.Line2D at 0x1b69cad3be0>],\n",
       " 'fliers': [<matplotlib.lines.Line2D at 0x1b69cad3eb0>],\n",
       " 'means': []}"
      ]
     },
     "execution_count": 14,
     "metadata": {},
     "output_type": "execute_result"
    },
    {
     "data": {
      "image/png": "[encoded data removed]",
      "text/plain": [
       "<Figure size 432x288 with 1 Axes>"
      ]
     },
     "metadata": {
      "needs_background": "light"
     },
     "output_type": "display_data"
    }
   ],
   "source": [
    "plt.boxplot(fixed_acidity)"
   ]
  },
  {
   "cell_type": "code",
   "execution_count": 15,
   "id": "465e227a-b9ee-4380-9bf4-3cbec99c2675",
   "metadata": {},
   "outputs": [],
   "source": [
    "fixed_acidity_q1 = wine.loc[:, ['quality','fixed acidity']].groupby(['quality'], as_index = False).quantile(0.25)\n",
    "fixed_acidity_q1.columns = ['quality','fixed_acidity_q1']"
   ]
  },
  {
   "cell_type": "code",
   "execution_count": 16,
   "id": "f8332f8f-1076-41bf-b4da-f5c39e30c455",
   "metadata": {},
   "outputs": [],
   "source": [
    "fixed_acidity_q3 = wine.loc[:, ['quality','fixed acidity']].groupby(['quality'], as_index = False).quantile(0.75)\n",
    "fixed_acidity_q3.columns = ['quality','fixed_acidity_q3']"
   ]
  },
  {
   "cell_type": "code",
   "execution_count": 17,
   "id": "69f5cd4e-8c0e-4cf7-a86d-359d420b1ea6",
   "metadata": {},
   "outputs": [],
   "source": [
    "fixed_acidity_q2 = wine.loc[:, ['quality','fixed acidity']].groupby(['quality'], as_index = False).mean()\n",
    "fixed_acidity_q2.columns = ['quality','fixed_acidity_q2']"
   ]
  },
  {
   "cell_type": "code",
   "execution_count": 18,
   "id": "18352103-f36c-4039-b7c6-2c34889fa3f1",
   "metadata": {},
   "outputs": [],
   "source": [
    "fixed_acidity_iqr = fixed_acidity_q1.merge(fixed_acidity_q3, on = 'quality', how = 'inner').merge(fixed_acidity_q2, on = 'quality', how = 'inner')"
   ]
  },
  {
   "cell_type": "code",
   "execution_count": 19,
   "id": "eaa2b941-366c-4c95-a2a1-0c0f23404843",
   "metadata": {},
   "outputs": [
    {
     "data": {
      "text/html": [
       "<div>\n",
       "<style scoped>\n",
       "    .dataframe tbody tr th:only-of-type {\n",
       "        vertical-align: middle;\n",
       "    }\n",
       "\n",
       "    .dataframe tbody tr th {\n",
       "        vertical-align: top;\n",
       "    }\n",
       "\n",
       "    .dataframe thead th {\n",
       "        text-align: right;\n",
       "    }\n",
       "</style>\n",
       "<table border=\"1\" class=\"dataframe\">\n",
       "  <thead>\n",
       "    <tr style=\"text-align: right;\">\n",
       "      <th></th>\n",
       "      <th>quality</th>\n",
       "      <th>fixed_acidity_q1</th>\n",
       "      <th>fixed_acidity_q3</th>\n",
       "      <th>fixed_acidity_q2</th>\n",
       "    </tr>\n",
       "  </thead>\n",
       "  <tbody>\n",
       "    <tr>\n",
       "      <th>0</th>\n",
       "      <td>3</td>\n",
       "      <td>6.8</td>\n",
       "      <td>8.575</td>\n",
       "      <td>7.853333</td>\n",
       "    </tr>\n",
       "    <tr>\n",
       "      <th>1</th>\n",
       "      <td>4</td>\n",
       "      <td>6.4</td>\n",
       "      <td>8.000</td>\n",
       "      <td>7.288889</td>\n",
       "    </tr>\n",
       "    <tr>\n",
       "      <th>2</th>\n",
       "      <td>5</td>\n",
       "      <td>6.5</td>\n",
       "      <td>7.800</td>\n",
       "      <td>7.329085</td>\n",
       "    </tr>\n",
       "    <tr>\n",
       "      <th>3</th>\n",
       "      <td>6</td>\n",
       "      <td>6.4</td>\n",
       "      <td>7.600</td>\n",
       "      <td>7.178091</td>\n",
       "    </tr>\n",
       "    <tr>\n",
       "      <th>4</th>\n",
       "      <td>7</td>\n",
       "      <td>6.3</td>\n",
       "      <td>7.400</td>\n",
       "      <td>7.128962</td>\n",
       "    </tr>\n",
       "    <tr>\n",
       "      <th>5</th>\n",
       "      <td>8</td>\n",
       "      <td>6.2</td>\n",
       "      <td>7.300</td>\n",
       "      <td>6.840500</td>\n",
       "    </tr>\n",
       "    <tr>\n",
       "      <th>6</th>\n",
       "      <td>9</td>\n",
       "      <td>6.9</td>\n",
       "      <td>7.400</td>\n",
       "      <td>7.420000</td>\n",
       "    </tr>\n",
       "  </tbody>\n",
       "</table>\n",
       "</div>"
      ],
      "text/plain": [
       "   quality  fixed_acidity_q1  fixed_acidity_q3  fixed_acidity_q2\n",
       "0        3               6.8             8.575          7.853333\n",
       "1        4               6.4             8.000          7.288889\n",
       "2        5               6.5             7.800          7.329085\n",
       "3        6               6.4             7.600          7.178091\n",
       "4        7               6.3             7.400          7.128962\n",
       "5        8               6.2             7.300          6.840500\n",
       "6        9               6.9             7.400          7.420000"
      ]
     },
     "execution_count": 19,
     "metadata": {},
     "output_type": "execute_result"
    }
   ],
   "source": [
    "fixed_acidity_iqr"
   ]
  },
  {
   "cell_type": "code",
   "execution_count": 20,
   "id": "a754dc0b-b005-434d-86c6-d0efc7324113",
   "metadata": {},
   "outputs": [],
   "source": [
    "fixed_acidity_iqr['iqr'] = fixed_acidity_iqr.apply(lambda r: r['fixed_acidity_q3'] - r['fixed_acidity_q1'], axis = 1)"
   ]
  },
  {
   "cell_type": "code",
   "execution_count": 21,
   "id": "60d9b505-1951-4b41-bc6e-7376eacfa26f",
   "metadata": {},
   "outputs": [
    {
     "data": {
      "text/html": [
       "<div>\n",
       "<style scoped>\n",
       "    .dataframe tbody tr th:only-of-type {\n",
       "        vertical-align: middle;\n",
       "    }\n",
       "\n",
       "    .dataframe tbody tr th {\n",
       "        vertical-align: top;\n",
       "    }\n",
       "\n",
       "    .dataframe thead th {\n",
       "        text-align: right;\n",
       "    }\n",
       "</style>\n",
       "<table border=\"1\" class=\"dataframe\">\n",
       "  <thead>\n",
       "    <tr style=\"text-align: right;\">\n",
       "      <th></th>\n",
       "      <th>quality</th>\n",
       "      <th>fixed_acidity_q1</th>\n",
       "      <th>fixed_acidity_q3</th>\n",
       "      <th>fixed_acidity_q2</th>\n",
       "      <th>iqr</th>\n",
       "    </tr>\n",
       "  </thead>\n",
       "  <tbody>\n",
       "    <tr>\n",
       "      <th>0</th>\n",
       "      <td>3</td>\n",
       "      <td>6.8</td>\n",
       "      <td>8.575</td>\n",
       "      <td>7.853333</td>\n",
       "      <td>1.775</td>\n",
       "    </tr>\n",
       "    <tr>\n",
       "      <th>1</th>\n",
       "      <td>4</td>\n",
       "      <td>6.4</td>\n",
       "      <td>8.000</td>\n",
       "      <td>7.288889</td>\n",
       "      <td>1.600</td>\n",
       "    </tr>\n",
       "    <tr>\n",
       "      <th>2</th>\n",
       "      <td>5</td>\n",
       "      <td>6.5</td>\n",
       "      <td>7.800</td>\n",
       "      <td>7.329085</td>\n",
       "      <td>1.300</td>\n",
       "    </tr>\n",
       "    <tr>\n",
       "      <th>3</th>\n",
       "      <td>6</td>\n",
       "      <td>6.4</td>\n",
       "      <td>7.600</td>\n",
       "      <td>7.178091</td>\n",
       "      <td>1.200</td>\n",
       "    </tr>\n",
       "    <tr>\n",
       "      <th>4</th>\n",
       "      <td>7</td>\n",
       "      <td>6.3</td>\n",
       "      <td>7.400</td>\n",
       "      <td>7.128962</td>\n",
       "      <td>1.100</td>\n",
       "    </tr>\n",
       "    <tr>\n",
       "      <th>5</th>\n",
       "      <td>8</td>\n",
       "      <td>6.2</td>\n",
       "      <td>7.300</td>\n",
       "      <td>6.840500</td>\n",
       "      <td>1.100</td>\n",
       "    </tr>\n",
       "    <tr>\n",
       "      <th>6</th>\n",
       "      <td>9</td>\n",
       "      <td>6.9</td>\n",
       "      <td>7.400</td>\n",
       "      <td>7.420000</td>\n",
       "      <td>0.500</td>\n",
       "    </tr>\n",
       "  </tbody>\n",
       "</table>\n",
       "</div>"
      ],
      "text/plain": [
       "   quality  fixed_acidity_q1  fixed_acidity_q3  fixed_acidity_q2    iqr\n",
       "0        3               6.8             8.575          7.853333  1.775\n",
       "1        4               6.4             8.000          7.288889  1.600\n",
       "2        5               6.5             7.800          7.329085  1.300\n",
       "3        6               6.4             7.600          7.178091  1.200\n",
       "4        7               6.3             7.400          7.128962  1.100\n",
       "5        8               6.2             7.300          6.840500  1.100\n",
       "6        9               6.9             7.400          7.420000  0.500"
      ]
     },
     "execution_count": 21,
     "metadata": {},
     "output_type": "execute_result"
    }
   ],
   "source": [
    "fixed_acidity_iqr"
   ]
  },
  {
   "cell_type": "code",
   "execution_count": 22,
   "id": "31677e20-d06c-4d18-bfe8-45b1de53cbb9",
   "metadata": {},
   "outputs": [],
   "source": [
    "fixed_acidity_iqr['upper'] = fixed_acidity_iqr.apply(lambda r: (r['fixed_acidity_q3'] + 1.5*r['iqr']), axis = 1)\n",
    "fixed_acidity_iqr['lower'] = fixed_acidity_iqr.apply(lambda r: (r['fixed_acidity_q1'] - 1.5*r['iqr']), axis = 1)"
   ]
  },
  {
   "cell_type": "code",
   "execution_count": 23,
   "id": "9bd65377-624e-4205-bd76-957effb4f424",
   "metadata": {},
   "outputs": [
    {
     "data": {
      "text/html": [
       "<div>\n",
       "<style scoped>\n",
       "    .dataframe tbody tr th:only-of-type {\n",
       "        vertical-align: middle;\n",
       "    }\n",
       "\n",
       "    .dataframe tbody tr th {\n",
       "        vertical-align: top;\n",
       "    }\n",
       "\n",
       "    .dataframe thead th {\n",
       "        text-align: right;\n",
       "    }\n",
       "</style>\n",
       "<table border=\"1\" class=\"dataframe\">\n",
       "  <thead>\n",
       "    <tr style=\"text-align: right;\">\n",
       "      <th></th>\n",
       "      <th>quality</th>\n",
       "      <th>fixed_acidity_q1</th>\n",
       "      <th>fixed_acidity_q3</th>\n",
       "      <th>fixed_acidity_q2</th>\n",
       "      <th>iqr</th>\n",
       "      <th>upper</th>\n",
       "      <th>lower</th>\n",
       "    </tr>\n",
       "  </thead>\n",
       "  <tbody>\n",
       "    <tr>\n",
       "      <th>0</th>\n",
       "      <td>3</td>\n",
       "      <td>6.8</td>\n",
       "      <td>8.575</td>\n",
       "      <td>7.853333</td>\n",
       "      <td>1.775</td>\n",
       "      <td>11.2375</td>\n",
       "      <td>4.1375</td>\n",
       "    </tr>\n",
       "    <tr>\n",
       "      <th>1</th>\n",
       "      <td>4</td>\n",
       "      <td>6.4</td>\n",
       "      <td>8.000</td>\n",
       "      <td>7.288889</td>\n",
       "      <td>1.600</td>\n",
       "      <td>10.4000</td>\n",
       "      <td>4.0000</td>\n",
       "    </tr>\n",
       "    <tr>\n",
       "      <th>2</th>\n",
       "      <td>5</td>\n",
       "      <td>6.5</td>\n",
       "      <td>7.800</td>\n",
       "      <td>7.329085</td>\n",
       "      <td>1.300</td>\n",
       "      <td>9.7500</td>\n",
       "      <td>4.5500</td>\n",
       "    </tr>\n",
       "    <tr>\n",
       "      <th>3</th>\n",
       "      <td>6</td>\n",
       "      <td>6.4</td>\n",
       "      <td>7.600</td>\n",
       "      <td>7.178091</td>\n",
       "      <td>1.200</td>\n",
       "      <td>9.4000</td>\n",
       "      <td>4.6000</td>\n",
       "    </tr>\n",
       "    <tr>\n",
       "      <th>4</th>\n",
       "      <td>7</td>\n",
       "      <td>6.3</td>\n",
       "      <td>7.400</td>\n",
       "      <td>7.128962</td>\n",
       "      <td>1.100</td>\n",
       "      <td>9.0500</td>\n",
       "      <td>4.6500</td>\n",
       "    </tr>\n",
       "    <tr>\n",
       "      <th>5</th>\n",
       "      <td>8</td>\n",
       "      <td>6.2</td>\n",
       "      <td>7.300</td>\n",
       "      <td>6.840500</td>\n",
       "      <td>1.100</td>\n",
       "      <td>8.9500</td>\n",
       "      <td>4.5500</td>\n",
       "    </tr>\n",
       "    <tr>\n",
       "      <th>6</th>\n",
       "      <td>9</td>\n",
       "      <td>6.9</td>\n",
       "      <td>7.400</td>\n",
       "      <td>7.420000</td>\n",
       "      <td>0.500</td>\n",
       "      <td>8.1500</td>\n",
       "      <td>6.1500</td>\n",
       "    </tr>\n",
       "  </tbody>\n",
       "</table>\n",
       "</div>"
      ],
      "text/plain": [
       "   quality  fixed_acidity_q1  fixed_acidity_q3  fixed_acidity_q2    iqr  \\\n",
       "0        3               6.8             8.575          7.853333  1.775   \n",
       "1        4               6.4             8.000          7.288889  1.600   \n",
       "2        5               6.5             7.800          7.329085  1.300   \n",
       "3        6               6.4             7.600          7.178091  1.200   \n",
       "4        7               6.3             7.400          7.128962  1.100   \n",
       "5        8               6.2             7.300          6.840500  1.100   \n",
       "6        9               6.9             7.400          7.420000  0.500   \n",
       "\n",
       "     upper   lower  \n",
       "0  11.2375  4.1375  \n",
       "1  10.4000  4.0000  \n",
       "2   9.7500  4.5500  \n",
       "3   9.4000  4.6000  \n",
       "4   9.0500  4.6500  \n",
       "5   8.9500  4.5500  \n",
       "6   8.1500  6.1500  "
      ]
     },
     "execution_count": 23,
     "metadata": {},
     "output_type": "execute_result"
    }
   ],
   "source": [
    "fixed_acidity_iqr"
   ]
  },
  {
   "cell_type": "code",
   "execution_count": 24,
   "id": "a63cd096-fc5f-45b7-96bb-77c0f4f1976d",
   "metadata": {},
   "outputs": [],
   "source": [
    "wine_t = wine.merge(fixed_acidity_iqr, on = 'quality', how = 'left')"
   ]
  },
  {
   "cell_type": "code",
   "execution_count": 25,
   "id": "251031f7-b660-4f54-a8f3-d4a902e00ab5",
   "metadata": {},
   "outputs": [
    {
     "data": {
      "text/html": [
       "<div>\n",
       "<style scoped>\n",
       "    .dataframe tbody tr th:only-of-type {\n",
       "        vertical-align: middle;\n",
       "    }\n",
       "\n",
       "    .dataframe tbody tr th {\n",
       "        vertical-align: top;\n",
       "    }\n",
       "\n",
       "    .dataframe thead th {\n",
       "        text-align: right;\n",
       "    }\n",
       "</style>\n",
       "<table border=\"1\" class=\"dataframe\">\n",
       "  <thead>\n",
       "    <tr style=\"text-align: right;\">\n",
       "      <th></th>\n",
       "      <th>type</th>\n",
       "      <th>fixed acidity</th>\n",
       "      <th>volatile acidity</th>\n",
       "      <th>citric acid</th>\n",
       "      <th>residual sugar</th>\n",
       "      <th>chlorides</th>\n",
       "      <th>free sulfur dioxide</th>\n",
       "      <th>total sulfur dioxide</th>\n",
       "      <th>density</th>\n",
       "      <th>pH</th>\n",
       "      <th>sulphates</th>\n",
       "      <th>alcohol</th>\n",
       "      <th>quality</th>\n",
       "      <th>fixed_acidity_q1</th>\n",
       "      <th>fixed_acidity_q3</th>\n",
       "      <th>fixed_acidity_q2</th>\n",
       "      <th>iqr</th>\n",
       "      <th>upper</th>\n",
       "      <th>lower</th>\n",
       "    </tr>\n",
       "  </thead>\n",
       "  <tbody>\n",
       "    <tr>\n",
       "      <th>0</th>\n",
       "      <td>white</td>\n",
       "      <td>7.0</td>\n",
       "      <td>0.27</td>\n",
       "      <td>0.36</td>\n",
       "      <td>20.7</td>\n",
       "      <td>0.045</td>\n",
       "      <td>45.0</td>\n",
       "      <td>170.0</td>\n",
       "      <td>1.0010</td>\n",
       "      <td>3.00</td>\n",
       "      <td>0.45</td>\n",
       "      <td>8.8</td>\n",
       "      <td>6</td>\n",
       "      <td>6.4</td>\n",
       "      <td>7.6</td>\n",
       "      <td>7.178091</td>\n",
       "      <td>1.2</td>\n",
       "      <td>9.4</td>\n",
       "      <td>4.6</td>\n",
       "    </tr>\n",
       "    <tr>\n",
       "      <th>1</th>\n",
       "      <td>white</td>\n",
       "      <td>6.3</td>\n",
       "      <td>0.30</td>\n",
       "      <td>0.34</td>\n",
       "      <td>1.6</td>\n",
       "      <td>0.049</td>\n",
       "      <td>14.0</td>\n",
       "      <td>132.0</td>\n",
       "      <td>0.9940</td>\n",
       "      <td>3.30</td>\n",
       "      <td>0.49</td>\n",
       "      <td>9.5</td>\n",
       "      <td>6</td>\n",
       "      <td>6.4</td>\n",
       "      <td>7.6</td>\n",
       "      <td>7.178091</td>\n",
       "      <td>1.2</td>\n",
       "      <td>9.4</td>\n",
       "      <td>4.6</td>\n",
       "    </tr>\n",
       "    <tr>\n",
       "      <th>2</th>\n",
       "      <td>white</td>\n",
       "      <td>8.1</td>\n",
       "      <td>0.28</td>\n",
       "      <td>0.40</td>\n",
       "      <td>6.9</td>\n",
       "      <td>0.050</td>\n",
       "      <td>30.0</td>\n",
       "      <td>97.0</td>\n",
       "      <td>0.9951</td>\n",
       "      <td>3.26</td>\n",
       "      <td>0.44</td>\n",
       "      <td>10.1</td>\n",
       "      <td>6</td>\n",
       "      <td>6.4</td>\n",
       "      <td>7.6</td>\n",
       "      <td>7.178091</td>\n",
       "      <td>1.2</td>\n",
       "      <td>9.4</td>\n",
       "      <td>4.6</td>\n",
       "    </tr>\n",
       "    <tr>\n",
       "      <th>3</th>\n",
       "      <td>white</td>\n",
       "      <td>7.2</td>\n",
       "      <td>0.23</td>\n",
       "      <td>0.32</td>\n",
       "      <td>8.5</td>\n",
       "      <td>0.058</td>\n",
       "      <td>47.0</td>\n",
       "      <td>186.0</td>\n",
       "      <td>0.9956</td>\n",
       "      <td>3.19</td>\n",
       "      <td>0.40</td>\n",
       "      <td>9.9</td>\n",
       "      <td>6</td>\n",
       "      <td>6.4</td>\n",
       "      <td>7.6</td>\n",
       "      <td>7.178091</td>\n",
       "      <td>1.2</td>\n",
       "      <td>9.4</td>\n",
       "      <td>4.6</td>\n",
       "    </tr>\n",
       "    <tr>\n",
       "      <th>4</th>\n",
       "      <td>white</td>\n",
       "      <td>7.2</td>\n",
       "      <td>0.23</td>\n",
       "      <td>0.32</td>\n",
       "      <td>8.5</td>\n",
       "      <td>0.058</td>\n",
       "      <td>47.0</td>\n",
       "      <td>186.0</td>\n",
       "      <td>0.9956</td>\n",
       "      <td>3.19</td>\n",
       "      <td>0.40</td>\n",
       "      <td>9.9</td>\n",
       "      <td>6</td>\n",
       "      <td>6.4</td>\n",
       "      <td>7.6</td>\n",
       "      <td>7.178091</td>\n",
       "      <td>1.2</td>\n",
       "      <td>9.4</td>\n",
       "      <td>4.6</td>\n",
       "    </tr>\n",
       "  </tbody>\n",
       "</table>\n",
       "</div>"
      ],
      "text/plain": [
       "    type  fixed acidity  volatile acidity  citric acid  residual sugar  \\\n",
       "0  white            7.0              0.27         0.36            20.7   \n",
       "1  white            6.3              0.30         0.34             1.6   \n",
       "2  white            8.1              0.28         0.40             6.9   \n",
       "3  white            7.2              0.23         0.32             8.5   \n",
       "4  white            7.2              0.23         0.32             8.5   \n",
       "\n",
       "   chlorides  free sulfur dioxide  total sulfur dioxide  density    pH  \\\n",
       "0      0.045                 45.0                 170.0   1.0010  3.00   \n",
       "1      0.049                 14.0                 132.0   0.9940  3.30   \n",
       "2      0.050                 30.0                  97.0   0.9951  3.26   \n",
       "3      0.058                 47.0                 186.0   0.9956  3.19   \n",
       "4      0.058                 47.0                 186.0   0.9956  3.19   \n",
       "\n",
       "   sulphates  alcohol  quality  fixed_acidity_q1  fixed_acidity_q3  \\\n",
       "0       0.45      8.8        6               6.4               7.6   \n",
       "1       0.49      9.5        6               6.4               7.6   \n",
       "2       0.44     10.1        6               6.4               7.6   \n",
       "3       0.40      9.9        6               6.4               7.6   \n",
       "4       0.40      9.9        6               6.4               7.6   \n",
       "\n",
       "   fixed_acidity_q2  iqr  upper  lower  \n",
       "0          7.178091  1.2    9.4    4.6  \n",
       "1          7.178091  1.2    9.4    4.6  \n",
       "2          7.178091  1.2    9.4    4.6  \n",
       "3          7.178091  1.2    9.4    4.6  \n",
       "4          7.178091  1.2    9.4    4.6  "
      ]
     },
     "execution_count": 25,
     "metadata": {},
     "output_type": "execute_result"
    }
   ],
   "source": [
    "wine_t.head(5)"
   ]
  },
  {
   "cell_type": "code",
   "execution_count": 26,
   "id": "b1c3d8eb-27d2-4d1a-87f0-623883905dd3",
   "metadata": {},
   "outputs": [],
   "source": [
    "def getRealAcidity(r):\n",
    "    if ( r[\"fixed acidity\"] <= r[\"lower\"] ) | ( r[\"fixed acidity\"] >= r[\"upper\"] ):\n",
    "        return r[\"fixed_acidity_q2\"]\n",
    "    else:\n",
    "        return r[\"fixed acidity\"]"
   ]
  },
  {
   "cell_type": "code",
   "execution_count": 27,
   "id": "e8527f1c-7dce-4b06-9662-5eb787309044",
   "metadata": {},
   "outputs": [],
   "source": [
    "wine_t['New_fixed_acidity'] = wine_t.apply( lambda r: getRealAcidity(r) , axis = 1 )"
   ]
  },
  {
   "cell_type": "code",
   "execution_count": 28,
   "id": "20d4119f-62c2-4e6c-b189-22a126cc8100",
   "metadata": {},
   "outputs": [
    {
     "data": {
      "text/html": [
       "<div>\n",
       "<style scoped>\n",
       "    .dataframe tbody tr th:only-of-type {\n",
       "        vertical-align: middle;\n",
       "    }\n",
       "\n",
       "    .dataframe tbody tr th {\n",
       "        vertical-align: top;\n",
       "    }\n",
       "\n",
       "    .dataframe thead th {\n",
       "        text-align: right;\n",
       "    }\n",
       "</style>\n",
       "<table border=\"1\" class=\"dataframe\">\n",
       "  <thead>\n",
       "    <tr style=\"text-align: right;\">\n",
       "      <th></th>\n",
       "      <th>type</th>\n",
       "      <th>fixed acidity</th>\n",
       "      <th>volatile acidity</th>\n",
       "      <th>citric acid</th>\n",
       "      <th>residual sugar</th>\n",
       "      <th>chlorides</th>\n",
       "      <th>free sulfur dioxide</th>\n",
       "      <th>total sulfur dioxide</th>\n",
       "      <th>density</th>\n",
       "      <th>pH</th>\n",
       "      <th>sulphates</th>\n",
       "      <th>alcohol</th>\n",
       "      <th>quality</th>\n",
       "      <th>fixed_acidity_q1</th>\n",
       "      <th>fixed_acidity_q3</th>\n",
       "      <th>fixed_acidity_q2</th>\n",
       "      <th>iqr</th>\n",
       "      <th>upper</th>\n",
       "      <th>lower</th>\n",
       "      <th>New_fixed_acidity</th>\n",
       "    </tr>\n",
       "  </thead>\n",
       "  <tbody>\n",
       "    <tr>\n",
       "      <th>0</th>\n",
       "      <td>white</td>\n",
       "      <td>7.0</td>\n",
       "      <td>0.27</td>\n",
       "      <td>0.36</td>\n",
       "      <td>20.7</td>\n",
       "      <td>0.045</td>\n",
       "      <td>45.0</td>\n",
       "      <td>170.0</td>\n",
       "      <td>1.0010</td>\n",
       "      <td>3.00</td>\n",
       "      <td>0.45</td>\n",
       "      <td>8.8</td>\n",
       "      <td>6</td>\n",
       "      <td>6.4</td>\n",
       "      <td>7.6</td>\n",
       "      <td>7.178091</td>\n",
       "      <td>1.2</td>\n",
       "      <td>9.4</td>\n",
       "      <td>4.6</td>\n",
       "      <td>7.0</td>\n",
       "    </tr>\n",
       "    <tr>\n",
       "      <th>1</th>\n",
       "      <td>white</td>\n",
       "      <td>6.3</td>\n",
       "      <td>0.30</td>\n",
       "      <td>0.34</td>\n",
       "      <td>1.6</td>\n",
       "      <td>0.049</td>\n",
       "      <td>14.0</td>\n",
       "      <td>132.0</td>\n",
       "      <td>0.9940</td>\n",
       "      <td>3.30</td>\n",
       "      <td>0.49</td>\n",
       "      <td>9.5</td>\n",
       "      <td>6</td>\n",
       "      <td>6.4</td>\n",
       "      <td>7.6</td>\n",
       "      <td>7.178091</td>\n",
       "      <td>1.2</td>\n",
       "      <td>9.4</td>\n",
       "      <td>4.6</td>\n",
       "      <td>6.3</td>\n",
       "    </tr>\n",
       "    <tr>\n",
       "      <th>2</th>\n",
       "      <td>white</td>\n",
       "      <td>8.1</td>\n",
       "      <td>0.28</td>\n",
       "      <td>0.40</td>\n",
       "      <td>6.9</td>\n",
       "      <td>0.050</td>\n",
       "      <td>30.0</td>\n",
       "      <td>97.0</td>\n",
       "      <td>0.9951</td>\n",
       "      <td>3.26</td>\n",
       "      <td>0.44</td>\n",
       "      <td>10.1</td>\n",
       "      <td>6</td>\n",
       "      <td>6.4</td>\n",
       "      <td>7.6</td>\n",
       "      <td>7.178091</td>\n",
       "      <td>1.2</td>\n",
       "      <td>9.4</td>\n",
       "      <td>4.6</td>\n",
       "      <td>8.1</td>\n",
       "    </tr>\n",
       "    <tr>\n",
       "      <th>3</th>\n",
       "      <td>white</td>\n",
       "      <td>7.2</td>\n",
       "      <td>0.23</td>\n",
       "      <td>0.32</td>\n",
       "      <td>8.5</td>\n",
       "      <td>0.058</td>\n",
       "      <td>47.0</td>\n",
       "      <td>186.0</td>\n",
       "      <td>0.9956</td>\n",
       "      <td>3.19</td>\n",
       "      <td>0.40</td>\n",
       "      <td>9.9</td>\n",
       "      <td>6</td>\n",
       "      <td>6.4</td>\n",
       "      <td>7.6</td>\n",
       "      <td>7.178091</td>\n",
       "      <td>1.2</td>\n",
       "      <td>9.4</td>\n",
       "      <td>4.6</td>\n",
       "      <td>7.2</td>\n",
       "    </tr>\n",
       "    <tr>\n",
       "      <th>4</th>\n",
       "      <td>white</td>\n",
       "      <td>7.2</td>\n",
       "      <td>0.23</td>\n",
       "      <td>0.32</td>\n",
       "      <td>8.5</td>\n",
       "      <td>0.058</td>\n",
       "      <td>47.0</td>\n",
       "      <td>186.0</td>\n",
       "      <td>0.9956</td>\n",
       "      <td>3.19</td>\n",
       "      <td>0.40</td>\n",
       "      <td>9.9</td>\n",
       "      <td>6</td>\n",
       "      <td>6.4</td>\n",
       "      <td>7.6</td>\n",
       "      <td>7.178091</td>\n",
       "      <td>1.2</td>\n",
       "      <td>9.4</td>\n",
       "      <td>4.6</td>\n",
       "      <td>7.2</td>\n",
       "    </tr>\n",
       "  </tbody>\n",
       "</table>\n",
       "</div>"
      ],
      "text/plain": [
       "    type  fixed acidity  volatile acidity  citric acid  residual sugar  \\\n",
       "0  white            7.0              0.27         0.36            20.7   \n",
       "1  white            6.3              0.30         0.34             1.6   \n",
       "2  white            8.1              0.28         0.40             6.9   \n",
       "3  white            7.2              0.23         0.32             8.5   \n",
       "4  white            7.2              0.23         0.32             8.5   \n",
       "\n",
       "   chlorides  free sulfur dioxide  total sulfur dioxide  density    pH  \\\n",
       "0      0.045                 45.0                 170.0   1.0010  3.00   \n",
       "1      0.049                 14.0                 132.0   0.9940  3.30   \n",
       "2      0.050                 30.0                  97.0   0.9951  3.26   \n",
       "3      0.058                 47.0                 186.0   0.9956  3.19   \n",
       "4      0.058                 47.0                 186.0   0.9956  3.19   \n",
       "\n",
       "   sulphates  alcohol  quality  fixed_acidity_q1  fixed_acidity_q3  \\\n",
       "0       0.45      8.8        6               6.4               7.6   \n",
       "1       0.49      9.5        6               6.4               7.6   \n",
       "2       0.44     10.1        6               6.4               7.6   \n",
       "3       0.40      9.9        6               6.4               7.6   \n",
       "4       0.40      9.9        6               6.4               7.6   \n",
       "\n",
       "   fixed_acidity_q2  iqr  upper  lower  New_fixed_acidity  \n",
       "0          7.178091  1.2    9.4    4.6                7.0  \n",
       "1          7.178091  1.2    9.4    4.6                6.3  \n",
       "2          7.178091  1.2    9.4    4.6                8.1  \n",
       "3          7.178091  1.2    9.4    4.6                7.2  \n",
       "4          7.178091  1.2    9.4    4.6                7.2  "
      ]
     },
     "execution_count": 28,
     "metadata": {},
     "output_type": "execute_result"
    }
   ],
   "source": [
    "wine_t.head(5)"
   ]
  },
  {
   "cell_type": "code",
   "execution_count": 29,
   "id": "b997c5eb-89af-43c3-a341-a753b40b6969",
   "metadata": {},
   "outputs": [],
   "source": [
    "new_fixed_acidity = wine_t.loc[(wine_t['quality'] == 8), ['New_fixed_acidity']]"
   ]
  },
  {
   "cell_type": "code",
   "execution_count": 30,
   "id": "bc944aa0-69cd-4314-993b-866d718cbcb9",
   "metadata": {},
   "outputs": [
    {
     "data": {
      "text/plain": [
       "{'whiskers': [<matplotlib.lines.Line2D at 0x1b69df16ee0>,\n",
       "  <matplotlib.lines.Line2D at 0x1b69df091f0>],\n",
       " 'caps': [<matplotlib.lines.Line2D at 0x1b69df094f0>,\n",
       "  <matplotlib.lines.Line2D at 0x1b69df097c0>],\n",
       " 'boxes': [<matplotlib.lines.Line2D at 0x1b69df16c10>],\n",
       " 'medians': [<matplotlib.lines.Line2D at 0x1b69df09a90>],\n",
       " 'fliers': [<matplotlib.lines.Line2D at 0x1b69df09d60>],\n",
       " 'means': []}"
      ]
     },
     "execution_count": 30,
     "metadata": {},
     "output_type": "execute_result"
    },
    {
     "data": {
      "image/png": "[encoded data removed]",
      "text/plain": [
       "<Figure size 432x288 with 1 Axes>"
      ]
     },
     "metadata": {
      "needs_background": "light"
     },
     "output_type": "display_data"
    }
   ],
   "source": [
    "plt.boxplot(new_fixed_acidity)"
   ]
  },
  {
   "cell_type": "code",
   "execution_count": 31,
   "id": "b5753015-c513-47e8-bf95-7c72bd770306",
   "metadata": {},
   "outputs": [],
   "source": [
    "wine_t = wine_t.drop(['fixed acidity','fixed_acidity_q1','fixed_acidity_q3','fixed_acidity_q2','iqr','upper','lower'], axis = 1)"
   ]
  },
  {
   "cell_type": "code",
   "execution_count": 32,
   "id": "e2761c44-6522-426f-96a2-f84871bcb095",
   "metadata": {},
   "outputs": [
    {
     "data": {
      "text/html": [
       "<div>\n",
       "<style scoped>\n",
       "    .dataframe tbody tr th:only-of-type {\n",
       "        vertical-align: middle;\n",
       "    }\n",
       "\n",
       "    .dataframe tbody tr th {\n",
       "        vertical-align: top;\n",
       "    }\n",
       "\n",
       "    .dataframe thead th {\n",
       "        text-align: right;\n",
       "    }\n",
       "</style>\n",
       "<table border=\"1\" class=\"dataframe\">\n",
       "  <thead>\n",
       "    <tr style=\"text-align: right;\">\n",
       "      <th></th>\n",
       "      <th>type</th>\n",
       "      <th>volatile acidity</th>\n",
       "      <th>citric acid</th>\n",
       "      <th>residual sugar</th>\n",
       "      <th>chlorides</th>\n",
       "      <th>free sulfur dioxide</th>\n",
       "      <th>total sulfur dioxide</th>\n",
       "      <th>density</th>\n",
       "      <th>pH</th>\n",
       "      <th>sulphates</th>\n",
       "      <th>alcohol</th>\n",
       "      <th>quality</th>\n",
       "      <th>New_fixed_acidity</th>\n",
       "    </tr>\n",
       "  </thead>\n",
       "  <tbody>\n",
       "    <tr>\n",
       "      <th>0</th>\n",
       "      <td>white</td>\n",
       "      <td>0.27</td>\n",
       "      <td>0.36</td>\n",
       "      <td>20.7</td>\n",
       "      <td>0.045</td>\n",
       "      <td>45.0</td>\n",
       "      <td>170.0</td>\n",
       "      <td>1.0010</td>\n",
       "      <td>3.00</td>\n",
       "      <td>0.45</td>\n",
       "      <td>8.8</td>\n",
       "      <td>6</td>\n",
       "      <td>7.0</td>\n",
       "    </tr>\n",
       "    <tr>\n",
       "      <th>1</th>\n",
       "      <td>white</td>\n",
       "      <td>0.30</td>\n",
       "      <td>0.34</td>\n",
       "      <td>1.6</td>\n",
       "      <td>0.049</td>\n",
       "      <td>14.0</td>\n",
       "      <td>132.0</td>\n",
       "      <td>0.9940</td>\n",
       "      <td>3.30</td>\n",
       "      <td>0.49</td>\n",
       "      <td>9.5</td>\n",
       "      <td>6</td>\n",
       "      <td>6.3</td>\n",
       "    </tr>\n",
       "    <tr>\n",
       "      <th>2</th>\n",
       "      <td>white</td>\n",
       "      <td>0.28</td>\n",
       "      <td>0.40</td>\n",
       "      <td>6.9</td>\n",
       "      <td>0.050</td>\n",
       "      <td>30.0</td>\n",
       "      <td>97.0</td>\n",
       "      <td>0.9951</td>\n",
       "      <td>3.26</td>\n",
       "      <td>0.44</td>\n",
       "      <td>10.1</td>\n",
       "      <td>6</td>\n",
       "      <td>8.1</td>\n",
       "    </tr>\n",
       "    <tr>\n",
       "      <th>3</th>\n",
       "      <td>white</td>\n",
       "      <td>0.23</td>\n",
       "      <td>0.32</td>\n",
       "      <td>8.5</td>\n",
       "      <td>0.058</td>\n",
       "      <td>47.0</td>\n",
       "      <td>186.0</td>\n",
       "      <td>0.9956</td>\n",
       "      <td>3.19</td>\n",
       "      <td>0.40</td>\n",
       "      <td>9.9</td>\n",
       "      <td>6</td>\n",
       "      <td>7.2</td>\n",
       "    </tr>\n",
       "    <tr>\n",
       "      <th>4</th>\n",
       "      <td>white</td>\n",
       "      <td>0.23</td>\n",
       "      <td>0.32</td>\n",
       "      <td>8.5</td>\n",
       "      <td>0.058</td>\n",
       "      <td>47.0</td>\n",
       "      <td>186.0</td>\n",
       "      <td>0.9956</td>\n",
       "      <td>3.19</td>\n",
       "      <td>0.40</td>\n",
       "      <td>9.9</td>\n",
       "      <td>6</td>\n",
       "      <td>7.2</td>\n",
       "    </tr>\n",
       "  </tbody>\n",
       "</table>\n",
       "</div>"
      ],
      "text/plain": [
       "    type  volatile acidity  citric acid  residual sugar  chlorides  \\\n",
       "0  white              0.27         0.36            20.7      0.045   \n",
       "1  white              0.30         0.34             1.6      0.049   \n",
       "2  white              0.28         0.40             6.9      0.050   \n",
       "3  white              0.23         0.32             8.5      0.058   \n",
       "4  white              0.23         0.32             8.5      0.058   \n",
       "\n",
       "   free sulfur dioxide  total sulfur dioxide  density    pH  sulphates  \\\n",
       "0                 45.0                 170.0   1.0010  3.00       0.45   \n",
       "1                 14.0                 132.0   0.9940  3.30       0.49   \n",
       "2                 30.0                  97.0   0.9951  3.26       0.44   \n",
       "3                 47.0                 186.0   0.9956  3.19       0.40   \n",
       "4                 47.0                 186.0   0.9956  3.19       0.40   \n",
       "\n",
       "   alcohol  quality  New_fixed_acidity  \n",
       "0      8.8        6                7.0  \n",
       "1      9.5        6                6.3  \n",
       "2     10.1        6                8.1  \n",
       "3      9.9        6                7.2  \n",
       "4      9.9        6                7.2  "
      ]
     },
     "execution_count": 32,
     "metadata": {},
     "output_type": "execute_result"
    }
   ],
   "source": [
    "wine_t.head(5)"
   ]
  },
  {
   "cell_type": "code",
   "execution_count": 33,
   "id": "1cb6a434-f96a-437c-8f75-9c99e53b8156",
   "metadata": {},
   "outputs": [
    {
     "data": {
      "text/plain": [
       "type                    0\n",
       "volatile acidity        8\n",
       "citric acid             3\n",
       "residual sugar          2\n",
       "chlorides               2\n",
       "free sulfur dioxide     0\n",
       "total sulfur dioxide    0\n",
       "density                 0\n",
       "pH                      9\n",
       "sulphates               4\n",
       "alcohol                 0\n",
       "quality                 0\n",
       "New_fixed_acidity       0\n",
       "dtype: int64"
      ]
     },
     "execution_count": 33,
     "metadata": {},
     "output_type": "execute_result"
    }
   ],
   "source": [
    "wine_t.isnull().sum()"
   ]
  },
  {
   "cell_type": "code",
   "execution_count": null,
   "id": "73473f22-3183-4607-a0b8-2db2569f7b48",
   "metadata": {},
   "outputs": [],
   "source": []
  },
  {
   "cell_type": "markdown",
   "id": "239816f5-d0eb-4e22-a742-7f5a871c3f1d",
   "metadata": {},
   "source": [
    "#### Limpieza de la variable 'volatile acidity'"
   ]
  },
  {
   "cell_type": "code",
   "execution_count": 34,
   "id": "9b47d7a1-d3a5-43ff-80af-26b8069eadfb",
   "metadata": {},
   "outputs": [],
   "source": [
    "volatile_acidity = wine_t"
   ]
  },
  {
   "cell_type": "markdown",
   "id": "90e358f4-6649-4a1a-858e-7ef7c88329e1",
   "metadata": {},
   "source": [
    "- Remplazando valores nulos por el promedio"
   ]
  },
  {
   "cell_type": "code",
   "execution_count": 35,
   "id": "bebbd67b-49b8-4beb-bf52-a490f1784694",
   "metadata": {},
   "outputs": [],
   "source": [
    "prom_volatile = volatile_acidity['volatile acidity'].mean()"
   ]
  },
  {
   "cell_type": "code",
   "execution_count": 36,
   "id": "72e9b688-9c88-4b89-b608-97d6a590e421",
   "metadata": {},
   "outputs": [
    {
     "data": {
      "text/plain": [
       "0.33969101556480247"
      ]
     },
     "execution_count": 36,
     "metadata": {},
     "output_type": "execute_result"
    }
   ],
   "source": [
    "prom_volatile"
   ]
  },
  {
   "cell_type": "code",
   "execution_count": 37,
   "id": "d76a2e30-f003-4992-85d4-d636d950e45e",
   "metadata": {},
   "outputs": [
    {
     "data": {
      "text/plain": [
       "8"
      ]
     },
     "execution_count": 37,
     "metadata": {},
     "output_type": "execute_result"
    }
   ],
   "source": [
    "volatile_acidity['volatile acidity'].isnull().sum()"
   ]
  },
  {
   "cell_type": "code",
   "execution_count": 38,
   "id": "89f7137e-10b6-45b6-a21e-5eec2e40f399",
   "metadata": {},
   "outputs": [],
   "source": [
    "volatile_acidity['volatile acidity'] = volatile_acidity['volatile acidity'].fillna(prom_volatile)"
   ]
  },
  {
   "cell_type": "code",
   "execution_count": 39,
   "id": "85cb141c-b40f-43e9-87f3-76c80104a070",
   "metadata": {},
   "outputs": [
    {
     "data": {
      "text/plain": [
       "0"
      ]
     },
     "execution_count": 39,
     "metadata": {},
     "output_type": "execute_result"
    }
   ],
   "source": [
    "volatile_acidity['volatile acidity'].isnull().sum()"
   ]
  },
  {
   "cell_type": "markdown",
   "id": "74ab72df-695f-48f2-a161-1582f3381928",
   "metadata": {},
   "source": [
    "- Acidez volátil de los vinos que tienen una calidad de 8:"
   ]
  },
  {
   "cell_type": "code",
   "execution_count": 40,
   "id": "c7a73e27-42cd-46de-bfce-95be926f2c52",
   "metadata": {},
   "outputs": [],
   "source": [
    "volatile_acidity = wine_t.loc[(wine_t['quality'] == 8), ['volatile acidity']]"
   ]
  },
  {
   "cell_type": "code",
   "execution_count": 41,
   "id": "86e16558-99cd-485f-94f3-b714f9aaec3a",
   "metadata": {},
   "outputs": [
    {
     "data": {
      "text/plain": [
       "{'whiskers': [<matplotlib.lines.Line2D at 0x1b69dc112b0>,\n",
       "  <matplotlib.lines.Line2D at 0x1b69dc11580>],\n",
       " 'caps': [<matplotlib.lines.Line2D at 0x1b69dc11850>,\n",
       "  <matplotlib.lines.Line2D at 0x1b69dc11b20>],\n",
       " 'boxes': [<matplotlib.lines.Line2D at 0x1b69dc01fa0>],\n",
       " 'medians': [<matplotlib.lines.Line2D at 0x1b69dc11df0>],\n",
       " 'fliers': [<matplotlib.lines.Line2D at 0x1b69dc1d100>],\n",
       " 'means': []}"
      ]
     },
     "execution_count": 41,
     "metadata": {},
     "output_type": "execute_result"
    },
    {
     "data": {
      "image/png": "[encoded data removed]",
      "text/plain": [
       "<Figure size 432x288 with 1 Axes>"
      ]
     },
     "metadata": {
      "needs_background": "light"
     },
     "output_type": "display_data"
    }
   ],
   "source": [
    "plt.boxplot(volatile_acidity)"
   ]
  },
  {
   "cell_type": "code",
   "execution_count": 42,
   "id": "dc13dc1e-461c-4c72-99ea-23eb7409ed58",
   "metadata": {},
   "outputs": [],
   "source": [
    "volatile_acidity_q1 = wine_t.loc[:, ['quality','volatile acidity']].groupby(['quality'], as_index = False).quantile(0.25)\n",
    "volatile_acidity_q1.columns = ['quality','volatile_acidity_q1']"
   ]
  },
  {
   "cell_type": "code",
   "execution_count": 43,
   "id": "05ce552c-aed1-469b-8929-d3b2f4dfcd65",
   "metadata": {},
   "outputs": [],
   "source": [
    "volatile_acidity_q3 = wine_t.loc[:, ['quality','volatile acidity']].groupby(['quality'], as_index = False).quantile(0.75)\n",
    "volatile_acidity_q3.columns = ['quality','volatile_acidity_q3']"
   ]
  },
  {
   "cell_type": "code",
   "execution_count": 44,
   "id": "40f0c87a-0067-4a76-844a-446ff8e0d099",
   "metadata": {},
   "outputs": [],
   "source": [
    "volatile_acidity_q2 = wine_t.loc[:, ['quality','volatile acidity']].groupby(['quality'], as_index = False).mean()\n",
    "volatile_acidity_q2.columns = ['quality','volatile_acidity_q2']"
   ]
  },
  {
   "cell_type": "code",
   "execution_count": 45,
   "id": "d7491d7b-de2c-4708-82b3-55fa3bb61e6f",
   "metadata": {},
   "outputs": [],
   "source": [
    "volatile_acidity_iqr = volatile_acidity_q1.merge(volatile_acidity_q3, on = 'quality', how = 'inner').merge(volatile_acidity_q2, on = 'quality', how = 'inner')"
   ]
  },
  {
   "cell_type": "code",
   "execution_count": 46,
   "id": "ff571e5a-7a48-43a1-a8d0-bb011ce6b842",
   "metadata": {},
   "outputs": [
    {
     "data": {
      "text/html": [
       "<div>\n",
       "<style scoped>\n",
       "    .dataframe tbody tr th:only-of-type {\n",
       "        vertical-align: middle;\n",
       "    }\n",
       "\n",
       "    .dataframe tbody tr th {\n",
       "        vertical-align: top;\n",
       "    }\n",
       "\n",
       "    .dataframe thead th {\n",
       "        text-align: right;\n",
       "    }\n",
       "</style>\n",
       "<table border=\"1\" class=\"dataframe\">\n",
       "  <thead>\n",
       "    <tr style=\"text-align: right;\">\n",
       "      <th></th>\n",
       "      <th>quality</th>\n",
       "      <th>volatile_acidity_q1</th>\n",
       "      <th>volatile_acidity_q3</th>\n",
       "      <th>volatile_acidity_q2</th>\n",
       "    </tr>\n",
       "  </thead>\n",
       "  <tbody>\n",
       "    <tr>\n",
       "      <th>0</th>\n",
       "      <td>3</td>\n",
       "      <td>0.2525</td>\n",
       "      <td>0.6325</td>\n",
       "      <td>0.517000</td>\n",
       "    </tr>\n",
       "    <tr>\n",
       "      <th>1</th>\n",
       "      <td>4</td>\n",
       "      <td>0.2800</td>\n",
       "      <td>0.6100</td>\n",
       "      <td>0.457963</td>\n",
       "    </tr>\n",
       "    <tr>\n",
       "      <th>2</th>\n",
       "      <td>5</td>\n",
       "      <td>0.2600</td>\n",
       "      <td>0.4900</td>\n",
       "      <td>0.389721</td>\n",
       "    </tr>\n",
       "    <tr>\n",
       "      <th>3</th>\n",
       "      <td>6</td>\n",
       "      <td>0.2100</td>\n",
       "      <td>0.3700</td>\n",
       "      <td>0.313767</td>\n",
       "    </tr>\n",
       "    <tr>\n",
       "      <th>4</th>\n",
       "      <td>7</td>\n",
       "      <td>0.2000</td>\n",
       "      <td>0.3400</td>\n",
       "      <td>0.288989</td>\n",
       "    </tr>\n",
       "    <tr>\n",
       "      <th>5</th>\n",
       "      <td>8</td>\n",
       "      <td>0.2000</td>\n",
       "      <td>0.3500</td>\n",
       "      <td>0.291010</td>\n",
       "    </tr>\n",
       "    <tr>\n",
       "      <th>6</th>\n",
       "      <td>9</td>\n",
       "      <td>0.2600</td>\n",
       "      <td>0.3600</td>\n",
       "      <td>0.298000</td>\n",
       "    </tr>\n",
       "  </tbody>\n",
       "</table>\n",
       "</div>"
      ],
      "text/plain": [
       "   quality  volatile_acidity_q1  volatile_acidity_q3  volatile_acidity_q2\n",
       "0        3               0.2525               0.6325             0.517000\n",
       "1        4               0.2800               0.6100             0.457963\n",
       "2        5               0.2600               0.4900             0.389721\n",
       "3        6               0.2100               0.3700             0.313767\n",
       "4        7               0.2000               0.3400             0.288989\n",
       "5        8               0.2000               0.3500             0.291010\n",
       "6        9               0.2600               0.3600             0.298000"
      ]
     },
     "execution_count": 46,
     "metadata": {},
     "output_type": "execute_result"
    }
   ],
   "source": [
    "volatile_acidity_iqr"
   ]
  },
  {
   "cell_type": "code",
   "execution_count": 47,
   "id": "9f778a9d-c782-4ce3-b2c1-2de095d3ffef",
   "metadata": {},
   "outputs": [],
   "source": [
    "volatile_acidity_iqr['iqr'] = volatile_acidity_iqr.apply(lambda r: r['volatile_acidity_q3'] - r['volatile_acidity_q1'], axis = 1)"
   ]
  },
  {
   "cell_type": "code",
   "execution_count": 48,
   "id": "9f7d0610-2a18-4507-93d2-2830a6de75dc",
   "metadata": {},
   "outputs": [
    {
     "data": {
      "text/html": [
       "<div>\n",
       "<style scoped>\n",
       "    .dataframe tbody tr th:only-of-type {\n",
       "        vertical-align: middle;\n",
       "    }\n",
       "\n",
       "    .dataframe tbody tr th {\n",
       "        vertical-align: top;\n",
       "    }\n",
       "\n",
       "    .dataframe thead th {\n",
       "        text-align: right;\n",
       "    }\n",
       "</style>\n",
       "<table border=\"1\" class=\"dataframe\">\n",
       "  <thead>\n",
       "    <tr style=\"text-align: right;\">\n",
       "      <th></th>\n",
       "      <th>quality</th>\n",
       "      <th>volatile_acidity_q1</th>\n",
       "      <th>volatile_acidity_q3</th>\n",
       "      <th>volatile_acidity_q2</th>\n",
       "      <th>iqr</th>\n",
       "    </tr>\n",
       "  </thead>\n",
       "  <tbody>\n",
       "    <tr>\n",
       "      <th>0</th>\n",
       "      <td>3</td>\n",
       "      <td>0.2525</td>\n",
       "      <td>0.6325</td>\n",
       "      <td>0.517000</td>\n",
       "      <td>0.38</td>\n",
       "    </tr>\n",
       "    <tr>\n",
       "      <th>1</th>\n",
       "      <td>4</td>\n",
       "      <td>0.2800</td>\n",
       "      <td>0.6100</td>\n",
       "      <td>0.457963</td>\n",
       "      <td>0.33</td>\n",
       "    </tr>\n",
       "    <tr>\n",
       "      <th>2</th>\n",
       "      <td>5</td>\n",
       "      <td>0.2600</td>\n",
       "      <td>0.4900</td>\n",
       "      <td>0.389721</td>\n",
       "      <td>0.23</td>\n",
       "    </tr>\n",
       "    <tr>\n",
       "      <th>3</th>\n",
       "      <td>6</td>\n",
       "      <td>0.2100</td>\n",
       "      <td>0.3700</td>\n",
       "      <td>0.313767</td>\n",
       "      <td>0.16</td>\n",
       "    </tr>\n",
       "    <tr>\n",
       "      <th>4</th>\n",
       "      <td>7</td>\n",
       "      <td>0.2000</td>\n",
       "      <td>0.3400</td>\n",
       "      <td>0.288989</td>\n",
       "      <td>0.14</td>\n",
       "    </tr>\n",
       "    <tr>\n",
       "      <th>5</th>\n",
       "      <td>8</td>\n",
       "      <td>0.2000</td>\n",
       "      <td>0.3500</td>\n",
       "      <td>0.291010</td>\n",
       "      <td>0.15</td>\n",
       "    </tr>\n",
       "    <tr>\n",
       "      <th>6</th>\n",
       "      <td>9</td>\n",
       "      <td>0.2600</td>\n",
       "      <td>0.3600</td>\n",
       "      <td>0.298000</td>\n",
       "      <td>0.10</td>\n",
       "    </tr>\n",
       "  </tbody>\n",
       "</table>\n",
       "</div>"
      ],
      "text/plain": [
       "   quality  volatile_acidity_q1  volatile_acidity_q3  volatile_acidity_q2  \\\n",
       "0        3               0.2525               0.6325             0.517000   \n",
       "1        4               0.2800               0.6100             0.457963   \n",
       "2        5               0.2600               0.4900             0.389721   \n",
       "3        6               0.2100               0.3700             0.313767   \n",
       "4        7               0.2000               0.3400             0.288989   \n",
       "5        8               0.2000               0.3500             0.291010   \n",
       "6        9               0.2600               0.3600             0.298000   \n",
       "\n",
       "    iqr  \n",
       "0  0.38  \n",
       "1  0.33  \n",
       "2  0.23  \n",
       "3  0.16  \n",
       "4  0.14  \n",
       "5  0.15  \n",
       "6  0.10  "
      ]
     },
     "execution_count": 48,
     "metadata": {},
     "output_type": "execute_result"
    }
   ],
   "source": [
    "volatile_acidity_iqr"
   ]
  },
  {
   "cell_type": "code",
   "execution_count": 49,
   "id": "a1fbddd9-bf8f-4205-b10d-a5e285229eef",
   "metadata": {},
   "outputs": [],
   "source": [
    "volatile_acidity_iqr['upper'] = volatile_acidity_iqr.apply(lambda r: (r['volatile_acidity_q3'] + 1.5*r['iqr']), axis = 1)\n",
    "volatile_acidity_iqr['lower'] = volatile_acidity_iqr.apply(lambda r: (r['volatile_acidity_q1'] - 1.5*r['iqr']), axis = 1)"
   ]
  },
  {
   "cell_type": "code",
   "execution_count": 50,
   "id": "7cc91087-b010-477e-aa1f-d5e85156b650",
   "metadata": {},
   "outputs": [],
   "source": [
    "wine_t = wine_t.merge(volatile_acidity_iqr, on = 'quality', how = 'left')"
   ]
  },
  {
   "cell_type": "code",
   "execution_count": 51,
   "id": "f8aab2f0-096a-4f36-8ef9-4d667321423a",
   "metadata": {},
   "outputs": [
    {
     "data": {
      "text/html": [
       "<div>\n",
       "<style scoped>\n",
       "    .dataframe tbody tr th:only-of-type {\n",
       "        vertical-align: middle;\n",
       "    }\n",
       "\n",
       "    .dataframe tbody tr th {\n",
       "        vertical-align: top;\n",
       "    }\n",
       "\n",
       "    .dataframe thead th {\n",
       "        text-align: right;\n",
       "    }\n",
       "</style>\n",
       "<table border=\"1\" class=\"dataframe\">\n",
       "  <thead>\n",
       "    <tr style=\"text-align: right;\">\n",
       "      <th></th>\n",
       "      <th>type</th>\n",
       "      <th>volatile acidity</th>\n",
       "      <th>citric acid</th>\n",
       "      <th>residual sugar</th>\n",
       "      <th>chlorides</th>\n",
       "      <th>free sulfur dioxide</th>\n",
       "      <th>total sulfur dioxide</th>\n",
       "      <th>density</th>\n",
       "      <th>pH</th>\n",
       "      <th>sulphates</th>\n",
       "      <th>alcohol</th>\n",
       "      <th>quality</th>\n",
       "      <th>New_fixed_acidity</th>\n",
       "      <th>volatile_acidity_q1</th>\n",
       "      <th>volatile_acidity_q3</th>\n",
       "      <th>volatile_acidity_q2</th>\n",
       "      <th>iqr</th>\n",
       "      <th>upper</th>\n",
       "      <th>lower</th>\n",
       "    </tr>\n",
       "  </thead>\n",
       "  <tbody>\n",
       "    <tr>\n",
       "      <th>0</th>\n",
       "      <td>white</td>\n",
       "      <td>0.27</td>\n",
       "      <td>0.36</td>\n",
       "      <td>20.7</td>\n",
       "      <td>0.045</td>\n",
       "      <td>45.0</td>\n",
       "      <td>170.0</td>\n",
       "      <td>1.0010</td>\n",
       "      <td>3.00</td>\n",
       "      <td>0.45</td>\n",
       "      <td>8.8</td>\n",
       "      <td>6</td>\n",
       "      <td>7.0</td>\n",
       "      <td>0.21</td>\n",
       "      <td>0.37</td>\n",
       "      <td>0.313767</td>\n",
       "      <td>0.16</td>\n",
       "      <td>0.61</td>\n",
       "      <td>-0.03</td>\n",
       "    </tr>\n",
       "    <tr>\n",
       "      <th>1</th>\n",
       "      <td>white</td>\n",
       "      <td>0.30</td>\n",
       "      <td>0.34</td>\n",
       "      <td>1.6</td>\n",
       "      <td>0.049</td>\n",
       "      <td>14.0</td>\n",
       "      <td>132.0</td>\n",
       "      <td>0.9940</td>\n",
       "      <td>3.30</td>\n",
       "      <td>0.49</td>\n",
       "      <td>9.5</td>\n",
       "      <td>6</td>\n",
       "      <td>6.3</td>\n",
       "      <td>0.21</td>\n",
       "      <td>0.37</td>\n",
       "      <td>0.313767</td>\n",
       "      <td>0.16</td>\n",
       "      <td>0.61</td>\n",
       "      <td>-0.03</td>\n",
       "    </tr>\n",
       "    <tr>\n",
       "      <th>2</th>\n",
       "      <td>white</td>\n",
       "      <td>0.28</td>\n",
       "      <td>0.40</td>\n",
       "      <td>6.9</td>\n",
       "      <td>0.050</td>\n",
       "      <td>30.0</td>\n",
       "      <td>97.0</td>\n",
       "      <td>0.9951</td>\n",
       "      <td>3.26</td>\n",
       "      <td>0.44</td>\n",
       "      <td>10.1</td>\n",
       "      <td>6</td>\n",
       "      <td>8.1</td>\n",
       "      <td>0.21</td>\n",
       "      <td>0.37</td>\n",
       "      <td>0.313767</td>\n",
       "      <td>0.16</td>\n",
       "      <td>0.61</td>\n",
       "      <td>-0.03</td>\n",
       "    </tr>\n",
       "    <tr>\n",
       "      <th>3</th>\n",
       "      <td>white</td>\n",
       "      <td>0.23</td>\n",
       "      <td>0.32</td>\n",
       "      <td>8.5</td>\n",
       "      <td>0.058</td>\n",
       "      <td>47.0</td>\n",
       "      <td>186.0</td>\n",
       "      <td>0.9956</td>\n",
       "      <td>3.19</td>\n",
       "      <td>0.40</td>\n",
       "      <td>9.9</td>\n",
       "      <td>6</td>\n",
       "      <td>7.2</td>\n",
       "      <td>0.21</td>\n",
       "      <td>0.37</td>\n",
       "      <td>0.313767</td>\n",
       "      <td>0.16</td>\n",
       "      <td>0.61</td>\n",
       "      <td>-0.03</td>\n",
       "    </tr>\n",
       "    <tr>\n",
       "      <th>4</th>\n",
       "      <td>white</td>\n",
       "      <td>0.23</td>\n",
       "      <td>0.32</td>\n",
       "      <td>8.5</td>\n",
       "      <td>0.058</td>\n",
       "      <td>47.0</td>\n",
       "      <td>186.0</td>\n",
       "      <td>0.9956</td>\n",
       "      <td>3.19</td>\n",
       "      <td>0.40</td>\n",
       "      <td>9.9</td>\n",
       "      <td>6</td>\n",
       "      <td>7.2</td>\n",
       "      <td>0.21</td>\n",
       "      <td>0.37</td>\n",
       "      <td>0.313767</td>\n",
       "      <td>0.16</td>\n",
       "      <td>0.61</td>\n",
       "      <td>-0.03</td>\n",
       "    </tr>\n",
       "  </tbody>\n",
       "</table>\n",
       "</div>"
      ],
      "text/plain": [
       "    type  volatile acidity  citric acid  residual sugar  chlorides  \\\n",
       "0  white              0.27         0.36            20.7      0.045   \n",
       "1  white              0.30         0.34             1.6      0.049   \n",
       "2  white              0.28         0.40             6.9      0.050   \n",
       "3  white              0.23         0.32             8.5      0.058   \n",
       "4  white              0.23         0.32             8.5      0.058   \n",
       "\n",
       "   free sulfur dioxide  total sulfur dioxide  density    pH  sulphates  \\\n",
       "0                 45.0                 170.0   1.0010  3.00       0.45   \n",
       "1                 14.0                 132.0   0.9940  3.30       0.49   \n",
       "2                 30.0                  97.0   0.9951  3.26       0.44   \n",
       "3                 47.0                 186.0   0.9956  3.19       0.40   \n",
       "4                 47.0                 186.0   0.9956  3.19       0.40   \n",
       "\n",
       "   alcohol  quality  New_fixed_acidity  volatile_acidity_q1  \\\n",
       "0      8.8        6                7.0                 0.21   \n",
       "1      9.5        6                6.3                 0.21   \n",
       "2     10.1        6                8.1                 0.21   \n",
       "3      9.9        6                7.2                 0.21   \n",
       "4      9.9        6                7.2                 0.21   \n",
       "\n",
       "   volatile_acidity_q3  volatile_acidity_q2   iqr  upper  lower  \n",
       "0                 0.37             0.313767  0.16   0.61  -0.03  \n",
       "1                 0.37             0.313767  0.16   0.61  -0.03  \n",
       "2                 0.37             0.313767  0.16   0.61  -0.03  \n",
       "3                 0.37             0.313767  0.16   0.61  -0.03  \n",
       "4                 0.37             0.313767  0.16   0.61  -0.03  "
      ]
     },
     "execution_count": 51,
     "metadata": {},
     "output_type": "execute_result"
    }
   ],
   "source": [
    "wine_t.head(5)"
   ]
  },
  {
   "cell_type": "code",
   "execution_count": 52,
   "id": "631d5de9-8e98-469d-a668-803982da43ad",
   "metadata": {},
   "outputs": [],
   "source": [
    "def getRealVolatile(r):\n",
    "    if ( r[\"volatile acidity\"] <= r[\"lower\"] ) | ( r[\"volatile acidity\"] >= r[\"upper\"] ):\n",
    "        return r[\"volatile_acidity_q2\"]\n",
    "    else:\n",
    "        return r[\"volatile acidity\"]"
   ]
  },
  {
   "cell_type": "code",
   "execution_count": 53,
   "id": "edcb6ae2-9eeb-4570-9837-2b62e243592b",
   "metadata": {},
   "outputs": [],
   "source": [
    "wine_t['New_volatile_acidity'] = wine_t.apply( lambda r: getRealVolatile(r) , axis = 1 )"
   ]
  },
  {
   "cell_type": "code",
   "execution_count": 54,
   "id": "f4082a99-603b-4eaf-b009-fd52ac41c8f3",
   "metadata": {},
   "outputs": [],
   "source": [
    "new_volatile_acidity = wine_t.loc[(wine_t['quality'] == 8), ['New_volatile_acidity']]"
   ]
  },
  {
   "cell_type": "code",
   "execution_count": 55,
   "id": "2d522037-b33a-4a48-ac70-8629726e45e8",
   "metadata": {},
   "outputs": [
    {
     "data": {
      "text/plain": [
       "{'whiskers': [<matplotlib.lines.Line2D at 0x1b69e0154f0>,\n",
       "  <matplotlib.lines.Line2D at 0x1b69e0157c0>],\n",
       " 'caps': [<matplotlib.lines.Line2D at 0x1b69e015a90>,\n",
       "  <matplotlib.lines.Line2D at 0x1b69e015d60>],\n",
       " 'boxes': [<matplotlib.lines.Line2D at 0x1b69e015220>],\n",
       " 'medians': [<matplotlib.lines.Line2D at 0x1b69e007070>],\n",
       " 'fliers': [<matplotlib.lines.Line2D at 0x1b69e007340>],\n",
       " 'means': []}"
      ]
     },
     "execution_count": 55,
     "metadata": {},
     "output_type": "execute_result"
    },
    {
     "data": {
      "image/png": "[encoded data removed]",
      "text/plain": [
       "<Figure size 432x288 with 1 Axes>"
      ]
     },
     "metadata": {
      "needs_background": "light"
     },
     "output_type": "display_data"
    }
   ],
   "source": [
    "plt.boxplot(new_volatile_acidity)"
   ]
  },
  {
   "cell_type": "code",
   "execution_count": 56,
   "id": "79f2adbf-a72c-4cc0-92e8-3870eafa2b70",
   "metadata": {},
   "outputs": [],
   "source": [
    "wine_t = wine_t.drop(['volatile acidity','volatile_acidity_q1','volatile_acidity_q3','volatile_acidity_q2','iqr','upper','lower'], axis = 1)"
   ]
  },
  {
   "cell_type": "code",
   "execution_count": 57,
   "id": "b58ed011-e56c-40a0-b0c1-6795386db5df",
   "metadata": {},
   "outputs": [
    {
     "data": {
      "text/html": [
       "<div>\n",
       "<style scoped>\n",
       "    .dataframe tbody tr th:only-of-type {\n",
       "        vertical-align: middle;\n",
       "    }\n",
       "\n",
       "    .dataframe tbody tr th {\n",
       "        vertical-align: top;\n",
       "    }\n",
       "\n",
       "    .dataframe thead th {\n",
       "        text-align: right;\n",
       "    }\n",
       "</style>\n",
       "<table border=\"1\" class=\"dataframe\">\n",
       "  <thead>\n",
       "    <tr style=\"text-align: right;\">\n",
       "      <th></th>\n",
       "      <th>type</th>\n",
       "      <th>citric acid</th>\n",
       "      <th>residual sugar</th>\n",
       "      <th>chlorides</th>\n",
       "      <th>free sulfur dioxide</th>\n",
       "      <th>total sulfur dioxide</th>\n",
       "      <th>density</th>\n",
       "      <th>pH</th>\n",
       "      <th>sulphates</th>\n",
       "      <th>alcohol</th>\n",
       "      <th>quality</th>\n",
       "      <th>New_fixed_acidity</th>\n",
       "      <th>New_volatile_acidity</th>\n",
       "    </tr>\n",
       "  </thead>\n",
       "  <tbody>\n",
       "    <tr>\n",
       "      <th>0</th>\n",
       "      <td>white</td>\n",
       "      <td>0.36</td>\n",
       "      <td>20.7</td>\n",
       "      <td>0.045</td>\n",
       "      <td>45.0</td>\n",
       "      <td>170.0</td>\n",
       "      <td>1.00100</td>\n",
       "      <td>3.00</td>\n",
       "      <td>0.45</td>\n",
       "      <td>8.8</td>\n",
       "      <td>6</td>\n",
       "      <td>7.0</td>\n",
       "      <td>0.270</td>\n",
       "    </tr>\n",
       "    <tr>\n",
       "      <th>1</th>\n",
       "      <td>white</td>\n",
       "      <td>0.34</td>\n",
       "      <td>1.6</td>\n",
       "      <td>0.049</td>\n",
       "      <td>14.0</td>\n",
       "      <td>132.0</td>\n",
       "      <td>0.99400</td>\n",
       "      <td>3.30</td>\n",
       "      <td>0.49</td>\n",
       "      <td>9.5</td>\n",
       "      <td>6</td>\n",
       "      <td>6.3</td>\n",
       "      <td>0.300</td>\n",
       "    </tr>\n",
       "    <tr>\n",
       "      <th>2</th>\n",
       "      <td>white</td>\n",
       "      <td>0.40</td>\n",
       "      <td>6.9</td>\n",
       "      <td>0.050</td>\n",
       "      <td>30.0</td>\n",
       "      <td>97.0</td>\n",
       "      <td>0.99510</td>\n",
       "      <td>3.26</td>\n",
       "      <td>0.44</td>\n",
       "      <td>10.1</td>\n",
       "      <td>6</td>\n",
       "      <td>8.1</td>\n",
       "      <td>0.280</td>\n",
       "    </tr>\n",
       "    <tr>\n",
       "      <th>3</th>\n",
       "      <td>white</td>\n",
       "      <td>0.32</td>\n",
       "      <td>8.5</td>\n",
       "      <td>0.058</td>\n",
       "      <td>47.0</td>\n",
       "      <td>186.0</td>\n",
       "      <td>0.99560</td>\n",
       "      <td>3.19</td>\n",
       "      <td>0.40</td>\n",
       "      <td>9.9</td>\n",
       "      <td>6</td>\n",
       "      <td>7.2</td>\n",
       "      <td>0.230</td>\n",
       "    </tr>\n",
       "    <tr>\n",
       "      <th>4</th>\n",
       "      <td>white</td>\n",
       "      <td>0.32</td>\n",
       "      <td>8.5</td>\n",
       "      <td>0.058</td>\n",
       "      <td>47.0</td>\n",
       "      <td>186.0</td>\n",
       "      <td>0.99560</td>\n",
       "      <td>3.19</td>\n",
       "      <td>0.40</td>\n",
       "      <td>9.9</td>\n",
       "      <td>6</td>\n",
       "      <td>7.2</td>\n",
       "      <td>0.230</td>\n",
       "    </tr>\n",
       "    <tr>\n",
       "      <th>...</th>\n",
       "      <td>...</td>\n",
       "      <td>...</td>\n",
       "      <td>...</td>\n",
       "      <td>...</td>\n",
       "      <td>...</td>\n",
       "      <td>...</td>\n",
       "      <td>...</td>\n",
       "      <td>...</td>\n",
       "      <td>...</td>\n",
       "      <td>...</td>\n",
       "      <td>...</td>\n",
       "      <td>...</td>\n",
       "      <td>...</td>\n",
       "    </tr>\n",
       "    <tr>\n",
       "      <th>6492</th>\n",
       "      <td>red</td>\n",
       "      <td>0.08</td>\n",
       "      <td>2.0</td>\n",
       "      <td>0.090</td>\n",
       "      <td>32.0</td>\n",
       "      <td>44.0</td>\n",
       "      <td>0.99490</td>\n",
       "      <td>3.45</td>\n",
       "      <td>0.58</td>\n",
       "      <td>10.5</td>\n",
       "      <td>5</td>\n",
       "      <td>6.2</td>\n",
       "      <td>0.600</td>\n",
       "    </tr>\n",
       "    <tr>\n",
       "      <th>6493</th>\n",
       "      <td>red</td>\n",
       "      <td>0.10</td>\n",
       "      <td>2.2</td>\n",
       "      <td>0.062</td>\n",
       "      <td>39.0</td>\n",
       "      <td>51.0</td>\n",
       "      <td>0.99512</td>\n",
       "      <td>3.52</td>\n",
       "      <td>NaN</td>\n",
       "      <td>11.2</td>\n",
       "      <td>6</td>\n",
       "      <td>5.9</td>\n",
       "      <td>0.550</td>\n",
       "    </tr>\n",
       "    <tr>\n",
       "      <th>6494</th>\n",
       "      <td>red</td>\n",
       "      <td>0.13</td>\n",
       "      <td>2.3</td>\n",
       "      <td>0.076</td>\n",
       "      <td>29.0</td>\n",
       "      <td>40.0</td>\n",
       "      <td>0.99574</td>\n",
       "      <td>3.42</td>\n",
       "      <td>0.75</td>\n",
       "      <td>11.0</td>\n",
       "      <td>6</td>\n",
       "      <td>6.3</td>\n",
       "      <td>0.510</td>\n",
       "    </tr>\n",
       "    <tr>\n",
       "      <th>6495</th>\n",
       "      <td>red</td>\n",
       "      <td>0.12</td>\n",
       "      <td>2.0</td>\n",
       "      <td>0.075</td>\n",
       "      <td>32.0</td>\n",
       "      <td>44.0</td>\n",
       "      <td>0.99547</td>\n",
       "      <td>3.57</td>\n",
       "      <td>0.71</td>\n",
       "      <td>10.2</td>\n",
       "      <td>5</td>\n",
       "      <td>5.9</td>\n",
       "      <td>0.645</td>\n",
       "    </tr>\n",
       "    <tr>\n",
       "      <th>6496</th>\n",
       "      <td>red</td>\n",
       "      <td>0.47</td>\n",
       "      <td>3.6</td>\n",
       "      <td>0.067</td>\n",
       "      <td>18.0</td>\n",
       "      <td>42.0</td>\n",
       "      <td>0.99549</td>\n",
       "      <td>3.39</td>\n",
       "      <td>0.66</td>\n",
       "      <td>11.0</td>\n",
       "      <td>6</td>\n",
       "      <td>6.0</td>\n",
       "      <td>0.310</td>\n",
       "    </tr>\n",
       "  </tbody>\n",
       "</table>\n",
       "<p>6497 rows × 13 columns</p>\n",
       "</div>"
      ],
      "text/plain": [
       "       type  citric acid  residual sugar  chlorides  free sulfur dioxide  \\\n",
       "0     white         0.36            20.7      0.045                 45.0   \n",
       "1     white         0.34             1.6      0.049                 14.0   \n",
       "2     white         0.40             6.9      0.050                 30.0   \n",
       "3     white         0.32             8.5      0.058                 47.0   \n",
       "4     white         0.32             8.5      0.058                 47.0   \n",
       "...     ...          ...             ...        ...                  ...   \n",
       "6492    red         0.08             2.0      0.090                 32.0   \n",
       "6493    red         0.10             2.2      0.062                 39.0   \n",
       "6494    red         0.13             2.3      0.076                 29.0   \n",
       "6495    red         0.12             2.0      0.075                 32.0   \n",
       "6496    red         0.47             3.6      0.067                 18.0   \n",
       "\n",
       "      total sulfur dioxide  density    pH  sulphates  alcohol  quality  \\\n",
       "0                    170.0  1.00100  3.00       0.45      8.8        6   \n",
       "1                    132.0  0.99400  3.30       0.49      9.5        6   \n",
       "2                     97.0  0.99510  3.26       0.44     10.1        6   \n",
       "3                    186.0  0.99560  3.19       0.40      9.9        6   \n",
       "4                    186.0  0.99560  3.19       0.40      9.9        6   \n",
       "...                    ...      ...   ...        ...      ...      ...   \n",
       "6492                  44.0  0.99490  3.45       0.58     10.5        5   \n",
       "6493                  51.0  0.99512  3.52        NaN     11.2        6   \n",
       "6494                  40.0  0.99574  3.42       0.75     11.0        6   \n",
       "6495                  44.0  0.99547  3.57       0.71     10.2        5   \n",
       "6496                  42.0  0.99549  3.39       0.66     11.0        6   \n",
       "\n",
       "      New_fixed_acidity  New_volatile_acidity  \n",
       "0                   7.0                 0.270  \n",
       "1                   6.3                 0.300  \n",
       "2                   8.1                 0.280  \n",
       "3                   7.2                 0.230  \n",
       "4                   7.2                 0.230  \n",
       "...                 ...                   ...  \n",
       "6492                6.2                 0.600  \n",
       "6493                5.9                 0.550  \n",
       "6494                6.3                 0.510  \n",
       "6495                5.9                 0.645  \n",
       "6496                6.0                 0.310  \n",
       "\n",
       "[6497 rows x 13 columns]"
      ]
     },
     "execution_count": 57,
     "metadata": {},
     "output_type": "execute_result"
    }
   ],
   "source": [
    "wine_t"
   ]
  },
  {
   "cell_type": "code",
   "execution_count": 58,
   "id": "7f811534-35e8-4825-87d8-1134489924e7",
   "metadata": {},
   "outputs": [
    {
     "data": {
      "text/plain": [
       "type                    0\n",
       "citric acid             3\n",
       "residual sugar          2\n",
       "chlorides               2\n",
       "free sulfur dioxide     0\n",
       "total sulfur dioxide    0\n",
       "density                 0\n",
       "pH                      9\n",
       "sulphates               4\n",
       "alcohol                 0\n",
       "quality                 0\n",
       "New_fixed_acidity       0\n",
       "New_volatile_acidity    0\n",
       "dtype: int64"
      ]
     },
     "execution_count": 58,
     "metadata": {},
     "output_type": "execute_result"
    }
   ],
   "source": [
    "wine_t.isnull().sum()"
   ]
  },
  {
   "cell_type": "code",
   "execution_count": null,
   "id": "3df8948b-bad8-42e4-89ea-a32a059dd89e",
   "metadata": {},
   "outputs": [],
   "source": []
  },
  {
   "cell_type": "markdown",
   "id": "baed79e0-4616-4ead-9187-95006527de33",
   "metadata": {},
   "source": [
    "#### Limpieza de la variable 'citric acid'"
   ]
  },
  {
   "cell_type": "code",
   "execution_count": 59,
   "id": "1d87c6d2-f5ff-4960-aa5c-309cca1c2551",
   "metadata": {},
   "outputs": [],
   "source": [
    "citric_acid = wine_t"
   ]
  },
  {
   "cell_type": "markdown",
   "id": "dd926b5e-5f11-4cab-9890-a304bcd5c027",
   "metadata": {},
   "source": [
    "- Remplazando valores nulos por el promedio"
   ]
  },
  {
   "cell_type": "code",
   "execution_count": 60,
   "id": "df993777-98fa-442d-80a9-3ee028de13f0",
   "metadata": {},
   "outputs": [],
   "source": [
    "prom_citric = citric_acid['citric acid'].mean()"
   ]
  },
  {
   "cell_type": "code",
   "execution_count": 61,
   "id": "7e46500c-6c3b-4e8e-ab28-9251d46c3c1a",
   "metadata": {
    "tags": []
   },
   "outputs": [
    {
     "data": {
      "text/plain": [
       "0.3187218971358124"
      ]
     },
     "execution_count": 61,
     "metadata": {},
     "output_type": "execute_result"
    }
   ],
   "source": [
    "prom_citric"
   ]
  },
  {
   "cell_type": "code",
   "execution_count": 62,
   "id": "07405bcb-6442-493f-950a-a6ac6d9c2a21",
   "metadata": {},
   "outputs": [
    {
     "data": {
      "text/plain": [
       "3"
      ]
     },
     "execution_count": 62,
     "metadata": {},
     "output_type": "execute_result"
    }
   ],
   "source": [
    "citric_acid['citric acid'].isnull().sum()"
   ]
  },
  {
   "cell_type": "code",
   "execution_count": 63,
   "id": "347151b9-164b-4961-850e-64bef12fc684",
   "metadata": {},
   "outputs": [],
   "source": [
    "citric_acid['citric acid'] = citric_acid['citric acid'].fillna(prom_citric)"
   ]
  },
  {
   "cell_type": "code",
   "execution_count": 64,
   "id": "776499c1-3df8-4f93-9396-c63f16084d1e",
   "metadata": {},
   "outputs": [
    {
     "data": {
      "text/plain": [
       "0"
      ]
     },
     "execution_count": 64,
     "metadata": {},
     "output_type": "execute_result"
    }
   ],
   "source": [
    "citric_acid['citric acid'].isnull().sum()"
   ]
  },
  {
   "cell_type": "markdown",
   "id": "0d33fbf3-6a99-4524-8938-30e8fbc97b45",
   "metadata": {},
   "source": [
    "- Acido cítrico en vinos de calidad 8"
   ]
  },
  {
   "cell_type": "code",
   "execution_count": 65,
   "id": "2f30e178-cb88-4bb1-9221-fb82183fdedb",
   "metadata": {},
   "outputs": [],
   "source": [
    "citric_acid = wine_t.loc[(wine_t['quality'] == 8), ['citric acid']]"
   ]
  },
  {
   "cell_type": "code",
   "execution_count": 66,
   "id": "995f4036-90e0-4a2b-9fc1-a9d7c59abb80",
   "metadata": {},
   "outputs": [
    {
     "data": {
      "text/plain": [
       "{'whiskers': [<matplotlib.lines.Line2D at 0x1b69dc71fd0>,\n",
       "  <matplotlib.lines.Line2D at 0x1b69dc81190>],\n",
       " 'caps': [<matplotlib.lines.Line2D at 0x1b69dc81490>,\n",
       "  <matplotlib.lines.Line2D at 0x1b69dc81760>],\n",
       " 'boxes': [<matplotlib.lines.Line2D at 0x1b69dc71d00>],\n",
       " 'medians': [<matplotlib.lines.Line2D at 0x1b69dc81a30>],\n",
       " 'fliers': [<matplotlib.lines.Line2D at 0x1b69dc81d00>],\n",
       " 'means': []}"
      ]
     },
     "execution_count": 66,
     "metadata": {},
     "output_type": "execute_result"
    },
    {
     "data": {
      "image/png": "[encoded data removed]",
      "text/plain": [
       "<Figure size 432x288 with 1 Axes>"
      ]
     },
     "metadata": {
      "needs_background": "light"
     },
     "output_type": "display_data"
    }
   ],
   "source": [
    "plt.boxplot(citric_acid)"
   ]
  },
  {
   "cell_type": "code",
   "execution_count": 67,
   "id": "0593f091-10c4-47bc-b0d8-45a7c042890f",
   "metadata": {},
   "outputs": [],
   "source": [
    "citric_acid_q1 = wine_t.loc[:, ['quality','citric acid']].groupby(['quality'], as_index = False).quantile(0.25)\n",
    "citric_acid_q1.columns = ['quality','citric_acid_q1']"
   ]
  },
  {
   "cell_type": "code",
   "execution_count": 68,
   "id": "1f46ed8b-34ff-4427-a764-5c747625f3f3",
   "metadata": {},
   "outputs": [],
   "source": [
    "citric_acid_q3 = wine_t.loc[:, ['quality','citric acid']].groupby(['quality'], as_index = False).quantile(0.75)\n",
    "citric_acid_q3.columns = ['quality','citric_acid_q3']"
   ]
  },
  {
   "cell_type": "code",
   "execution_count": 69,
   "id": "a6cb7ff2-607c-4d73-9449-7ebe8a35e621",
   "metadata": {},
   "outputs": [],
   "source": [
    "citric_acid_q2 = wine_t.loc[:, ['quality','citric acid']].groupby(['quality'], as_index = False).mean()\n",
    "citric_acid_q2.columns = ['quality','citric_acid_q2']"
   ]
  },
  {
   "cell_type": "code",
   "execution_count": 70,
   "id": "f9200898-9bce-48ff-9c88-1c12426953d9",
   "metadata": {},
   "outputs": [],
   "source": [
    "citric_acid_iqr = citric_acid_q1.merge(citric_acid_q3, on = 'quality', how = 'inner').merge(citric_acid_q2, on = 'quality', how = 'inner')"
   ]
  },
  {
   "cell_type": "code",
   "execution_count": 71,
   "id": "5f57a757-61a2-4b31-9c5b-12ae16cc3578",
   "metadata": {},
   "outputs": [],
   "source": [
    "citric_acid_iqr['iqr'] = citric_acid_iqr.apply(lambda r: r['citric_acid_q3'] - r['citric_acid_q1'], axis = 1)"
   ]
  },
  {
   "cell_type": "code",
   "execution_count": 72,
   "id": "c4e4a054-8ce8-4151-abd3-94b6e8290baf",
   "metadata": {},
   "outputs": [],
   "source": [
    "citric_acid_iqr['upper'] = citric_acid_iqr.apply(lambda r: (r['citric_acid_q3'] + 1.5*r['iqr']), axis = 1)\n",
    "citric_acid_iqr['lower'] = citric_acid_iqr.apply(lambda r: (r['citric_acid_q1'] - 1.5*r['iqr']), axis = 1)"
   ]
  },
  {
   "cell_type": "code",
   "execution_count": 73,
   "id": "f9de6219-344c-497b-b3e6-3db4d824b8b8",
   "metadata": {},
   "outputs": [],
   "source": [
    "wine_t = wine_t.merge(citric_acid_iqr, on = 'quality', how = 'left')"
   ]
  },
  {
   "cell_type": "code",
   "execution_count": 74,
   "id": "d52313ee-b4bf-4830-abb5-fc68999b4ea5",
   "metadata": {},
   "outputs": [],
   "source": [
    "def getRealCitric(r):\n",
    "    if ( r[\"citric acid\"] <= r[\"lower\"] ) | ( r[\"citric acid\"] >= r[\"upper\"] ):\n",
    "        return r[\"citric_acid_q2\"]\n",
    "    else:\n",
    "        return r[\"citric acid\"]"
   ]
  },
  {
   "cell_type": "code",
   "execution_count": 75,
   "id": "4db7f94a-88eb-424f-8d31-630537e96d75",
   "metadata": {},
   "outputs": [],
   "source": [
    "wine_t['New_citric_acid'] = wine_t.apply( lambda r: getRealCitric(r) , axis = 1 )"
   ]
  },
  {
   "cell_type": "code",
   "execution_count": 76,
   "id": "389b5506-313b-46d4-85a0-3432aa613ec9",
   "metadata": {},
   "outputs": [],
   "source": [
    "new_citric_acid = wine_t.loc[(wine_t['quality'] == 8), ['New_citric_acid']]"
   ]
  },
  {
   "cell_type": "code",
   "execution_count": 77,
   "id": "bbfc7be2-87cb-446c-a177-38692efb30cb",
   "metadata": {},
   "outputs": [
    {
     "data": {
      "text/plain": [
       "{'whiskers': [<matplotlib.lines.Line2D at 0x1b69e10b580>,\n",
       "  <matplotlib.lines.Line2D at 0x1b69e10b850>],\n",
       " 'caps': [<matplotlib.lines.Line2D at 0x1b69e10bb20>,\n",
       "  <matplotlib.lines.Line2D at 0x1b69e10bdf0>],\n",
       " 'boxes': [<matplotlib.lines.Line2D at 0x1b69e10b3d0>],\n",
       " 'medians': [<matplotlib.lines.Line2D at 0x1b69e0ff100>],\n",
       " 'fliers': [<matplotlib.lines.Line2D at 0x1b69e0ff3d0>],\n",
       " 'means': []}"
      ]
     },
     "execution_count": 77,
     "metadata": {},
     "output_type": "execute_result"
    },
    {
     "data": {
      "image/png": "[encoded data removed]",
      "text/plain": [
       "<Figure size 432x288 with 1 Axes>"
      ]
     },
     "metadata": {
      "needs_background": "light"
     },
     "output_type": "display_data"
    }
   ],
   "source": [
    "plt.boxplot(new_citric_acid)"
   ]
  },
  {
   "cell_type": "code",
   "execution_count": 78,
   "id": "d5a87fe8-42a3-4c52-a239-f27cfee0c2b7",
   "metadata": {},
   "outputs": [],
   "source": [
    "wine_t = wine_t.drop(['citric acid','citric_acid_q1','citric_acid_q3','citric_acid_q2','iqr','upper','lower'], axis = 1)"
   ]
  },
  {
   "cell_type": "code",
   "execution_count": 79,
   "id": "af1681ef-1d69-4696-a5fe-f343666caf6a",
   "metadata": {},
   "outputs": [
    {
     "data": {
      "text/html": [
       "<div>\n",
       "<style scoped>\n",
       "    .dataframe tbody tr th:only-of-type {\n",
       "        vertical-align: middle;\n",
       "    }\n",
       "\n",
       "    .dataframe tbody tr th {\n",
       "        vertical-align: top;\n",
       "    }\n",
       "\n",
       "    .dataframe thead th {\n",
       "        text-align: right;\n",
       "    }\n",
       "</style>\n",
       "<table border=\"1\" class=\"dataframe\">\n",
       "  <thead>\n",
       "    <tr style=\"text-align: right;\">\n",
       "      <th></th>\n",
       "      <th>type</th>\n",
       "      <th>residual sugar</th>\n",
       "      <th>chlorides</th>\n",
       "      <th>free sulfur dioxide</th>\n",
       "      <th>total sulfur dioxide</th>\n",
       "      <th>density</th>\n",
       "      <th>pH</th>\n",
       "      <th>sulphates</th>\n",
       "      <th>alcohol</th>\n",
       "      <th>quality</th>\n",
       "      <th>New_fixed_acidity</th>\n",
       "      <th>New_volatile_acidity</th>\n",
       "      <th>New_citric_acid</th>\n",
       "    </tr>\n",
       "  </thead>\n",
       "  <tbody>\n",
       "    <tr>\n",
       "      <th>0</th>\n",
       "      <td>white</td>\n",
       "      <td>20.7</td>\n",
       "      <td>0.045</td>\n",
       "      <td>45.0</td>\n",
       "      <td>170.0</td>\n",
       "      <td>1.0010</td>\n",
       "      <td>3.00</td>\n",
       "      <td>0.45</td>\n",
       "      <td>8.8</td>\n",
       "      <td>6</td>\n",
       "      <td>7.0</td>\n",
       "      <td>0.27</td>\n",
       "      <td>0.36</td>\n",
       "    </tr>\n",
       "    <tr>\n",
       "      <th>1</th>\n",
       "      <td>white</td>\n",
       "      <td>1.6</td>\n",
       "      <td>0.049</td>\n",
       "      <td>14.0</td>\n",
       "      <td>132.0</td>\n",
       "      <td>0.9940</td>\n",
       "      <td>3.30</td>\n",
       "      <td>0.49</td>\n",
       "      <td>9.5</td>\n",
       "      <td>6</td>\n",
       "      <td>6.3</td>\n",
       "      <td>0.30</td>\n",
       "      <td>0.34</td>\n",
       "    </tr>\n",
       "    <tr>\n",
       "      <th>2</th>\n",
       "      <td>white</td>\n",
       "      <td>6.9</td>\n",
       "      <td>0.050</td>\n",
       "      <td>30.0</td>\n",
       "      <td>97.0</td>\n",
       "      <td>0.9951</td>\n",
       "      <td>3.26</td>\n",
       "      <td>0.44</td>\n",
       "      <td>10.1</td>\n",
       "      <td>6</td>\n",
       "      <td>8.1</td>\n",
       "      <td>0.28</td>\n",
       "      <td>0.40</td>\n",
       "    </tr>\n",
       "    <tr>\n",
       "      <th>3</th>\n",
       "      <td>white</td>\n",
       "      <td>8.5</td>\n",
       "      <td>0.058</td>\n",
       "      <td>47.0</td>\n",
       "      <td>186.0</td>\n",
       "      <td>0.9956</td>\n",
       "      <td>3.19</td>\n",
       "      <td>0.40</td>\n",
       "      <td>9.9</td>\n",
       "      <td>6</td>\n",
       "      <td>7.2</td>\n",
       "      <td>0.23</td>\n",
       "      <td>0.32</td>\n",
       "    </tr>\n",
       "    <tr>\n",
       "      <th>4</th>\n",
       "      <td>white</td>\n",
       "      <td>8.5</td>\n",
       "      <td>0.058</td>\n",
       "      <td>47.0</td>\n",
       "      <td>186.0</td>\n",
       "      <td>0.9956</td>\n",
       "      <td>3.19</td>\n",
       "      <td>0.40</td>\n",
       "      <td>9.9</td>\n",
       "      <td>6</td>\n",
       "      <td>7.2</td>\n",
       "      <td>0.23</td>\n",
       "      <td>0.32</td>\n",
       "    </tr>\n",
       "  </tbody>\n",
       "</table>\n",
       "</div>"
      ],
      "text/plain": [
       "    type  residual sugar  chlorides  free sulfur dioxide  \\\n",
       "0  white            20.7      0.045                 45.0   \n",
       "1  white             1.6      0.049                 14.0   \n",
       "2  white             6.9      0.050                 30.0   \n",
       "3  white             8.5      0.058                 47.0   \n",
       "4  white             8.5      0.058                 47.0   \n",
       "\n",
       "   total sulfur dioxide  density    pH  sulphates  alcohol  quality  \\\n",
       "0                 170.0   1.0010  3.00       0.45      8.8        6   \n",
       "1                 132.0   0.9940  3.30       0.49      9.5        6   \n",
       "2                  97.0   0.9951  3.26       0.44     10.1        6   \n",
       "3                 186.0   0.9956  3.19       0.40      9.9        6   \n",
       "4                 186.0   0.9956  3.19       0.40      9.9        6   \n",
       "\n",
       "   New_fixed_acidity  New_volatile_acidity  New_citric_acid  \n",
       "0                7.0                  0.27             0.36  \n",
       "1                6.3                  0.30             0.34  \n",
       "2                8.1                  0.28             0.40  \n",
       "3                7.2                  0.23             0.32  \n",
       "4                7.2                  0.23             0.32  "
      ]
     },
     "execution_count": 79,
     "metadata": {},
     "output_type": "execute_result"
    }
   ],
   "source": [
    "wine_t.head(5)"
   ]
  },
  {
   "cell_type": "code",
   "execution_count": 80,
   "id": "70281557-9de5-47b4-9001-2e11c8ffee7c",
   "metadata": {},
   "outputs": [
    {
     "data": {
      "text/plain": [
       "type                    0\n",
       "residual sugar          2\n",
       "chlorides               2\n",
       "free sulfur dioxide     0\n",
       "total sulfur dioxide    0\n",
       "density                 0\n",
       "pH                      9\n",
       "sulphates               4\n",
       "alcohol                 0\n",
       "quality                 0\n",
       "New_fixed_acidity       0\n",
       "New_volatile_acidity    0\n",
       "New_citric_acid         0\n",
       "dtype: int64"
      ]
     },
     "execution_count": 80,
     "metadata": {},
     "output_type": "execute_result"
    }
   ],
   "source": [
    "wine_t.isnull().sum()"
   ]
  },
  {
   "cell_type": "code",
   "execution_count": null,
   "id": "91fce6ca-d4fc-4c86-b2d5-497596fe074c",
   "metadata": {},
   "outputs": [],
   "source": []
  },
  {
   "cell_type": "markdown",
   "id": "5ed26e1e-6475-49d6-b4b9-9ff9e41c9553",
   "metadata": {},
   "source": [
    "#### Limpieza de la variable 'residual sugar'"
   ]
  },
  {
   "cell_type": "code",
   "execution_count": 81,
   "id": "3cf85049-4613-4074-88a8-eea19aab9caa",
   "metadata": {},
   "outputs": [],
   "source": [
    "residual = wine_t"
   ]
  },
  {
   "cell_type": "markdown",
   "id": "05537d3b-59a3-4f6b-bb02-6dec2efe5603",
   "metadata": {},
   "source": [
    "- Remplazando valores nulos por el promedio"
   ]
  },
  {
   "cell_type": "code",
   "execution_count": 82,
   "id": "756b9668-6644-4808-9b16-a6731905a62e",
   "metadata": {},
   "outputs": [],
   "source": [
    "prom_residual = residual['residual sugar'].mean()"
   ]
  },
  {
   "cell_type": "code",
   "execution_count": 83,
   "id": "b9527f98-44be-4a68-b776-d7b10f83d696",
   "metadata": {},
   "outputs": [
    {
     "data": {
      "text/plain": [
       "2"
      ]
     },
     "execution_count": 83,
     "metadata": {},
     "output_type": "execute_result"
    }
   ],
   "source": [
    "residual['residual sugar'].isnull().sum()"
   ]
  },
  {
   "cell_type": "code",
   "execution_count": 84,
   "id": "7899f074-fc4f-41f2-b46a-78724274cdfe",
   "metadata": {},
   "outputs": [],
   "source": [
    "residual['residual sugar'] = residual['residual sugar'].fillna(prom_residual)"
   ]
  },
  {
   "cell_type": "code",
   "execution_count": 85,
   "id": "04d26bcc-0ece-4525-8e4d-2788e6e37bce",
   "metadata": {},
   "outputs": [
    {
     "data": {
      "text/plain": [
       "0"
      ]
     },
     "execution_count": 85,
     "metadata": {},
     "output_type": "execute_result"
    }
   ],
   "source": [
    "residual['residual sugar'].isnull().sum()"
   ]
  },
  {
   "cell_type": "markdown",
   "id": "7d1519fe-d8f9-41ad-be14-9c0bfbfe1c3e",
   "metadata": {},
   "source": [
    "- Azúcar residual en vinos de calidad 5"
   ]
  },
  {
   "cell_type": "code",
   "execution_count": 86,
   "id": "ce07b0fc-22b4-4843-aef2-4a8fcd99c137",
   "metadata": {},
   "outputs": [],
   "source": [
    "residual = wine_t.loc[(wine_t['quality'] == 5), ['residual sugar']]"
   ]
  },
  {
   "cell_type": "code",
   "execution_count": 87,
   "id": "2fd30e6d-7352-4f37-9f5d-f9f60d0b8e11",
   "metadata": {},
   "outputs": [
    {
     "data": {
      "text/plain": [
       "{'whiskers': [<matplotlib.lines.Line2D at 0x1b69dd22550>,\n",
       "  <matplotlib.lines.Line2D at 0x1b69dd22820>],\n",
       " 'caps': [<matplotlib.lines.Line2D at 0x1b69dd229d0>,\n",
       "  <matplotlib.lines.Line2D at 0x1b69dd22ca0>],\n",
       " 'boxes': [<matplotlib.lines.Line2D at 0x1b69dd22280>],\n",
       " 'medians': [<matplotlib.lines.Line2D at 0x1b69dd22f70>],\n",
       " 'fliers': [<matplotlib.lines.Line2D at 0x1b69dd2f280>],\n",
       " 'means': []}"
      ]
     },
     "execution_count": 87,
     "metadata": {},
     "output_type": "execute_result"
    },
    {
     "data": {
      "image/png": "[encoded data removed]",
      "text/plain": [
       "<Figure size 432x288 with 1 Axes>"
      ]
     },
     "metadata": {
      "needs_background": "light"
     },
     "output_type": "display_data"
    }
   ],
   "source": [
    "plt.boxplot(residual)"
   ]
  },
  {
   "cell_type": "code",
   "execution_count": 88,
   "id": "d2b343c3-591b-4b8c-9620-52c18c1acb02",
   "metadata": {},
   "outputs": [],
   "source": [
    "residual_q1 = wine_t.loc[:, ['quality','residual sugar']].groupby(['quality'], as_index = False).quantile(0.25)\n",
    "residual_q1.columns = ['quality','residual_q1']"
   ]
  },
  {
   "cell_type": "code",
   "execution_count": 89,
   "id": "205a7f27-5b42-4d21-91df-de3d043f3ebd",
   "metadata": {},
   "outputs": [],
   "source": [
    "residual_q3 = wine_t.loc[:, ['quality','residual sugar']].groupby(['quality'], as_index = False).quantile(0.75)\n",
    "residual_q3.columns = ['quality','residual_q3']"
   ]
  },
  {
   "cell_type": "code",
   "execution_count": 90,
   "id": "721e3288-0a35-4713-9076-580840b2a44a",
   "metadata": {},
   "outputs": [],
   "source": [
    "residual_q2 = wine_t.loc[:, ['quality','residual sugar']].groupby(['quality'], as_index = False).mean()\n",
    "residual_q2.columns = ['quality','residual_q2']"
   ]
  },
  {
   "cell_type": "code",
   "execution_count": 91,
   "id": "7f6c8a2f-6510-4c98-868c-2bec7d7a96f3",
   "metadata": {},
   "outputs": [],
   "source": [
    "residual_iqr = residual_q1.merge(residual_q3, on = 'quality', how = 'inner').merge(residual_q2, on = 'quality', how = 'inner')"
   ]
  },
  {
   "cell_type": "code",
   "execution_count": 92,
   "id": "86ae4e85-0f15-468e-ba53-fe7fa4c18307",
   "metadata": {},
   "outputs": [],
   "source": [
    "residual_iqr['iqr'] = residual_iqr.apply(lambda r: r['residual_q3'] - r['residual_q1'], axis = 1)"
   ]
  },
  {
   "cell_type": "code",
   "execution_count": 93,
   "id": "188bff3b-7925-4aac-83e4-1230f577cf52",
   "metadata": {},
   "outputs": [],
   "source": [
    "residual_iqr['upper'] = residual_iqr.apply(lambda r: (r['residual_q3'] + 1.5*r['iqr']), axis = 1)\n",
    "residual_iqr['lower'] = residual_iqr.apply(lambda r: (r['residual_q1'] - 1.5*r['iqr']), axis = 1)"
   ]
  },
  {
   "cell_type": "code",
   "execution_count": 94,
   "id": "5184f4c1-6048-4611-ade5-908af1617c9b",
   "metadata": {},
   "outputs": [],
   "source": [
    "wine_t = wine_t.merge(residual_iqr, on = 'quality', how = 'left')"
   ]
  },
  {
   "cell_type": "code",
   "execution_count": 95,
   "id": "a1d7ec37-9aab-4e69-a0a2-9140f36026bd",
   "metadata": {},
   "outputs": [],
   "source": [
    "def getRealResidual(r):\n",
    "    if ( r[\"residual sugar\"] <= r[\"lower\"] ) | ( r[\"residual sugar\"] >= r[\"upper\"] ):\n",
    "        return r[\"residual_q2\"]\n",
    "    else:\n",
    "        return r[\"residual sugar\"]"
   ]
  },
  {
   "cell_type": "code",
   "execution_count": 96,
   "id": "b7391213-1a83-48cb-ac74-64c3f3b902db",
   "metadata": {},
   "outputs": [],
   "source": [
    "wine_t['New_residual_sugar'] = wine_t.apply( lambda r: getRealResidual(r) , axis = 1 )"
   ]
  },
  {
   "cell_type": "code",
   "execution_count": 97,
   "id": "59d0713b-6329-4e63-a96d-941f5a494af2",
   "metadata": {},
   "outputs": [],
   "source": [
    "new_residual = wine_t.loc[(wine_t['quality'] == 5), ['New_residual_sugar']]"
   ]
  },
  {
   "cell_type": "code",
   "execution_count": 98,
   "id": "809c16e3-e63f-4886-a69c-12431854206d",
   "metadata": {},
   "outputs": [
    {
     "data": {
      "text/plain": [
       "{'whiskers': [<matplotlib.lines.Line2D at 0x1b69e20d520>,\n",
       "  <matplotlib.lines.Line2D at 0x1b69e20d7f0>],\n",
       " 'caps': [<matplotlib.lines.Line2D at 0x1b69e20dac0>,\n",
       "  <matplotlib.lines.Line2D at 0x1b69e20dd90>],\n",
       " 'boxes': [<matplotlib.lines.Line2D at 0x1b69e20d220>],\n",
       " 'medians': [<matplotlib.lines.Line2D at 0x1b69e21b0a0>],\n",
       " 'fliers': [<matplotlib.lines.Line2D at 0x1b69e21b370>],\n",
       " 'means': []}"
      ]
     },
     "execution_count": 98,
     "metadata": {},
     "output_type": "execute_result"
    },
    {
     "data": {
      "image/png": "[encoded data removed]",
      "text/plain": [
       "<Figure size 432x288 with 1 Axes>"
      ]
     },
     "metadata": {
      "needs_background": "light"
     },
     "output_type": "display_data"
    }
   ],
   "source": [
    "plt.boxplot(new_residual)"
   ]
  },
  {
   "cell_type": "code",
   "execution_count": 99,
   "id": "164a39ff-3162-4a62-9801-b3ed1539204f",
   "metadata": {},
   "outputs": [],
   "source": [
    "wine_t = wine_t.drop(['residual sugar','residual_q1','residual_q3','residual_q2','iqr','upper','lower'], axis = 1)"
   ]
  },
  {
   "cell_type": "code",
   "execution_count": 100,
   "id": "6422139e-1c5e-4aa3-af37-b8f06a75b8b9",
   "metadata": {},
   "outputs": [
    {
     "data": {
      "text/html": [
       "<div>\n",
       "<style scoped>\n",
       "    .dataframe tbody tr th:only-of-type {\n",
       "        vertical-align: middle;\n",
       "    }\n",
       "\n",
       "    .dataframe tbody tr th {\n",
       "        vertical-align: top;\n",
       "    }\n",
       "\n",
       "    .dataframe thead th {\n",
       "        text-align: right;\n",
       "    }\n",
       "</style>\n",
       "<table border=\"1\" class=\"dataframe\">\n",
       "  <thead>\n",
       "    <tr style=\"text-align: right;\">\n",
       "      <th></th>\n",
       "      <th>type</th>\n",
       "      <th>chlorides</th>\n",
       "      <th>free sulfur dioxide</th>\n",
       "      <th>total sulfur dioxide</th>\n",
       "      <th>density</th>\n",
       "      <th>pH</th>\n",
       "      <th>sulphates</th>\n",
       "      <th>alcohol</th>\n",
       "      <th>quality</th>\n",
       "      <th>New_fixed_acidity</th>\n",
       "      <th>New_volatile_acidity</th>\n",
       "      <th>New_citric_acid</th>\n",
       "      <th>New_residual_sugar</th>\n",
       "    </tr>\n",
       "  </thead>\n",
       "  <tbody>\n",
       "    <tr>\n",
       "      <th>0</th>\n",
       "      <td>white</td>\n",
       "      <td>0.045</td>\n",
       "      <td>45.0</td>\n",
       "      <td>170.0</td>\n",
       "      <td>1.0010</td>\n",
       "      <td>3.00</td>\n",
       "      <td>0.45</td>\n",
       "      <td>8.8</td>\n",
       "      <td>6</td>\n",
       "      <td>7.0</td>\n",
       "      <td>0.27</td>\n",
       "      <td>0.36</td>\n",
       "      <td>5.551144</td>\n",
       "    </tr>\n",
       "    <tr>\n",
       "      <th>1</th>\n",
       "      <td>white</td>\n",
       "      <td>0.049</td>\n",
       "      <td>14.0</td>\n",
       "      <td>132.0</td>\n",
       "      <td>0.9940</td>\n",
       "      <td>3.30</td>\n",
       "      <td>0.49</td>\n",
       "      <td>9.5</td>\n",
       "      <td>6</td>\n",
       "      <td>6.3</td>\n",
       "      <td>0.30</td>\n",
       "      <td>0.34</td>\n",
       "      <td>1.600000</td>\n",
       "    </tr>\n",
       "    <tr>\n",
       "      <th>2</th>\n",
       "      <td>white</td>\n",
       "      <td>0.050</td>\n",
       "      <td>30.0</td>\n",
       "      <td>97.0</td>\n",
       "      <td>0.9951</td>\n",
       "      <td>3.26</td>\n",
       "      <td>0.44</td>\n",
       "      <td>10.1</td>\n",
       "      <td>6</td>\n",
       "      <td>8.1</td>\n",
       "      <td>0.28</td>\n",
       "      <td>0.40</td>\n",
       "      <td>6.900000</td>\n",
       "    </tr>\n",
       "    <tr>\n",
       "      <th>3</th>\n",
       "      <td>white</td>\n",
       "      <td>0.058</td>\n",
       "      <td>47.0</td>\n",
       "      <td>186.0</td>\n",
       "      <td>0.9956</td>\n",
       "      <td>3.19</td>\n",
       "      <td>0.40</td>\n",
       "      <td>9.9</td>\n",
       "      <td>6</td>\n",
       "      <td>7.2</td>\n",
       "      <td>0.23</td>\n",
       "      <td>0.32</td>\n",
       "      <td>8.500000</td>\n",
       "    </tr>\n",
       "    <tr>\n",
       "      <th>4</th>\n",
       "      <td>white</td>\n",
       "      <td>0.058</td>\n",
       "      <td>47.0</td>\n",
       "      <td>186.0</td>\n",
       "      <td>0.9956</td>\n",
       "      <td>3.19</td>\n",
       "      <td>0.40</td>\n",
       "      <td>9.9</td>\n",
       "      <td>6</td>\n",
       "      <td>7.2</td>\n",
       "      <td>0.23</td>\n",
       "      <td>0.32</td>\n",
       "      <td>8.500000</td>\n",
       "    </tr>\n",
       "  </tbody>\n",
       "</table>\n",
       "</div>"
      ],
      "text/plain": [
       "    type  chlorides  free sulfur dioxide  total sulfur dioxide  density    pH  \\\n",
       "0  white      0.045                 45.0                 170.0   1.0010  3.00   \n",
       "1  white      0.049                 14.0                 132.0   0.9940  3.30   \n",
       "2  white      0.050                 30.0                  97.0   0.9951  3.26   \n",
       "3  white      0.058                 47.0                 186.0   0.9956  3.19   \n",
       "4  white      0.058                 47.0                 186.0   0.9956  3.19   \n",
       "\n",
       "   sulphates  alcohol  quality  New_fixed_acidity  New_volatile_acidity  \\\n",
       "0       0.45      8.8        6                7.0                  0.27   \n",
       "1       0.49      9.5        6                6.3                  0.30   \n",
       "2       0.44     10.1        6                8.1                  0.28   \n",
       "3       0.40      9.9        6                7.2                  0.23   \n",
       "4       0.40      9.9        6                7.2                  0.23   \n",
       "\n",
       "   New_citric_acid  New_residual_sugar  \n",
       "0             0.36            5.551144  \n",
       "1             0.34            1.600000  \n",
       "2             0.40            6.900000  \n",
       "3             0.32            8.500000  \n",
       "4             0.32            8.500000  "
      ]
     },
     "execution_count": 100,
     "metadata": {},
     "output_type": "execute_result"
    }
   ],
   "source": [
    "wine_t.head(5)"
   ]
  },
  {
   "cell_type": "code",
   "execution_count": 101,
   "id": "0ebe9047-71f2-4ac1-90e3-7ad693de29b9",
   "metadata": {
    "tags": []
   },
   "outputs": [
    {
     "data": {
      "text/plain": [
       "type                    0\n",
       "chlorides               2\n",
       "free sulfur dioxide     0\n",
       "total sulfur dioxide    0\n",
       "density                 0\n",
       "pH                      9\n",
       "sulphates               4\n",
       "alcohol                 0\n",
       "quality                 0\n",
       "New_fixed_acidity       0\n",
       "New_volatile_acidity    0\n",
       "New_citric_acid         0\n",
       "New_residual_sugar      0\n",
       "dtype: int64"
      ]
     },
     "execution_count": 101,
     "metadata": {},
     "output_type": "execute_result"
    }
   ],
   "source": [
    "wine_t.isnull().sum()"
   ]
  },
  {
   "cell_type": "code",
   "execution_count": null,
   "id": "8d5ee7e5-a41d-4f12-8a56-25d94785fdca",
   "metadata": {},
   "outputs": [],
   "source": []
  },
  {
   "cell_type": "markdown",
   "id": "b3a8113e-f80c-4196-81c7-a3723b36df99",
   "metadata": {},
   "source": [
    "#### Limpieza de la variable 'chlorides'"
   ]
  },
  {
   "cell_type": "code",
   "execution_count": 102,
   "id": "d409ab81-8bf3-4e22-882a-5995a6c82586",
   "metadata": {},
   "outputs": [],
   "source": [
    "chlorides = wine_t"
   ]
  },
  {
   "cell_type": "markdown",
   "id": "0ad900b9-9764-418d-947c-1076752c37ec",
   "metadata": {},
   "source": [
    "- Remplazando valores nulos por el promedio"
   ]
  },
  {
   "cell_type": "code",
   "execution_count": 103,
   "id": "eca4b93a-dbc2-4b91-b580-07303a16f7f1",
   "metadata": {},
   "outputs": [],
   "source": [
    "prom_chlorides = chlorides['chlorides'].mean()"
   ]
  },
  {
   "cell_type": "code",
   "execution_count": 104,
   "id": "1d2f5711-0699-4107-aa29-dd826d7beb30",
   "metadata": {},
   "outputs": [
    {
     "data": {
      "text/plain": [
       "2"
      ]
     },
     "execution_count": 104,
     "metadata": {},
     "output_type": "execute_result"
    }
   ],
   "source": [
    "chlorides['chlorides'].isnull().sum()"
   ]
  },
  {
   "cell_type": "code",
   "execution_count": 105,
   "id": "d4a3f9e1-d780-4dbe-b7af-c931b4aade83",
   "metadata": {},
   "outputs": [],
   "source": [
    "chlorides['chlorides'] = chlorides['chlorides'].fillna(prom_chlorides)"
   ]
  },
  {
   "cell_type": "code",
   "execution_count": 106,
   "id": "2183116e-6e18-4004-b516-ad7ff97ebb96",
   "metadata": {},
   "outputs": [
    {
     "data": {
      "text/plain": [
       "0"
      ]
     },
     "execution_count": 106,
     "metadata": {},
     "output_type": "execute_result"
    }
   ],
   "source": [
    "chlorides['chlorides'].isnull().sum()"
   ]
  },
  {
   "cell_type": "markdown",
   "id": "08108560-5454-4376-9d26-87cc82a429d2",
   "metadata": {},
   "source": [
    "- chlorides en vinos de calidad 5"
   ]
  },
  {
   "cell_type": "code",
   "execution_count": 107,
   "id": "a5fcea84-6f3b-48ea-a42a-e651465be9a0",
   "metadata": {},
   "outputs": [],
   "source": [
    "chlorides = wine_t.loc[(wine_t['quality'] == 5), ['chlorides']]"
   ]
  },
  {
   "cell_type": "code",
   "execution_count": 108,
   "id": "3ce92c8a-7ccf-42bd-977b-11b418c01f76",
   "metadata": {},
   "outputs": [
    {
     "data": {
      "text/plain": [
       "{'whiskers': [<matplotlib.lines.Line2D at 0x1b69ddb4ee0>,\n",
       "  <matplotlib.lines.Line2D at 0x1b69dda7970>],\n",
       " 'caps': [<matplotlib.lines.Line2D at 0x1b69ddc23a0>,\n",
       "  <matplotlib.lines.Line2D at 0x1b69ddc2670>],\n",
       " 'boxes': [<matplotlib.lines.Line2D at 0x1b69ddb4c10>],\n",
       " 'medians': [<matplotlib.lines.Line2D at 0x1b69ddc2940>],\n",
       " 'fliers': [<matplotlib.lines.Line2D at 0x1b69ddc2c10>],\n",
       " 'means': []}"
      ]
     },
     "execution_count": 108,
     "metadata": {},
     "output_type": "execute_result"
    },
    {
     "data": {
      "image/png": "[encoded data removed]",
      "text/plain": [
       "<Figure size 432x288 with 1 Axes>"
      ]
     },
     "metadata": {
      "needs_background": "light"
     },
     "output_type": "display_data"
    }
   ],
   "source": [
    "plt.boxplot(chlorides)"
   ]
  },
  {
   "cell_type": "code",
   "execution_count": 109,
   "id": "8f9bba55-de42-43a7-af2f-8096a9670c77",
   "metadata": {},
   "outputs": [],
   "source": [
    "chlorides_q1 = wine_t.loc[:, ['quality','chlorides']].groupby(['quality'], as_index = False).quantile(0.25)\n",
    "chlorides_q1.columns = ['quality','chlorides_q1']"
   ]
  },
  {
   "cell_type": "code",
   "execution_count": 110,
   "id": "b00f3f46-1b9a-40f2-b56d-ee04eaa6fceb",
   "metadata": {},
   "outputs": [],
   "source": [
    "chlorides_q3 = wine_t.loc[:, ['quality','chlorides']].groupby(['quality'], as_index = False).quantile(0.75)\n",
    "chlorides_q3.columns = ['quality','chlorides_q3']"
   ]
  },
  {
   "cell_type": "code",
   "execution_count": 111,
   "id": "81e094fc-d3b6-4e04-90c0-69f15fe0ce78",
   "metadata": {},
   "outputs": [],
   "source": [
    "chlorides_q2 = wine_t.loc[:, ['quality','chlorides']].groupby(['quality'], as_index = False).mean()\n",
    "chlorides_q2.columns = ['quality','chlorides_q2']"
   ]
  },
  {
   "cell_type": "code",
   "execution_count": 112,
   "id": "8a90976e-0d16-4560-9bdc-720cd4422b1b",
   "metadata": {},
   "outputs": [],
   "source": [
    "chlorides_iqr = chlorides_q1.merge(chlorides_q3, on = 'quality', how = 'inner').merge(chlorides_q2, on = 'quality', how = 'inner')"
   ]
  },
  {
   "cell_type": "code",
   "execution_count": 113,
   "id": "f64de080-a942-4045-b5c8-5cab907b733c",
   "metadata": {},
   "outputs": [],
   "source": [
    "chlorides_iqr['iqr'] = chlorides_iqr.apply(lambda r: r['chlorides_q3'] - r['chlorides_q1'], axis = 1)"
   ]
  },
  {
   "cell_type": "code",
   "execution_count": 114,
   "id": "c61ca4a1-2a75-4034-a87c-9163a0ec37ed",
   "metadata": {},
   "outputs": [],
   "source": [
    "chlorides_iqr['upper'] = chlorides_iqr.apply(lambda r: (r['chlorides_q3'] + 1.5*r['iqr']), axis = 1)\n",
    "chlorides_iqr['lower'] = chlorides_iqr.apply(lambda r: (r['chlorides_q1'] - 1.5*r['iqr']), axis = 1)"
   ]
  },
  {
   "cell_type": "code",
   "execution_count": 115,
   "id": "f23a493e-79a5-429a-a3af-65249c6721c7",
   "metadata": {},
   "outputs": [],
   "source": [
    "wine_t = wine_t.merge(chlorides_iqr, on = 'quality', how = 'left')"
   ]
  },
  {
   "cell_type": "code",
   "execution_count": 116,
   "id": "fdbee0fe-a0c3-404c-96e1-5b067afe62e4",
   "metadata": {},
   "outputs": [],
   "source": [
    "def getRealChlorides(r):\n",
    "    if ( r[\"chlorides\"] <= r[\"lower\"] ) | ( r[\"chlorides\"] >= r[\"upper\"] ):\n",
    "        return r[\"chlorides_q2\"]\n",
    "    else:\n",
    "        return r[\"chlorides\"]"
   ]
  },
  {
   "cell_type": "code",
   "execution_count": 117,
   "id": "54552395-988f-46a4-8f61-12f435675ca2",
   "metadata": {},
   "outputs": [],
   "source": [
    "wine_t['New_chlorides'] = wine_t.apply( lambda r: getRealChlorides(r) , axis = 1 )"
   ]
  },
  {
   "cell_type": "code",
   "execution_count": 118,
   "id": "a31c63d6-e5e7-4138-a830-5ef6cf81d05b",
   "metadata": {},
   "outputs": [],
   "source": [
    "new_chlorides = wine_t.loc[(wine_t['quality'] == 5), ['New_chlorides']]"
   ]
  },
  {
   "cell_type": "code",
   "execution_count": 119,
   "id": "3e646156-1d91-4514-854a-f32042c90c1d",
   "metadata": {},
   "outputs": [
    {
     "data": {
      "text/plain": [
       "{'whiskers': [<matplotlib.lines.Line2D at 0x1b69e2dcc40>,\n",
       "  <matplotlib.lines.Line2D at 0x1b69e2dcf10>],\n",
       " 'caps': [<matplotlib.lines.Line2D at 0x1b69e2ca220>,\n",
       "  <matplotlib.lines.Line2D at 0x1b69e2ca4f0>],\n",
       " 'boxes': [<matplotlib.lines.Line2D at 0x1b69e2dca90>],\n",
       " 'medians': [<matplotlib.lines.Line2D at 0x1b69e2ca7c0>],\n",
       " 'fliers': [<matplotlib.lines.Line2D at 0x1b69e2caa90>],\n",
       " 'means': []}"
      ]
     },
     "execution_count": 119,
     "metadata": {},
     "output_type": "execute_result"
    },
    {
     "data": {
      "image/png": "[encoded data removed]",
      "text/plain": [
       "<Figure size 432x288 with 1 Axes>"
      ]
     },
     "metadata": {
      "needs_background": "light"
     },
     "output_type": "display_data"
    }
   ],
   "source": [
    "plt.boxplot(new_chlorides)"
   ]
  },
  {
   "cell_type": "code",
   "execution_count": 120,
   "id": "e51527ec-e7ff-471d-9d42-ca67baf24270",
   "metadata": {},
   "outputs": [],
   "source": [
    "wine_t = wine_t.drop(['chlorides','chlorides_q1','chlorides_q3','chlorides_q2','iqr','upper','lower'], axis = 1)"
   ]
  },
  {
   "cell_type": "code",
   "execution_count": 121,
   "id": "8f445962-7fa1-4315-987c-eb2f4b1ca937",
   "metadata": {},
   "outputs": [
    {
     "data": {
      "text/html": [
       "<div>\n",
       "<style scoped>\n",
       "    .dataframe tbody tr th:only-of-type {\n",
       "        vertical-align: middle;\n",
       "    }\n",
       "\n",
       "    .dataframe tbody tr th {\n",
       "        vertical-align: top;\n",
       "    }\n",
       "\n",
       "    .dataframe thead th {\n",
       "        text-align: right;\n",
       "    }\n",
       "</style>\n",
       "<table border=\"1\" class=\"dataframe\">\n",
       "  <thead>\n",
       "    <tr style=\"text-align: right;\">\n",
       "      <th></th>\n",
       "      <th>type</th>\n",
       "      <th>free sulfur dioxide</th>\n",
       "      <th>total sulfur dioxide</th>\n",
       "      <th>density</th>\n",
       "      <th>pH</th>\n",
       "      <th>sulphates</th>\n",
       "      <th>alcohol</th>\n",
       "      <th>quality</th>\n",
       "      <th>New_fixed_acidity</th>\n",
       "      <th>New_volatile_acidity</th>\n",
       "      <th>New_citric_acid</th>\n",
       "      <th>New_residual_sugar</th>\n",
       "      <th>New_chlorides</th>\n",
       "    </tr>\n",
       "  </thead>\n",
       "  <tbody>\n",
       "    <tr>\n",
       "      <th>0</th>\n",
       "      <td>white</td>\n",
       "      <td>45.0</td>\n",
       "      <td>170.0</td>\n",
       "      <td>1.0010</td>\n",
       "      <td>3.00</td>\n",
       "      <td>0.45</td>\n",
       "      <td>8.8</td>\n",
       "      <td>6</td>\n",
       "      <td>7.0</td>\n",
       "      <td>0.27</td>\n",
       "      <td>0.36</td>\n",
       "      <td>5.551144</td>\n",
       "      <td>0.045</td>\n",
       "    </tr>\n",
       "    <tr>\n",
       "      <th>1</th>\n",
       "      <td>white</td>\n",
       "      <td>14.0</td>\n",
       "      <td>132.0</td>\n",
       "      <td>0.9940</td>\n",
       "      <td>3.30</td>\n",
       "      <td>0.49</td>\n",
       "      <td>9.5</td>\n",
       "      <td>6</td>\n",
       "      <td>6.3</td>\n",
       "      <td>0.30</td>\n",
       "      <td>0.34</td>\n",
       "      <td>1.600000</td>\n",
       "      <td>0.049</td>\n",
       "    </tr>\n",
       "    <tr>\n",
       "      <th>2</th>\n",
       "      <td>white</td>\n",
       "      <td>30.0</td>\n",
       "      <td>97.0</td>\n",
       "      <td>0.9951</td>\n",
       "      <td>3.26</td>\n",
       "      <td>0.44</td>\n",
       "      <td>10.1</td>\n",
       "      <td>6</td>\n",
       "      <td>8.1</td>\n",
       "      <td>0.28</td>\n",
       "      <td>0.40</td>\n",
       "      <td>6.900000</td>\n",
       "      <td>0.050</td>\n",
       "    </tr>\n",
       "    <tr>\n",
       "      <th>3</th>\n",
       "      <td>white</td>\n",
       "      <td>47.0</td>\n",
       "      <td>186.0</td>\n",
       "      <td>0.9956</td>\n",
       "      <td>3.19</td>\n",
       "      <td>0.40</td>\n",
       "      <td>9.9</td>\n",
       "      <td>6</td>\n",
       "      <td>7.2</td>\n",
       "      <td>0.23</td>\n",
       "      <td>0.32</td>\n",
       "      <td>8.500000</td>\n",
       "      <td>0.058</td>\n",
       "    </tr>\n",
       "    <tr>\n",
       "      <th>4</th>\n",
       "      <td>white</td>\n",
       "      <td>47.0</td>\n",
       "      <td>186.0</td>\n",
       "      <td>0.9956</td>\n",
       "      <td>3.19</td>\n",
       "      <td>0.40</td>\n",
       "      <td>9.9</td>\n",
       "      <td>6</td>\n",
       "      <td>7.2</td>\n",
       "      <td>0.23</td>\n",
       "      <td>0.32</td>\n",
       "      <td>8.500000</td>\n",
       "      <td>0.058</td>\n",
       "    </tr>\n",
       "  </tbody>\n",
       "</table>\n",
       "</div>"
      ],
      "text/plain": [
       "    type  free sulfur dioxide  total sulfur dioxide  density    pH  sulphates  \\\n",
       "0  white                 45.0                 170.0   1.0010  3.00       0.45   \n",
       "1  white                 14.0                 132.0   0.9940  3.30       0.49   \n",
       "2  white                 30.0                  97.0   0.9951  3.26       0.44   \n",
       "3  white                 47.0                 186.0   0.9956  3.19       0.40   \n",
       "4  white                 47.0                 186.0   0.9956  3.19       0.40   \n",
       "\n",
       "   alcohol  quality  New_fixed_acidity  New_volatile_acidity  New_citric_acid  \\\n",
       "0      8.8        6                7.0                  0.27             0.36   \n",
       "1      9.5        6                6.3                  0.30             0.34   \n",
       "2     10.1        6                8.1                  0.28             0.40   \n",
       "3      9.9        6                7.2                  0.23             0.32   \n",
       "4      9.9        6                7.2                  0.23             0.32   \n",
       "\n",
       "   New_residual_sugar  New_chlorides  \n",
       "0            5.551144          0.045  \n",
       "1            1.600000          0.049  \n",
       "2            6.900000          0.050  \n",
       "3            8.500000          0.058  \n",
       "4            8.500000          0.058  "
      ]
     },
     "execution_count": 121,
     "metadata": {},
     "output_type": "execute_result"
    }
   ],
   "source": [
    "wine_t.head(5)"
   ]
  },
  {
   "cell_type": "code",
   "execution_count": 122,
   "id": "d165e701-d098-4215-8376-db14f1b11cf8",
   "metadata": {},
   "outputs": [
    {
     "data": {
      "text/plain": [
       "type                    0\n",
       "free sulfur dioxide     0\n",
       "total sulfur dioxide    0\n",
       "density                 0\n",
       "pH                      9\n",
       "sulphates               4\n",
       "alcohol                 0\n",
       "quality                 0\n",
       "New_fixed_acidity       0\n",
       "New_volatile_acidity    0\n",
       "New_citric_acid         0\n",
       "New_residual_sugar      0\n",
       "New_chlorides           0\n",
       "dtype: int64"
      ]
     },
     "execution_count": 122,
     "metadata": {},
     "output_type": "execute_result"
    }
   ],
   "source": [
    "wine_t.isnull().sum()"
   ]
  },
  {
   "cell_type": "code",
   "execution_count": null,
   "id": "e4d68b6e-9881-428a-a947-728d70d9aff0",
   "metadata": {},
   "outputs": [],
   "source": []
  },
  {
   "cell_type": "markdown",
   "id": "cf3a00f3-764a-4cf7-834b-60db857e90ce",
   "metadata": {},
   "source": [
    "#### Limpieza de la variable 'free sulfur dioxide'"
   ]
  },
  {
   "cell_type": "markdown",
   "id": "98c8c799-b6c8-47e3-ae05-894f1d7b890b",
   "metadata": {},
   "source": [
    "- Dióxido de azufre libre en vinos de calidad 3"
   ]
  },
  {
   "cell_type": "code",
   "execution_count": 123,
   "id": "3d8600c7-9a9f-4b23-b57e-9c862050b14c",
   "metadata": {},
   "outputs": [],
   "source": [
    "free = wine_t.loc[(wine_t['quality'] == 3), ['free sulfur dioxide']]"
   ]
  },
  {
   "cell_type": "code",
   "execution_count": 124,
   "id": "24087234-e430-4418-91ab-93a349aff67d",
   "metadata": {},
   "outputs": [
    {
     "data": {
      "text/plain": [
       "{'whiskers': [<matplotlib.lines.Line2D at 0x1b69de88190>,\n",
       "  <matplotlib.lines.Line2D at 0x1b69de88460>],\n",
       " 'caps': [<matplotlib.lines.Line2D at 0x1b69de88730>,\n",
       "  <matplotlib.lines.Line2D at 0x1b69de88a00>],\n",
       " 'boxes': [<matplotlib.lines.Line2D at 0x1b69de79e50>],\n",
       " 'medians': [<matplotlib.lines.Line2D at 0x1b69de88cd0>],\n",
       " 'fliers': [<matplotlib.lines.Line2D at 0x1b69de88fa0>],\n",
       " 'means': []}"
      ]
     },
     "execution_count": 124,
     "metadata": {},
     "output_type": "execute_result"
    },
    {
     "data": {
      "image/png": "[encoded data removed]",
      "text/plain": [
       "<Figure size 432x288 with 1 Axes>"
      ]
     },
     "metadata": {
      "needs_background": "light"
     },
     "output_type": "display_data"
    }
   ],
   "source": [
    "plt.boxplot(free)"
   ]
  },
  {
   "cell_type": "code",
   "execution_count": 125,
   "id": "cd6c7acf-94a2-4dc8-8028-a753893cbf35",
   "metadata": {},
   "outputs": [],
   "source": [
    "free_q1 = wine_t.loc[:, ['quality','free sulfur dioxide']].groupby(['quality'], as_index = False).quantile(0.25)\n",
    "free_q1.columns = ['quality','free_q1']"
   ]
  },
  {
   "cell_type": "code",
   "execution_count": 126,
   "id": "4cf60b1d-384f-4ceb-8d90-8ae4bdf04f58",
   "metadata": {},
   "outputs": [],
   "source": [
    "free_q3 = wine_t.loc[:, ['quality','free sulfur dioxide']].groupby(['quality'], as_index = False).quantile(0.75)\n",
    "free_q3.columns = ['quality','free_q3']"
   ]
  },
  {
   "cell_type": "code",
   "execution_count": 127,
   "id": "2d27a447-87bf-4c39-9499-f41d70d89f2b",
   "metadata": {},
   "outputs": [],
   "source": [
    "free_q2 = wine_t.loc[:, ['quality','free sulfur dioxide']].groupby(['quality'], as_index = False).mean()\n",
    "free_q2.columns = ['quality','free_q2']"
   ]
  },
  {
   "cell_type": "code",
   "execution_count": 128,
   "id": "556d32ff-1e11-4944-aba2-fac3f56b393f",
   "metadata": {},
   "outputs": [],
   "source": [
    "free_iqr = free_q1.merge(free_q3, on = 'quality', how = 'inner').merge(free_q2, on = 'quality', how = 'inner')"
   ]
  },
  {
   "cell_type": "code",
   "execution_count": 129,
   "id": "f9b27981-d179-4107-bed7-9f9acc476a3f",
   "metadata": {},
   "outputs": [],
   "source": [
    "free_iqr['iqr'] = free_iqr.apply(lambda r: r['free_q3'] - r['free_q1'], axis = 1)"
   ]
  },
  {
   "cell_type": "code",
   "execution_count": 130,
   "id": "6c1a09eb-1905-4c27-b158-f79ade4c656a",
   "metadata": {},
   "outputs": [],
   "source": [
    "free_iqr['upper'] = free_iqr.apply(lambda r: (r['free_q3'] + 1.5*r['iqr']), axis = 1)\n",
    "free_iqr['lower'] = free_iqr.apply(lambda r: (r['free_q1'] - 1.5*r['iqr']), axis = 1)"
   ]
  },
  {
   "cell_type": "code",
   "execution_count": 131,
   "id": "591af3e7-63e5-4fb1-b32e-568504e9dcbe",
   "metadata": {},
   "outputs": [],
   "source": [
    "wine_t = wine_t.merge(free_iqr, on = 'quality', how = 'left')"
   ]
  },
  {
   "cell_type": "code",
   "execution_count": 132,
   "id": "d32608da-6ed0-4c49-a40d-cd333d676469",
   "metadata": {},
   "outputs": [],
   "source": [
    "def getRealFree(r):\n",
    "    if ( r[\"free sulfur dioxide\"] <= r[\"lower\"] ) | ( r[\"free sulfur dioxide\"] >= r[\"upper\"] ):\n",
    "        return r[\"free_q2\"]\n",
    "    else:\n",
    "        return r[\"free sulfur dioxide\"]"
   ]
  },
  {
   "cell_type": "code",
   "execution_count": 133,
   "id": "0ba31131-c229-4c05-8cc6-f2b73aba098d",
   "metadata": {},
   "outputs": [],
   "source": [
    "wine_t['New_Free_Sulfur_Dioxide'] = wine_t.apply( lambda r: getRealFree(r) , axis = 1 )"
   ]
  },
  {
   "cell_type": "code",
   "execution_count": 134,
   "id": "fdabbade-c0cb-4ce0-b511-e10129a58595",
   "metadata": {},
   "outputs": [],
   "source": [
    "new_free = wine_t.loc[(wine_t['quality'] == 3), ['New_Free_Sulfur_Dioxide']]"
   ]
  },
  {
   "cell_type": "code",
   "execution_count": 135,
   "id": "9a2246e4-32ba-4870-bc7a-abab4f3f181f",
   "metadata": {},
   "outputs": [
    {
     "data": {
      "text/plain": [
       "{'whiskers': [<matplotlib.lines.Line2D at 0x1b69f3a9df0>,\n",
       "  <matplotlib.lines.Line2D at 0x1b69f39c100>],\n",
       " 'caps': [<matplotlib.lines.Line2D at 0x1b69f39c280>,\n",
       "  <matplotlib.lines.Line2D at 0x1b69f39c580>],\n",
       " 'boxes': [<matplotlib.lines.Line2D at 0x1b69f3a9b20>],\n",
       " 'medians': [<matplotlib.lines.Line2D at 0x1b69f39c850>],\n",
       " 'fliers': [<matplotlib.lines.Line2D at 0x1b69f39cb20>],\n",
       " 'means': []}"
      ]
     },
     "execution_count": 135,
     "metadata": {},
     "output_type": "execute_result"
    },
    {
     "data": {
      "image/png": "[encoded data removed]",
      "text/plain": [
       "<Figure size 432x288 with 1 Axes>"
      ]
     },
     "metadata": {
      "needs_background": "light"
     },
     "output_type": "display_data"
    }
   ],
   "source": [
    "plt.boxplot(new_free)"
   ]
  },
  {
   "cell_type": "code",
   "execution_count": 136,
   "id": "5cee95e5-e48f-4125-9620-c4b1d4c044ae",
   "metadata": {},
   "outputs": [],
   "source": [
    "wine_t = wine_t.drop(['free sulfur dioxide','free_q1','free_q3','free_q2','iqr','upper','lower'], axis = 1)"
   ]
  },
  {
   "cell_type": "code",
   "execution_count": 137,
   "id": "84552d86-0683-4de5-923c-9b0a8e0551f9",
   "metadata": {},
   "outputs": [
    {
     "data": {
      "text/html": [
       "<div>\n",
       "<style scoped>\n",
       "    .dataframe tbody tr th:only-of-type {\n",
       "        vertical-align: middle;\n",
       "    }\n",
       "\n",
       "    .dataframe tbody tr th {\n",
       "        vertical-align: top;\n",
       "    }\n",
       "\n",
       "    .dataframe thead th {\n",
       "        text-align: right;\n",
       "    }\n",
       "</style>\n",
       "<table border=\"1\" class=\"dataframe\">\n",
       "  <thead>\n",
       "    <tr style=\"text-align: right;\">\n",
       "      <th></th>\n",
       "      <th>type</th>\n",
       "      <th>total sulfur dioxide</th>\n",
       "      <th>density</th>\n",
       "      <th>pH</th>\n",
       "      <th>sulphates</th>\n",
       "      <th>alcohol</th>\n",
       "      <th>quality</th>\n",
       "      <th>New_fixed_acidity</th>\n",
       "      <th>New_volatile_acidity</th>\n",
       "      <th>New_citric_acid</th>\n",
       "      <th>New_residual_sugar</th>\n",
       "      <th>New_chlorides</th>\n",
       "      <th>New_Free_Sulfur_Dioxide</th>\n",
       "    </tr>\n",
       "  </thead>\n",
       "  <tbody>\n",
       "    <tr>\n",
       "      <th>0</th>\n",
       "      <td>white</td>\n",
       "      <td>170.0</td>\n",
       "      <td>1.0010</td>\n",
       "      <td>3.00</td>\n",
       "      <td>0.45</td>\n",
       "      <td>8.8</td>\n",
       "      <td>6</td>\n",
       "      <td>7.0</td>\n",
       "      <td>0.27</td>\n",
       "      <td>0.36</td>\n",
       "      <td>5.551144</td>\n",
       "      <td>0.045</td>\n",
       "      <td>45.0</td>\n",
       "    </tr>\n",
       "    <tr>\n",
       "      <th>1</th>\n",
       "      <td>white</td>\n",
       "      <td>132.0</td>\n",
       "      <td>0.9940</td>\n",
       "      <td>3.30</td>\n",
       "      <td>0.49</td>\n",
       "      <td>9.5</td>\n",
       "      <td>6</td>\n",
       "      <td>6.3</td>\n",
       "      <td>0.30</td>\n",
       "      <td>0.34</td>\n",
       "      <td>1.600000</td>\n",
       "      <td>0.049</td>\n",
       "      <td>14.0</td>\n",
       "    </tr>\n",
       "    <tr>\n",
       "      <th>2</th>\n",
       "      <td>white</td>\n",
       "      <td>97.0</td>\n",
       "      <td>0.9951</td>\n",
       "      <td>3.26</td>\n",
       "      <td>0.44</td>\n",
       "      <td>10.1</td>\n",
       "      <td>6</td>\n",
       "      <td>8.1</td>\n",
       "      <td>0.28</td>\n",
       "      <td>0.40</td>\n",
       "      <td>6.900000</td>\n",
       "      <td>0.050</td>\n",
       "      <td>30.0</td>\n",
       "    </tr>\n",
       "    <tr>\n",
       "      <th>3</th>\n",
       "      <td>white</td>\n",
       "      <td>186.0</td>\n",
       "      <td>0.9956</td>\n",
       "      <td>3.19</td>\n",
       "      <td>0.40</td>\n",
       "      <td>9.9</td>\n",
       "      <td>6</td>\n",
       "      <td>7.2</td>\n",
       "      <td>0.23</td>\n",
       "      <td>0.32</td>\n",
       "      <td>8.500000</td>\n",
       "      <td>0.058</td>\n",
       "      <td>47.0</td>\n",
       "    </tr>\n",
       "    <tr>\n",
       "      <th>4</th>\n",
       "      <td>white</td>\n",
       "      <td>186.0</td>\n",
       "      <td>0.9956</td>\n",
       "      <td>3.19</td>\n",
       "      <td>0.40</td>\n",
       "      <td>9.9</td>\n",
       "      <td>6</td>\n",
       "      <td>7.2</td>\n",
       "      <td>0.23</td>\n",
       "      <td>0.32</td>\n",
       "      <td>8.500000</td>\n",
       "      <td>0.058</td>\n",
       "      <td>47.0</td>\n",
       "    </tr>\n",
       "  </tbody>\n",
       "</table>\n",
       "</div>"
      ],
      "text/plain": [
       "    type  total sulfur dioxide  density    pH  sulphates  alcohol  quality  \\\n",
       "0  white                 170.0   1.0010  3.00       0.45      8.8        6   \n",
       "1  white                 132.0   0.9940  3.30       0.49      9.5        6   \n",
       "2  white                  97.0   0.9951  3.26       0.44     10.1        6   \n",
       "3  white                 186.0   0.9956  3.19       0.40      9.9        6   \n",
       "4  white                 186.0   0.9956  3.19       0.40      9.9        6   \n",
       "\n",
       "   New_fixed_acidity  New_volatile_acidity  New_citric_acid  \\\n",
       "0                7.0                  0.27             0.36   \n",
       "1                6.3                  0.30             0.34   \n",
       "2                8.1                  0.28             0.40   \n",
       "3                7.2                  0.23             0.32   \n",
       "4                7.2                  0.23             0.32   \n",
       "\n",
       "   New_residual_sugar  New_chlorides  New_Free_Sulfur_Dioxide  \n",
       "0            5.551144          0.045                     45.0  \n",
       "1            1.600000          0.049                     14.0  \n",
       "2            6.900000          0.050                     30.0  \n",
       "3            8.500000          0.058                     47.0  \n",
       "4            8.500000          0.058                     47.0  "
      ]
     },
     "execution_count": 137,
     "metadata": {},
     "output_type": "execute_result"
    }
   ],
   "source": [
    "wine_t.head(5)"
   ]
  },
  {
   "cell_type": "code",
   "execution_count": null,
   "id": "accf0c5a-5044-40b4-9de9-3145e78cc8aa",
   "metadata": {},
   "outputs": [],
   "source": []
  },
  {
   "cell_type": "markdown",
   "id": "8f9f76c1-0e67-4cc0-9ade-f3616d44bac7",
   "metadata": {},
   "source": [
    "#### Limpieza de la variable 'total sulfur dioxide'"
   ]
  },
  {
   "cell_type": "markdown",
   "id": "f1b44667-f65d-4687-b980-62dae52d0c60",
   "metadata": {},
   "source": [
    "- Dióxido de azufre total en vinos de calidad 7"
   ]
  },
  {
   "cell_type": "code",
   "execution_count": 138,
   "id": "1e47e1c7-57c3-4138-be98-4c800a735076",
   "metadata": {},
   "outputs": [],
   "source": [
    "total = wine_t.loc[(wine_t['quality'] == 7), ['total sulfur dioxide']]"
   ]
  },
  {
   "cell_type": "code",
   "execution_count": 139,
   "id": "bac8651b-ec2c-444f-b051-fb98dc066cb9",
   "metadata": {},
   "outputs": [
    {
     "data": {
      "text/plain": [
       "{'whiskers': [<matplotlib.lines.Line2D at 0x1b69df217c0>,\n",
       "  <matplotlib.lines.Line2D at 0x1b69df21a90>],\n",
       " 'caps': [<matplotlib.lines.Line2D at 0x1b69df21d60>,\n",
       "  <matplotlib.lines.Line2D at 0x1b69df6b070>],\n",
       " 'boxes': [<matplotlib.lines.Line2D at 0x1b69df214f0>],\n",
       " 'medians': [<matplotlib.lines.Line2D at 0x1b69df6b340>],\n",
       " 'fliers': [<matplotlib.lines.Line2D at 0x1b69df6b610>],\n",
       " 'means': []}"
      ]
     },
     "execution_count": 139,
     "metadata": {},
     "output_type": "execute_result"
    },
    {
     "data": {
      "image/png": "[encoded data removed]",
      "text/plain": [
       "<Figure size 432x288 with 1 Axes>"
      ]
     },
     "metadata": {
      "needs_background": "light"
     },
     "output_type": "display_data"
    }
   ],
   "source": [
    "plt.boxplot(total)"
   ]
  },
  {
   "cell_type": "code",
   "execution_count": 140,
   "id": "ae79a1d6-acb0-4f66-9706-3d625c9afc27",
   "metadata": {},
   "outputs": [],
   "source": [
    "total_q1 = wine_t.loc[:, ['quality','total sulfur dioxide']].groupby(['quality'], as_index = False).quantile(0.25)\n",
    "total_q1.columns = ['quality','total_q1']"
   ]
  },
  {
   "cell_type": "code",
   "execution_count": 141,
   "id": "13c99b85-c61a-4d4f-ae0c-b4d8e4cca610",
   "metadata": {},
   "outputs": [],
   "source": [
    "total_q3 = wine_t.loc[:, ['quality','total sulfur dioxide']].groupby(['quality'], as_index = False).quantile(0.75)\n",
    "total_q3.columns = ['quality','total_q3']"
   ]
  },
  {
   "cell_type": "code",
   "execution_count": 142,
   "id": "f73adc02-3e04-4d01-87a8-2a2b765e1b1c",
   "metadata": {},
   "outputs": [],
   "source": [
    "total_q2 = wine_t.loc[:, ['quality','total sulfur dioxide']].groupby(['quality'], as_index = False).mean()\n",
    "total_q2.columns = ['quality','total_q2']"
   ]
  },
  {
   "cell_type": "code",
   "execution_count": 143,
   "id": "589df800-aea3-421b-994f-625cd9227c8f",
   "metadata": {},
   "outputs": [],
   "source": [
    "total_iqr = total_q1.merge(total_q3, on = 'quality', how = 'inner').merge(total_q2, on = 'quality', how = 'inner')"
   ]
  },
  {
   "cell_type": "code",
   "execution_count": 144,
   "id": "df57d624-3053-4464-b671-e5fe9f2bdc94",
   "metadata": {},
   "outputs": [],
   "source": [
    "total_iqr['iqr'] = total_iqr.apply(lambda r: r['total_q3'] - r['total_q1'], axis = 1)"
   ]
  },
  {
   "cell_type": "code",
   "execution_count": 145,
   "id": "439eafdf-42d7-475e-8560-80e79e5b67c9",
   "metadata": {},
   "outputs": [],
   "source": [
    "total_iqr['upper'] = total_iqr.apply(lambda r: (r['total_q3'] + 1.5*r['iqr']), axis = 1)\n",
    "total_iqr['lower'] = total_iqr.apply(lambda r: (r['total_q1'] - 1.5*r['iqr']), axis = 1)"
   ]
  },
  {
   "cell_type": "code",
   "execution_count": 146,
   "id": "6b6777ee-55cc-4a2e-83c6-0689370d422f",
   "metadata": {},
   "outputs": [],
   "source": [
    "wine_t = wine_t.merge(total_iqr, on = 'quality', how = 'left')"
   ]
  },
  {
   "cell_type": "code",
   "execution_count": 147,
   "id": "1513370e-8c53-4dd7-a33c-d73249a3c5fc",
   "metadata": {},
   "outputs": [],
   "source": [
    "def getRealTotal(r):\n",
    "    if ( r[\"total sulfur dioxide\"] <= r[\"lower\"] ) | ( r[\"total sulfur dioxide\"] >= r[\"upper\"] ):\n",
    "        return r[\"total_q2\"]\n",
    "    else:\n",
    "        return r[\"total sulfur dioxide\"]"
   ]
  },
  {
   "cell_type": "code",
   "execution_count": 148,
   "id": "b1698cd0-105e-4f11-99af-ed9715ead621",
   "metadata": {},
   "outputs": [],
   "source": [
    "wine_t['New_total_Sulfur_Dioxide'] = wine_t.apply( lambda r: getRealTotal(r) , axis = 1 )"
   ]
  },
  {
   "cell_type": "code",
   "execution_count": 149,
   "id": "f0548e58-b647-465b-b11a-7b5f39cd7e82",
   "metadata": {},
   "outputs": [],
   "source": [
    "new_total = wine_t.loc[(wine_t['quality'] == 7), ['New_total_Sulfur_Dioxide']]"
   ]
  },
  {
   "cell_type": "code",
   "execution_count": 150,
   "id": "8b4833bd-28d7-4372-bebe-30f6e5f399f9",
   "metadata": {},
   "outputs": [
    {
     "data": {
      "text/plain": [
       "{'whiskers': [<matplotlib.lines.Line2D at 0x1b69f466700>,\n",
       "  <matplotlib.lines.Line2D at 0x1b69f4669d0>],\n",
       " 'caps': [<matplotlib.lines.Line2D at 0x1b69f466b20>,\n",
       "  <matplotlib.lines.Line2D at 0x1b69f466df0>],\n",
       " 'boxes': [<matplotlib.lines.Line2D at 0x1b69f466430>],\n",
       " 'medians': [<matplotlib.lines.Line2D at 0x1b69f489100>],\n",
       " 'fliers': [<matplotlib.lines.Line2D at 0x1b69f4893d0>],\n",
       " 'means': []}"
      ]
     },
     "execution_count": 150,
     "metadata": {},
     "output_type": "execute_result"
    },
    {
     "data": {
      "image/png": "[encoded data removed]",
      "text/plain": [
       "<Figure size 432x288 with 1 Axes>"
      ]
     },
     "metadata": {
      "needs_background": "light"
     },
     "output_type": "display_data"
    }
   ],
   "source": [
    "plt.boxplot(new_total)"
   ]
  },
  {
   "cell_type": "code",
   "execution_count": 151,
   "id": "0f9c08d6-24cf-4429-9ea5-2214356bf0a3",
   "metadata": {},
   "outputs": [],
   "source": [
    "wine_t = wine_t.drop(['total sulfur dioxide','total_q1','total_q3','total_q2','iqr','upper','lower'], axis = 1)"
   ]
  },
  {
   "cell_type": "code",
   "execution_count": 152,
   "id": "b9a3affd-4337-4198-9a90-fe84bfe51bb6",
   "metadata": {},
   "outputs": [
    {
     "data": {
      "text/html": [
       "<div>\n",
       "<style scoped>\n",
       "    .dataframe tbody tr th:only-of-type {\n",
       "        vertical-align: middle;\n",
       "    }\n",
       "\n",
       "    .dataframe tbody tr th {\n",
       "        vertical-align: top;\n",
       "    }\n",
       "\n",
       "    .dataframe thead th {\n",
       "        text-align: right;\n",
       "    }\n",
       "</style>\n",
       "<table border=\"1\" class=\"dataframe\">\n",
       "  <thead>\n",
       "    <tr style=\"text-align: right;\">\n",
       "      <th></th>\n",
       "      <th>type</th>\n",
       "      <th>density</th>\n",
       "      <th>pH</th>\n",
       "      <th>sulphates</th>\n",
       "      <th>alcohol</th>\n",
       "      <th>quality</th>\n",
       "      <th>New_fixed_acidity</th>\n",
       "      <th>New_volatile_acidity</th>\n",
       "      <th>New_citric_acid</th>\n",
       "      <th>New_residual_sugar</th>\n",
       "      <th>New_chlorides</th>\n",
       "      <th>New_Free_Sulfur_Dioxide</th>\n",
       "      <th>New_total_Sulfur_Dioxide</th>\n",
       "    </tr>\n",
       "  </thead>\n",
       "  <tbody>\n",
       "    <tr>\n",
       "      <th>0</th>\n",
       "      <td>white</td>\n",
       "      <td>1.0010</td>\n",
       "      <td>3.00</td>\n",
       "      <td>0.45</td>\n",
       "      <td>8.8</td>\n",
       "      <td>6</td>\n",
       "      <td>7.0</td>\n",
       "      <td>0.27</td>\n",
       "      <td>0.36</td>\n",
       "      <td>5.551144</td>\n",
       "      <td>0.045</td>\n",
       "      <td>45.0</td>\n",
       "      <td>170.0</td>\n",
       "    </tr>\n",
       "    <tr>\n",
       "      <th>1</th>\n",
       "      <td>white</td>\n",
       "      <td>0.9940</td>\n",
       "      <td>3.30</td>\n",
       "      <td>0.49</td>\n",
       "      <td>9.5</td>\n",
       "      <td>6</td>\n",
       "      <td>6.3</td>\n",
       "      <td>0.30</td>\n",
       "      <td>0.34</td>\n",
       "      <td>1.600000</td>\n",
       "      <td>0.049</td>\n",
       "      <td>14.0</td>\n",
       "      <td>132.0</td>\n",
       "    </tr>\n",
       "    <tr>\n",
       "      <th>2</th>\n",
       "      <td>white</td>\n",
       "      <td>0.9951</td>\n",
       "      <td>3.26</td>\n",
       "      <td>0.44</td>\n",
       "      <td>10.1</td>\n",
       "      <td>6</td>\n",
       "      <td>8.1</td>\n",
       "      <td>0.28</td>\n",
       "      <td>0.40</td>\n",
       "      <td>6.900000</td>\n",
       "      <td>0.050</td>\n",
       "      <td>30.0</td>\n",
       "      <td>97.0</td>\n",
       "    </tr>\n",
       "    <tr>\n",
       "      <th>3</th>\n",
       "      <td>white</td>\n",
       "      <td>0.9956</td>\n",
       "      <td>3.19</td>\n",
       "      <td>0.40</td>\n",
       "      <td>9.9</td>\n",
       "      <td>6</td>\n",
       "      <td>7.2</td>\n",
       "      <td>0.23</td>\n",
       "      <td>0.32</td>\n",
       "      <td>8.500000</td>\n",
       "      <td>0.058</td>\n",
       "      <td>47.0</td>\n",
       "      <td>186.0</td>\n",
       "    </tr>\n",
       "    <tr>\n",
       "      <th>4</th>\n",
       "      <td>white</td>\n",
       "      <td>0.9956</td>\n",
       "      <td>3.19</td>\n",
       "      <td>0.40</td>\n",
       "      <td>9.9</td>\n",
       "      <td>6</td>\n",
       "      <td>7.2</td>\n",
       "      <td>0.23</td>\n",
       "      <td>0.32</td>\n",
       "      <td>8.500000</td>\n",
       "      <td>0.058</td>\n",
       "      <td>47.0</td>\n",
       "      <td>186.0</td>\n",
       "    </tr>\n",
       "  </tbody>\n",
       "</table>\n",
       "</div>"
      ],
      "text/plain": [
       "    type  density    pH  sulphates  alcohol  quality  New_fixed_acidity  \\\n",
       "0  white   1.0010  3.00       0.45      8.8        6                7.0   \n",
       "1  white   0.9940  3.30       0.49      9.5        6                6.3   \n",
       "2  white   0.9951  3.26       0.44     10.1        6                8.1   \n",
       "3  white   0.9956  3.19       0.40      9.9        6                7.2   \n",
       "4  white   0.9956  3.19       0.40      9.9        6                7.2   \n",
       "\n",
       "   New_volatile_acidity  New_citric_acid  New_residual_sugar  New_chlorides  \\\n",
       "0                  0.27             0.36            5.551144          0.045   \n",
       "1                  0.30             0.34            1.600000          0.049   \n",
       "2                  0.28             0.40            6.900000          0.050   \n",
       "3                  0.23             0.32            8.500000          0.058   \n",
       "4                  0.23             0.32            8.500000          0.058   \n",
       "\n",
       "   New_Free_Sulfur_Dioxide  New_total_Sulfur_Dioxide  \n",
       "0                     45.0                     170.0  \n",
       "1                     14.0                     132.0  \n",
       "2                     30.0                      97.0  \n",
       "3                     47.0                     186.0  \n",
       "4                     47.0                     186.0  "
      ]
     },
     "execution_count": 152,
     "metadata": {},
     "output_type": "execute_result"
    }
   ],
   "source": [
    "wine_t.head(5)"
   ]
  },
  {
   "cell_type": "code",
   "execution_count": null,
   "id": "af598bc5-088d-4fe2-8d30-ed3f8179cb98",
   "metadata": {},
   "outputs": [],
   "source": []
  },
  {
   "cell_type": "markdown",
   "id": "164e185f-e49d-4064-8424-3a69a1d29fd4",
   "metadata": {},
   "source": [
    "#### Limpieza de la variable 'density'"
   ]
  },
  {
   "cell_type": "markdown",
   "id": "b8ccb58c-4c82-4359-940d-473cdd6b1e3b",
   "metadata": {},
   "source": [
    "- Densidad en vinos de calidad 9"
   ]
  },
  {
   "cell_type": "code",
   "execution_count": 153,
   "id": "9c7fb4f1-a044-4d5b-819f-4a1b113fb528",
   "metadata": {},
   "outputs": [],
   "source": [
    "density = wine_t.loc[(wine_t['quality'] == 9), ['density']]"
   ]
  },
  {
   "cell_type": "code",
   "execution_count": 154,
   "id": "b542cf1e-7e73-4f2f-9fcc-e169915e20de",
   "metadata": {},
   "outputs": [
    {
     "data": {
      "text/plain": [
       "{'whiskers': [<matplotlib.lines.Line2D at 0x1b69dfb4850>,\n",
       "  <matplotlib.lines.Line2D at 0x1b69dfb4b20>],\n",
       " 'caps': [<matplotlib.lines.Line2D at 0x1b69dfb4df0>,\n",
       "  <matplotlib.lines.Line2D at 0x1b69dfc3100>],\n",
       " 'boxes': [<matplotlib.lines.Line2D at 0x1b69dfb4580>],\n",
       " 'medians': [<matplotlib.lines.Line2D at 0x1b69dfc33d0>],\n",
       " 'fliers': [<matplotlib.lines.Line2D at 0x1b69dfc36d0>],\n",
       " 'means': []}"
      ]
     },
     "execution_count": 154,
     "metadata": {},
     "output_type": "execute_result"
    },
    {
     "data": {
      "image/png": "[encoded data removed]",
      "text/plain": [
       "<Figure size 432x288 with 1 Axes>"
      ]
     },
     "metadata": {
      "needs_background": "light"
     },
     "output_type": "display_data"
    }
   ],
   "source": [
    "plt.boxplot(density)"
   ]
  },
  {
   "cell_type": "code",
   "execution_count": 155,
   "id": "218c1624-edd0-4d51-a8c8-bf7f95d3962d",
   "metadata": {},
   "outputs": [],
   "source": [
    "density_q1 = wine_t.loc[:, ['quality','density']].groupby(['quality'], as_index = False).quantile(0.25)\n",
    "density_q1.columns = ['quality','density_q1']"
   ]
  },
  {
   "cell_type": "code",
   "execution_count": 156,
   "id": "77180aa5-68cb-4958-be95-18320f14b1fe",
   "metadata": {},
   "outputs": [],
   "source": [
    "density_q3 = wine_t.loc[:, ['quality','density']].groupby(['quality'], as_index = False).quantile(0.75)\n",
    "density_q3.columns = ['quality','density_q3']"
   ]
  },
  {
   "cell_type": "code",
   "execution_count": 157,
   "id": "3c57e941-e52e-42e5-88d7-bf7340bc112c",
   "metadata": {},
   "outputs": [],
   "source": [
    "density_q2 = wine_t.loc[:, ['quality','density']].groupby(['quality'], as_index = False).mean()\n",
    "density_q2.columns = ['quality','density_q2']"
   ]
  },
  {
   "cell_type": "code",
   "execution_count": 158,
   "id": "7f7bb86f-689c-473f-8b92-7d88b08c5d80",
   "metadata": {},
   "outputs": [],
   "source": [
    "density_iqr = density_q1.merge(density_q3, on = 'quality', how = 'inner').merge(density_q2, on = 'quality', how = 'inner')"
   ]
  },
  {
   "cell_type": "code",
   "execution_count": 159,
   "id": "4e557cc5-8e5e-4e47-b753-e4c36ac8e418",
   "metadata": {},
   "outputs": [],
   "source": [
    "density_iqr['iqr'] = density_iqr.apply(lambda r: r['density_q3'] - r['density_q1'], axis = 1)"
   ]
  },
  {
   "cell_type": "code",
   "execution_count": 160,
   "id": "e56c8b29-2cf4-4d48-995d-b6db2c611a63",
   "metadata": {},
   "outputs": [],
   "source": [
    "density_iqr['upper'] = density_iqr.apply(lambda r: (r['density_q3'] + 1.5*r['iqr']), axis = 1)\n",
    "density_iqr['lower'] = density_iqr.apply(lambda r: (r['density_q1'] - 1.5*r['iqr']), axis = 1)"
   ]
  },
  {
   "cell_type": "code",
   "execution_count": 161,
   "id": "ee4a2812-e170-4d5a-bbc3-ab37a5ca3ae3",
   "metadata": {},
   "outputs": [],
   "source": [
    "wine_t = wine_t.merge(density_iqr, on = 'quality', how = 'left')"
   ]
  },
  {
   "cell_type": "code",
   "execution_count": 162,
   "id": "91d093a4-2818-4891-8323-7e1ce2580305",
   "metadata": {},
   "outputs": [],
   "source": [
    "def getRealDensity(r):\n",
    "    if ( r[\"density\"] <= r[\"lower\"] ) | ( r[\"density\"] >= r[\"upper\"] ):\n",
    "        return r[\"density_q2\"]\n",
    "    else:\n",
    "        return r[\"density\"]"
   ]
  },
  {
   "cell_type": "code",
   "execution_count": 163,
   "id": "57669ec0-c267-4fca-887c-23905b84dbe2",
   "metadata": {},
   "outputs": [],
   "source": [
    "wine_t['New_Density'] = wine_t.apply( lambda r: getRealDensity(r) , axis = 1 )"
   ]
  },
  {
   "cell_type": "code",
   "execution_count": 164,
   "id": "7a6a73c1-54aa-4523-9570-51c1c1e80ad5",
   "metadata": {},
   "outputs": [],
   "source": [
    "new_density = wine_t.loc[(wine_t['quality'] == 9), ['New_Density']]"
   ]
  },
  {
   "cell_type": "code",
   "execution_count": 165,
   "id": "5eb5d234-e6c7-4e2e-8066-f14855a6affc",
   "metadata": {},
   "outputs": [
    {
     "data": {
      "text/plain": [
       "{'whiskers': [<matplotlib.lines.Line2D at 0x1b69f556670>,\n",
       "  <matplotlib.lines.Line2D at 0x1b69f556940>],\n",
       " 'caps': [<matplotlib.lines.Line2D at 0x1b69f556af0>,\n",
       "  <matplotlib.lines.Line2D at 0x1b69f556dc0>],\n",
       " 'boxes': [<matplotlib.lines.Line2D at 0x1b69f556370>],\n",
       " 'medians': [<matplotlib.lines.Line2D at 0x1b69f5480d0>],\n",
       " 'fliers': [<matplotlib.lines.Line2D at 0x1b69f5483a0>],\n",
       " 'means': []}"
      ]
     },
     "execution_count": 165,
     "metadata": {},
     "output_type": "execute_result"
    },
    {
     "data": {
      "image/png": "[encoded data removed]",
      "text/plain": [
       "<Figure size 432x288 with 1 Axes>"
      ]
     },
     "metadata": {
      "needs_background": "light"
     },
     "output_type": "display_data"
    }
   ],
   "source": [
    "plt.boxplot(new_density)"
   ]
  },
  {
   "cell_type": "code",
   "execution_count": 166,
   "id": "260d7ce0-9b6f-4624-b10e-d6adf457d184",
   "metadata": {},
   "outputs": [],
   "source": [
    "wine_t = wine_t.drop(['density','density_q1','density_q3','density_q2','iqr','upper','lower'], axis = 1)"
   ]
  },
  {
   "cell_type": "code",
   "execution_count": 167,
   "id": "64ceef7f-1fb4-4bd8-ba2e-71751ca32f79",
   "metadata": {},
   "outputs": [
    {
     "data": {
      "text/html": [
       "<div>\n",
       "<style scoped>\n",
       "    .dataframe tbody tr th:only-of-type {\n",
       "        vertical-align: middle;\n",
       "    }\n",
       "\n",
       "    .dataframe tbody tr th {\n",
       "        vertical-align: top;\n",
       "    }\n",
       "\n",
       "    .dataframe thead th {\n",
       "        text-align: right;\n",
       "    }\n",
       "</style>\n",
       "<table border=\"1\" class=\"dataframe\">\n",
       "  <thead>\n",
       "    <tr style=\"text-align: right;\">\n",
       "      <th></th>\n",
       "      <th>type</th>\n",
       "      <th>pH</th>\n",
       "      <th>sulphates</th>\n",
       "      <th>alcohol</th>\n",
       "      <th>quality</th>\n",
       "      <th>New_fixed_acidity</th>\n",
       "      <th>New_volatile_acidity</th>\n",
       "      <th>New_citric_acid</th>\n",
       "      <th>New_residual_sugar</th>\n",
       "      <th>New_chlorides</th>\n",
       "      <th>New_Free_Sulfur_Dioxide</th>\n",
       "      <th>New_total_Sulfur_Dioxide</th>\n",
       "      <th>New_Density</th>\n",
       "    </tr>\n",
       "  </thead>\n",
       "  <tbody>\n",
       "    <tr>\n",
       "      <th>0</th>\n",
       "      <td>white</td>\n",
       "      <td>3.00</td>\n",
       "      <td>0.45</td>\n",
       "      <td>8.8</td>\n",
       "      <td>6</td>\n",
       "      <td>7.0</td>\n",
       "      <td>0.27</td>\n",
       "      <td>0.36</td>\n",
       "      <td>5.551144</td>\n",
       "      <td>0.045</td>\n",
       "      <td>45.0</td>\n",
       "      <td>170.0</td>\n",
       "      <td>1.0010</td>\n",
       "    </tr>\n",
       "    <tr>\n",
       "      <th>1</th>\n",
       "      <td>white</td>\n",
       "      <td>3.30</td>\n",
       "      <td>0.49</td>\n",
       "      <td>9.5</td>\n",
       "      <td>6</td>\n",
       "      <td>6.3</td>\n",
       "      <td>0.30</td>\n",
       "      <td>0.34</td>\n",
       "      <td>1.600000</td>\n",
       "      <td>0.049</td>\n",
       "      <td>14.0</td>\n",
       "      <td>132.0</td>\n",
       "      <td>0.9940</td>\n",
       "    </tr>\n",
       "    <tr>\n",
       "      <th>2</th>\n",
       "      <td>white</td>\n",
       "      <td>3.26</td>\n",
       "      <td>0.44</td>\n",
       "      <td>10.1</td>\n",
       "      <td>6</td>\n",
       "      <td>8.1</td>\n",
       "      <td>0.28</td>\n",
       "      <td>0.40</td>\n",
       "      <td>6.900000</td>\n",
       "      <td>0.050</td>\n",
       "      <td>30.0</td>\n",
       "      <td>97.0</td>\n",
       "      <td>0.9951</td>\n",
       "    </tr>\n",
       "    <tr>\n",
       "      <th>3</th>\n",
       "      <td>white</td>\n",
       "      <td>3.19</td>\n",
       "      <td>0.40</td>\n",
       "      <td>9.9</td>\n",
       "      <td>6</td>\n",
       "      <td>7.2</td>\n",
       "      <td>0.23</td>\n",
       "      <td>0.32</td>\n",
       "      <td>8.500000</td>\n",
       "      <td>0.058</td>\n",
       "      <td>47.0</td>\n",
       "      <td>186.0</td>\n",
       "      <td>0.9956</td>\n",
       "    </tr>\n",
       "    <tr>\n",
       "      <th>4</th>\n",
       "      <td>white</td>\n",
       "      <td>3.19</td>\n",
       "      <td>0.40</td>\n",
       "      <td>9.9</td>\n",
       "      <td>6</td>\n",
       "      <td>7.2</td>\n",
       "      <td>0.23</td>\n",
       "      <td>0.32</td>\n",
       "      <td>8.500000</td>\n",
       "      <td>0.058</td>\n",
       "      <td>47.0</td>\n",
       "      <td>186.0</td>\n",
       "      <td>0.9956</td>\n",
       "    </tr>\n",
       "  </tbody>\n",
       "</table>\n",
       "</div>"
      ],
      "text/plain": [
       "    type    pH  sulphates  alcohol  quality  New_fixed_acidity  \\\n",
       "0  white  3.00       0.45      8.8        6                7.0   \n",
       "1  white  3.30       0.49      9.5        6                6.3   \n",
       "2  white  3.26       0.44     10.1        6                8.1   \n",
       "3  white  3.19       0.40      9.9        6                7.2   \n",
       "4  white  3.19       0.40      9.9        6                7.2   \n",
       "\n",
       "   New_volatile_acidity  New_citric_acid  New_residual_sugar  New_chlorides  \\\n",
       "0                  0.27             0.36            5.551144          0.045   \n",
       "1                  0.30             0.34            1.600000          0.049   \n",
       "2                  0.28             0.40            6.900000          0.050   \n",
       "3                  0.23             0.32            8.500000          0.058   \n",
       "4                  0.23             0.32            8.500000          0.058   \n",
       "\n",
       "   New_Free_Sulfur_Dioxide  New_total_Sulfur_Dioxide  New_Density  \n",
       "0                     45.0                     170.0       1.0010  \n",
       "1                     14.0                     132.0       0.9940  \n",
       "2                     30.0                      97.0       0.9951  \n",
       "3                     47.0                     186.0       0.9956  \n",
       "4                     47.0                     186.0       0.9956  "
      ]
     },
     "execution_count": 167,
     "metadata": {},
     "output_type": "execute_result"
    }
   ],
   "source": [
    "wine_t.head(5)"
   ]
  },
  {
   "cell_type": "code",
   "execution_count": null,
   "id": "802354cb-7370-4387-ade9-e9b3f7595a97",
   "metadata": {},
   "outputs": [],
   "source": []
  },
  {
   "cell_type": "markdown",
   "id": "c35c0c96-010e-403e-a9c9-9ec799c04251",
   "metadata": {},
   "source": [
    "#### Limpieza de la variable 'pH'"
   ]
  },
  {
   "cell_type": "code",
   "execution_count": 168,
   "id": "deefa23d-65b2-47e1-bf11-f95d307d3883",
   "metadata": {},
   "outputs": [],
   "source": [
    "ph = wine_t"
   ]
  },
  {
   "cell_type": "markdown",
   "id": "89f5f18f-7aa0-449f-a7e0-755bc146f129",
   "metadata": {},
   "source": [
    "- Remplazando valres nulos por el promedio"
   ]
  },
  {
   "cell_type": "code",
   "execution_count": 169,
   "id": "2a5b8134-51b2-44b4-88c7-aa702eb74c19",
   "metadata": {},
   "outputs": [],
   "source": [
    "prom_ph = ph['pH'].mean()"
   ]
  },
  {
   "cell_type": "code",
   "execution_count": 170,
   "id": "2a929540-85f6-4c45-ad7a-aa6c55cce12b",
   "metadata": {},
   "outputs": [
    {
     "data": {
      "text/plain": [
       "9"
      ]
     },
     "execution_count": 170,
     "metadata": {},
     "output_type": "execute_result"
    }
   ],
   "source": [
    "ph['pH'].isnull().sum()"
   ]
  },
  {
   "cell_type": "code",
   "execution_count": 171,
   "id": "be03bdef-05cf-4953-a823-5877a86bfcab",
   "metadata": {},
   "outputs": [],
   "source": [
    "ph['pH'] = ph['pH'].fillna(prom_ph)"
   ]
  },
  {
   "cell_type": "code",
   "execution_count": 172,
   "id": "c8c80003-3424-4ae7-b065-7c6f5d7529ab",
   "metadata": {},
   "outputs": [
    {
     "data": {
      "text/plain": [
       "0"
      ]
     },
     "execution_count": 172,
     "metadata": {},
     "output_type": "execute_result"
    }
   ],
   "source": [
    "ph['pH'].isnull().sum()"
   ]
  },
  {
   "cell_type": "markdown",
   "id": "df48802d-7bfe-460c-bc4f-098aceae111c",
   "metadata": {},
   "source": [
    "- pH en vinos de calidad 4"
   ]
  },
  {
   "cell_type": "code",
   "execution_count": 173,
   "id": "42f361bf-031b-470a-8f2b-5d4363224cbe",
   "metadata": {},
   "outputs": [],
   "source": [
    "ph = wine_t.loc[(wine_t['quality'] == 4), ['pH']]"
   ]
  },
  {
   "cell_type": "code",
   "execution_count": 174,
   "id": "13cf8258-531a-42a8-8786-1d5bf77dda35",
   "metadata": {},
   "outputs": [
    {
     "data": {
      "text/plain": [
       "{'whiskers': [<matplotlib.lines.Line2D at 0x1b69e121580>,\n",
       "  <matplotlib.lines.Line2D at 0x1b69e121850>],\n",
       " 'caps': [<matplotlib.lines.Line2D at 0x1b69e121b20>,\n",
       "  <matplotlib.lines.Line2D at 0x1b69e121df0>],\n",
       " 'boxes': [<matplotlib.lines.Line2D at 0x1b69e1212b0>],\n",
       " 'medians': [<matplotlib.lines.Line2D at 0x1b69e12e100>],\n",
       " 'fliers': [<matplotlib.lines.Line2D at 0x1b69e12e3d0>],\n",
       " 'means': []}"
      ]
     },
     "execution_count": 174,
     "metadata": {},
     "output_type": "execute_result"
    },
    {
     "data": {
      "image/png": "[encoded data removed]",
      "text/plain": [
       "<Figure size 432x288 with 1 Axes>"
      ]
     },
     "metadata": {
      "needs_background": "light"
     },
     "output_type": "display_data"
    }
   ],
   "source": [
    "plt.boxplot(ph)"
   ]
  },
  {
   "cell_type": "code",
   "execution_count": 175,
   "id": "036fa0f5-2de3-4051-8d60-6ed7a46f0cb0",
   "metadata": {},
   "outputs": [],
   "source": [
    "ph_q1 = wine_t.loc[:, ['quality','pH']].groupby(['quality'], as_index = False).quantile(0.25)\n",
    "ph_q1.columns = ['quality','ph_q1']"
   ]
  },
  {
   "cell_type": "code",
   "execution_count": 176,
   "id": "636ab4cb-f989-4eb4-826d-9d4616c9fe4c",
   "metadata": {},
   "outputs": [],
   "source": [
    "ph_q3 = wine_t.loc[:, ['quality','pH']].groupby(['quality'], as_index = False).quantile(0.75)\n",
    "ph_q3.columns = ['quality','ph_q3']"
   ]
  },
  {
   "cell_type": "code",
   "execution_count": 177,
   "id": "19ba16c7-0ede-4653-aebd-a0a06fcdabdd",
   "metadata": {},
   "outputs": [],
   "source": [
    "ph_q2 = wine_t.loc[:, ['quality','pH']].groupby(['quality'], as_index = False).mean()\n",
    "ph_q2.columns = ['quality','ph_q2']"
   ]
  },
  {
   "cell_type": "code",
   "execution_count": 178,
   "id": "ca2533ae-7450-43f9-9294-e1400a092a73",
   "metadata": {},
   "outputs": [],
   "source": [
    "ph_iqr = ph_q1.merge(ph_q3, on = 'quality', how = 'inner').merge(ph_q2, on = 'quality', how = 'inner')"
   ]
  },
  {
   "cell_type": "code",
   "execution_count": 179,
   "id": "9a873c6c-d2cf-450f-8c55-3dad30d36471",
   "metadata": {},
   "outputs": [],
   "source": [
    "ph_iqr['iqr'] = ph_iqr.apply(lambda r: r['ph_q3'] - r['ph_q1'], axis = 1)"
   ]
  },
  {
   "cell_type": "code",
   "execution_count": 180,
   "id": "216c75b3-7f83-4a5a-93fd-a215180bc05a",
   "metadata": {},
   "outputs": [],
   "source": [
    "ph_iqr['upper'] = ph_iqr.apply(lambda r: (r['ph_q3'] + 1.5*r['iqr']), axis = 1)\n",
    "ph_iqr['lower'] = ph_iqr.apply(lambda r: (r['ph_q1'] - 1.5*r['iqr']), axis = 1)"
   ]
  },
  {
   "cell_type": "code",
   "execution_count": 181,
   "id": "860864f3-13dc-4ce1-a8b0-ba8d2cc6febc",
   "metadata": {},
   "outputs": [],
   "source": [
    "wine_t = wine_t.merge(ph_iqr, on = 'quality', how = 'left')"
   ]
  },
  {
   "cell_type": "code",
   "execution_count": 182,
   "id": "bf88a61c-e2d2-4c1b-bcc5-614e88601a14",
   "metadata": {},
   "outputs": [],
   "source": [
    "def getRealPH(r):\n",
    "    if ( r[\"pH\"] <= r[\"lower\"] ) | ( r[\"pH\"] >= r[\"upper\"] ):\n",
    "        return r[\"ph_q2\"]\n",
    "    else:\n",
    "        return r[\"pH\"]"
   ]
  },
  {
   "cell_type": "code",
   "execution_count": 183,
   "id": "29728c18-3ce0-4dfd-935a-1327624789bc",
   "metadata": {},
   "outputs": [],
   "source": [
    "wine_t['New_pH'] = wine_t.apply( lambda r: getRealPH(r) , axis = 1 )"
   ]
  },
  {
   "cell_type": "code",
   "execution_count": 184,
   "id": "79256d1f-6ee6-4094-8120-babe966c7668",
   "metadata": {},
   "outputs": [],
   "source": [
    "new_pH = wine_t.loc[(wine_t['quality'] == 4), ['New_pH']]"
   ]
  },
  {
   "cell_type": "code",
   "execution_count": 185,
   "id": "4d53ade8-7823-4509-85cc-3b2e143d0e02",
   "metadata": {},
   "outputs": [
    {
     "data": {
      "text/plain": [
       "{'whiskers': [<matplotlib.lines.Line2D at 0x1b69f6235e0>,\n",
       "  <matplotlib.lines.Line2D at 0x1b69f623760>],\n",
       " 'caps': [<matplotlib.lines.Line2D at 0x1b69f623a60>,\n",
       "  <matplotlib.lines.Line2D at 0x1b69f623d30>],\n",
       " 'boxes': [<matplotlib.lines.Line2D at 0x1b69f623310>],\n",
       " 'medians': [<matplotlib.lines.Line2D at 0x1b69f644040>],\n",
       " 'fliers': [<matplotlib.lines.Line2D at 0x1b69f644310>],\n",
       " 'means': []}"
      ]
     },
     "execution_count": 185,
     "metadata": {},
     "output_type": "execute_result"
    },
    {
     "data": {
      "image/png": "[encoded data removed]",
      "text/plain": [
       "<Figure size 432x288 with 1 Axes>"
      ]
     },
     "metadata": {
      "needs_background": "light"
     },
     "output_type": "display_data"
    }
   ],
   "source": [
    "plt.boxplot(new_pH)"
   ]
  },
  {
   "cell_type": "code",
   "execution_count": 186,
   "id": "f26de8a8-eac0-48d8-b31b-8969d895c220",
   "metadata": {},
   "outputs": [],
   "source": [
    "wine_t = wine_t.drop(['pH','ph_q1','ph_q3','ph_q2','iqr','upper','lower'], axis = 1)"
   ]
  },
  {
   "cell_type": "code",
   "execution_count": 187,
   "id": "5527bc21-8d4a-4f37-b31f-630853c0d8bf",
   "metadata": {},
   "outputs": [
    {
     "data": {
      "text/html": [
       "<div>\n",
       "<style scoped>\n",
       "    .dataframe tbody tr th:only-of-type {\n",
       "        vertical-align: middle;\n",
       "    }\n",
       "\n",
       "    .dataframe tbody tr th {\n",
       "        vertical-align: top;\n",
       "    }\n",
       "\n",
       "    .dataframe thead th {\n",
       "        text-align: right;\n",
       "    }\n",
       "</style>\n",
       "<table border=\"1\" class=\"dataframe\">\n",
       "  <thead>\n",
       "    <tr style=\"text-align: right;\">\n",
       "      <th></th>\n",
       "      <th>type</th>\n",
       "      <th>sulphates</th>\n",
       "      <th>alcohol</th>\n",
       "      <th>quality</th>\n",
       "      <th>New_fixed_acidity</th>\n",
       "      <th>New_volatile_acidity</th>\n",
       "      <th>New_citric_acid</th>\n",
       "      <th>New_residual_sugar</th>\n",
       "      <th>New_chlorides</th>\n",
       "      <th>New_Free_Sulfur_Dioxide</th>\n",
       "      <th>New_total_Sulfur_Dioxide</th>\n",
       "      <th>New_Density</th>\n",
       "      <th>New_pH</th>\n",
       "    </tr>\n",
       "  </thead>\n",
       "  <tbody>\n",
       "    <tr>\n",
       "      <th>0</th>\n",
       "      <td>white</td>\n",
       "      <td>0.45</td>\n",
       "      <td>8.8</td>\n",
       "      <td>6</td>\n",
       "      <td>7.0</td>\n",
       "      <td>0.27</td>\n",
       "      <td>0.36</td>\n",
       "      <td>5.551144</td>\n",
       "      <td>0.045</td>\n",
       "      <td>45.0</td>\n",
       "      <td>170.0</td>\n",
       "      <td>1.0010</td>\n",
       "      <td>3.00</td>\n",
       "    </tr>\n",
       "    <tr>\n",
       "      <th>1</th>\n",
       "      <td>white</td>\n",
       "      <td>0.49</td>\n",
       "      <td>9.5</td>\n",
       "      <td>6</td>\n",
       "      <td>6.3</td>\n",
       "      <td>0.30</td>\n",
       "      <td>0.34</td>\n",
       "      <td>1.600000</td>\n",
       "      <td>0.049</td>\n",
       "      <td>14.0</td>\n",
       "      <td>132.0</td>\n",
       "      <td>0.9940</td>\n",
       "      <td>3.30</td>\n",
       "    </tr>\n",
       "    <tr>\n",
       "      <th>2</th>\n",
       "      <td>white</td>\n",
       "      <td>0.44</td>\n",
       "      <td>10.1</td>\n",
       "      <td>6</td>\n",
       "      <td>8.1</td>\n",
       "      <td>0.28</td>\n",
       "      <td>0.40</td>\n",
       "      <td>6.900000</td>\n",
       "      <td>0.050</td>\n",
       "      <td>30.0</td>\n",
       "      <td>97.0</td>\n",
       "      <td>0.9951</td>\n",
       "      <td>3.26</td>\n",
       "    </tr>\n",
       "    <tr>\n",
       "      <th>3</th>\n",
       "      <td>white</td>\n",
       "      <td>0.40</td>\n",
       "      <td>9.9</td>\n",
       "      <td>6</td>\n",
       "      <td>7.2</td>\n",
       "      <td>0.23</td>\n",
       "      <td>0.32</td>\n",
       "      <td>8.500000</td>\n",
       "      <td>0.058</td>\n",
       "      <td>47.0</td>\n",
       "      <td>186.0</td>\n",
       "      <td>0.9956</td>\n",
       "      <td>3.19</td>\n",
       "    </tr>\n",
       "    <tr>\n",
       "      <th>4</th>\n",
       "      <td>white</td>\n",
       "      <td>0.40</td>\n",
       "      <td>9.9</td>\n",
       "      <td>6</td>\n",
       "      <td>7.2</td>\n",
       "      <td>0.23</td>\n",
       "      <td>0.32</td>\n",
       "      <td>8.500000</td>\n",
       "      <td>0.058</td>\n",
       "      <td>47.0</td>\n",
       "      <td>186.0</td>\n",
       "      <td>0.9956</td>\n",
       "      <td>3.19</td>\n",
       "    </tr>\n",
       "  </tbody>\n",
       "</table>\n",
       "</div>"
      ],
      "text/plain": [
       "    type  sulphates  alcohol  quality  New_fixed_acidity  \\\n",
       "0  white       0.45      8.8        6                7.0   \n",
       "1  white       0.49      9.5        6                6.3   \n",
       "2  white       0.44     10.1        6                8.1   \n",
       "3  white       0.40      9.9        6                7.2   \n",
       "4  white       0.40      9.9        6                7.2   \n",
       "\n",
       "   New_volatile_acidity  New_citric_acid  New_residual_sugar  New_chlorides  \\\n",
       "0                  0.27             0.36            5.551144          0.045   \n",
       "1                  0.30             0.34            1.600000          0.049   \n",
       "2                  0.28             0.40            6.900000          0.050   \n",
       "3                  0.23             0.32            8.500000          0.058   \n",
       "4                  0.23             0.32            8.500000          0.058   \n",
       "\n",
       "   New_Free_Sulfur_Dioxide  New_total_Sulfur_Dioxide  New_Density  New_pH  \n",
       "0                     45.0                     170.0       1.0010    3.00  \n",
       "1                     14.0                     132.0       0.9940    3.30  \n",
       "2                     30.0                      97.0       0.9951    3.26  \n",
       "3                     47.0                     186.0       0.9956    3.19  \n",
       "4                     47.0                     186.0       0.9956    3.19  "
      ]
     },
     "execution_count": 187,
     "metadata": {},
     "output_type": "execute_result"
    }
   ],
   "source": [
    "wine_t.head(5)"
   ]
  },
  {
   "cell_type": "code",
   "execution_count": 188,
   "id": "9eeeb91d-2982-4704-9788-54dd90b6a195",
   "metadata": {},
   "outputs": [
    {
     "data": {
      "text/plain": [
       "type                        0\n",
       "sulphates                   4\n",
       "alcohol                     0\n",
       "quality                     0\n",
       "New_fixed_acidity           0\n",
       "New_volatile_acidity        0\n",
       "New_citric_acid             0\n",
       "New_residual_sugar          0\n",
       "New_chlorides               0\n",
       "New_Free_Sulfur_Dioxide     0\n",
       "New_total_Sulfur_Dioxide    0\n",
       "New_Density                 0\n",
       "New_pH                      0\n",
       "dtype: int64"
      ]
     },
     "execution_count": 188,
     "metadata": {},
     "output_type": "execute_result"
    }
   ],
   "source": [
    "wine_t.isnull().sum()"
   ]
  },
  {
   "cell_type": "code",
   "execution_count": null,
   "id": "7b456238-356d-4a47-9226-d1d0d8cefbd6",
   "metadata": {},
   "outputs": [],
   "source": []
  },
  {
   "cell_type": "markdown",
   "id": "2ffb1c14-b1d5-4654-aec0-072e8cade81f",
   "metadata": {},
   "source": [
    "#### Limpieza de la variable 'sulphates'"
   ]
  },
  {
   "cell_type": "code",
   "execution_count": 189,
   "id": "a10e0183-0031-4b07-8af8-653e5e5532e6",
   "metadata": {},
   "outputs": [],
   "source": [
    "sulphates = wine_t"
   ]
  },
  {
   "cell_type": "markdown",
   "id": "ee8b066a-f2be-431e-948c-3cf105edec46",
   "metadata": {},
   "source": [
    "- Remplazando valores nulos por el promedio"
   ]
  },
  {
   "cell_type": "code",
   "execution_count": 190,
   "id": "531580f9-0421-450e-83e4-d82561c7b14e",
   "metadata": {},
   "outputs": [],
   "source": [
    "prom_sulphates = sulphates['sulphates'].mean()"
   ]
  },
  {
   "cell_type": "code",
   "execution_count": 191,
   "id": "9edadd78-5ec5-42c1-9de7-a4b07994740d",
   "metadata": {},
   "outputs": [
    {
     "data": {
      "text/plain": [
       "4"
      ]
     },
     "execution_count": 191,
     "metadata": {},
     "output_type": "execute_result"
    }
   ],
   "source": [
    "sulphates['sulphates'].isnull().sum()"
   ]
  },
  {
   "cell_type": "code",
   "execution_count": 192,
   "id": "db011915-fd62-4601-975d-791c1072312b",
   "metadata": {},
   "outputs": [],
   "source": [
    "sulphates['sulphates'] = sulphates['sulphates'].fillna(prom_sulphates)"
   ]
  },
  {
   "cell_type": "code",
   "execution_count": 193,
   "id": "67ce9c77-f8e2-4190-b067-ec9b04f97bc7",
   "metadata": {},
   "outputs": [
    {
     "data": {
      "text/plain": [
       "0"
      ]
     },
     "execution_count": 193,
     "metadata": {},
     "output_type": "execute_result"
    }
   ],
   "source": [
    "sulphates['sulphates'].isnull().sum()"
   ]
  },
  {
   "cell_type": "markdown",
   "id": "897c8cf4-77e8-400d-ac1f-0b3c22e4d738",
   "metadata": {},
   "source": [
    "- Sulphates en vinos de calidad 3"
   ]
  },
  {
   "cell_type": "code",
   "execution_count": 194,
   "id": "fe8d1e79-ca7c-4e2e-8caf-ec9cbb449132",
   "metadata": {},
   "outputs": [],
   "source": [
    "sulphates = wine_t.loc[(wine_t['quality'] == 3), ['sulphates']]"
   ]
  },
  {
   "cell_type": "code",
   "execution_count": 195,
   "id": "937d4ae0-9035-4590-8601-18cec4a4053a",
   "metadata": {},
   "outputs": [
    {
     "data": {
      "text/plain": [
       "{'whiskers': [<matplotlib.lines.Line2D at 0x1b69e17a880>,\n",
       "  <matplotlib.lines.Line2D at 0x1b69e17ab80>],\n",
       " 'caps': [<matplotlib.lines.Line2D at 0x1b69e17ae50>,\n",
       "  <matplotlib.lines.Line2D at 0x1b69e185160>],\n",
       " 'boxes': [<matplotlib.lines.Line2D at 0x1b69e17a580>],\n",
       " 'medians': [<matplotlib.lines.Line2D at 0x1b69e185430>],\n",
       " 'fliers': [<matplotlib.lines.Line2D at 0x1b69e185700>],\n",
       " 'means': []}"
      ]
     },
     "execution_count": 195,
     "metadata": {},
     "output_type": "execute_result"
    },
    {
     "data": {
      "image/png": "[encoded data removed]",
      "text/plain": [
       "<Figure size 432x288 with 1 Axes>"
      ]
     },
     "metadata": {
      "needs_background": "light"
     },
     "output_type": "display_data"
    }
   ],
   "source": [
    "plt.boxplot(sulphates)"
   ]
  },
  {
   "cell_type": "code",
   "execution_count": 196,
   "id": "8804da4e-4a4f-415f-b456-d9a7f5028fbc",
   "metadata": {},
   "outputs": [],
   "source": [
    "sulphates_q1 = wine_t.loc[:, ['quality','sulphates']].groupby(['quality'], as_index = False).quantile(0.25)\n",
    "sulphates_q1.columns = ['quality','sulphates_q1']"
   ]
  },
  {
   "cell_type": "code",
   "execution_count": 197,
   "id": "0c81f4df-c4d2-46dc-93f6-83f7e1d3f0dc",
   "metadata": {},
   "outputs": [],
   "source": [
    "sulphates_q3 = wine_t.loc[:, ['quality','sulphates']].groupby(['quality'], as_index = False).quantile(0.75)\n",
    "sulphates_q3.columns = ['quality','sulphates_q3']"
   ]
  },
  {
   "cell_type": "code",
   "execution_count": 198,
   "id": "f9cfcdff-1fe2-4bc0-89a0-cf1058ed37e9",
   "metadata": {},
   "outputs": [],
   "source": [
    "sulphates_q2 = wine_t.loc[:, ['quality','sulphates']].groupby(['quality'], as_index = False).mean()\n",
    "sulphates_q2.columns = ['quality','sulphates_q2']"
   ]
  },
  {
   "cell_type": "code",
   "execution_count": 199,
   "id": "8164bee1-9d37-4545-8c26-1ab9d2f23bc1",
   "metadata": {},
   "outputs": [],
   "source": [
    "sulphates_iqr = sulphates_q1.merge(sulphates_q3, on = 'quality', how = 'inner').merge(sulphates_q2, on = 'quality', how = 'inner')"
   ]
  },
  {
   "cell_type": "code",
   "execution_count": 200,
   "id": "d5fe7fb3-11be-4bfd-a43f-d21650f8e056",
   "metadata": {},
   "outputs": [],
   "source": [
    "sulphates_iqr['iqr'] = sulphates_iqr.apply(lambda r: r['sulphates_q3'] - r['sulphates_q1'], axis = 1)"
   ]
  },
  {
   "cell_type": "code",
   "execution_count": 201,
   "id": "d823156c-d20f-4baa-9e00-3cb383d2c43f",
   "metadata": {},
   "outputs": [],
   "source": [
    "sulphates_iqr['upper'] = sulphates_iqr.apply(lambda r: (r['sulphates_q3'] + 1.5*r['iqr']), axis = 1)\n",
    "sulphates_iqr['lower'] = sulphates_iqr.apply(lambda r: (r['sulphates_q1'] - 1.5*r['iqr']), axis = 1)"
   ]
  },
  {
   "cell_type": "code",
   "execution_count": 202,
   "id": "1fec398d-fa35-4373-ab51-0330dd15f93d",
   "metadata": {},
   "outputs": [],
   "source": [
    "wine_t = wine_t.merge(sulphates_iqr, on = 'quality', how = 'left')"
   ]
  },
  {
   "cell_type": "code",
   "execution_count": 203,
   "id": "ac617f4f-fa6e-4a1c-b3c9-aa9e8d3430fe",
   "metadata": {},
   "outputs": [],
   "source": [
    "def getRealSulphates(r):\n",
    "    if ( r[\"sulphates\"] <= r[\"lower\"] ) | ( r[\"sulphates\"] >= r[\"upper\"] ):\n",
    "        return r[\"sulphates_q2\"]\n",
    "    else:\n",
    "        return r[\"sulphates\"]"
   ]
  },
  {
   "cell_type": "code",
   "execution_count": 204,
   "id": "4c3e11b3-9ee0-4aa2-8b8c-9f525ef80483",
   "metadata": {},
   "outputs": [],
   "source": [
    "wine_t['New_sulphates'] = wine_t.apply( lambda r: getRealSulphates(r) , axis = 1 )"
   ]
  },
  {
   "cell_type": "code",
   "execution_count": 205,
   "id": "ce083188-980f-4aa8-b3df-2e2433535422",
   "metadata": {},
   "outputs": [],
   "source": [
    "new_sulphates = wine_t.loc[(wine_t['quality'] == 3), ['New_sulphates']]"
   ]
  },
  {
   "cell_type": "code",
   "execution_count": 206,
   "id": "27119b9b-cce0-4f2c-8e41-6edac6bcfb27",
   "metadata": {},
   "outputs": [
    {
     "data": {
      "text/plain": [
       "{'whiskers': [<matplotlib.lines.Line2D at 0x1b69f6e76d0>,\n",
       "  <matplotlib.lines.Line2D at 0x1b69f6e79a0>],\n",
       " 'caps': [<matplotlib.lines.Line2D at 0x1b69f6e7c70>,\n",
       "  <matplotlib.lines.Line2D at 0x1b69f6e7f40>],\n",
       " 'boxes': [<matplotlib.lines.Line2D at 0x1b69f6e7400>],\n",
       " 'medians': [<matplotlib.lines.Line2D at 0x1b69f6da250>],\n",
       " 'fliers': [<matplotlib.lines.Line2D at 0x1b69f6da520>],\n",
       " 'means': []}"
      ]
     },
     "execution_count": 206,
     "metadata": {},
     "output_type": "execute_result"
    },
    {
     "data": {
      "image/png": "[encoded data removed]",
      "text/plain": [
       "<Figure size 432x288 with 1 Axes>"
      ]
     },
     "metadata": {
      "needs_background": "light"
     },
     "output_type": "display_data"
    }
   ],
   "source": [
    "plt.boxplot(new_sulphates)"
   ]
  },
  {
   "cell_type": "code",
   "execution_count": 207,
   "id": "93b0bb50-7b31-45da-a34b-0f0c753e7f14",
   "metadata": {},
   "outputs": [],
   "source": [
    "wine_t = wine_t.drop(['sulphates','sulphates_q1','sulphates_q3','sulphates_q2','iqr','upper','lower'], axis = 1)"
   ]
  },
  {
   "cell_type": "code",
   "execution_count": 208,
   "id": "88c8caa1-335f-405f-9a97-9b038376032d",
   "metadata": {},
   "outputs": [
    {
     "data": {
      "text/html": [
       "<div>\n",
       "<style scoped>\n",
       "    .dataframe tbody tr th:only-of-type {\n",
       "        vertical-align: middle;\n",
       "    }\n",
       "\n",
       "    .dataframe tbody tr th {\n",
       "        vertical-align: top;\n",
       "    }\n",
       "\n",
       "    .dataframe thead th {\n",
       "        text-align: right;\n",
       "    }\n",
       "</style>\n",
       "<table border=\"1\" class=\"dataframe\">\n",
       "  <thead>\n",
       "    <tr style=\"text-align: right;\">\n",
       "      <th></th>\n",
       "      <th>type</th>\n",
       "      <th>alcohol</th>\n",
       "      <th>quality</th>\n",
       "      <th>New_fixed_acidity</th>\n",
       "      <th>New_volatile_acidity</th>\n",
       "      <th>New_citric_acid</th>\n",
       "      <th>New_residual_sugar</th>\n",
       "      <th>New_chlorides</th>\n",
       "      <th>New_Free_Sulfur_Dioxide</th>\n",
       "      <th>New_total_Sulfur_Dioxide</th>\n",
       "      <th>New_Density</th>\n",
       "      <th>New_pH</th>\n",
       "      <th>New_sulphates</th>\n",
       "    </tr>\n",
       "  </thead>\n",
       "  <tbody>\n",
       "    <tr>\n",
       "      <th>0</th>\n",
       "      <td>white</td>\n",
       "      <td>8.8</td>\n",
       "      <td>6</td>\n",
       "      <td>7.0</td>\n",
       "      <td>0.27</td>\n",
       "      <td>0.36</td>\n",
       "      <td>5.551144</td>\n",
       "      <td>0.045</td>\n",
       "      <td>45.0</td>\n",
       "      <td>170.0</td>\n",
       "      <td>1.0010</td>\n",
       "      <td>3.00</td>\n",
       "      <td>0.45</td>\n",
       "    </tr>\n",
       "    <tr>\n",
       "      <th>1</th>\n",
       "      <td>white</td>\n",
       "      <td>9.5</td>\n",
       "      <td>6</td>\n",
       "      <td>6.3</td>\n",
       "      <td>0.30</td>\n",
       "      <td>0.34</td>\n",
       "      <td>1.600000</td>\n",
       "      <td>0.049</td>\n",
       "      <td>14.0</td>\n",
       "      <td>132.0</td>\n",
       "      <td>0.9940</td>\n",
       "      <td>3.30</td>\n",
       "      <td>0.49</td>\n",
       "    </tr>\n",
       "    <tr>\n",
       "      <th>2</th>\n",
       "      <td>white</td>\n",
       "      <td>10.1</td>\n",
       "      <td>6</td>\n",
       "      <td>8.1</td>\n",
       "      <td>0.28</td>\n",
       "      <td>0.40</td>\n",
       "      <td>6.900000</td>\n",
       "      <td>0.050</td>\n",
       "      <td>30.0</td>\n",
       "      <td>97.0</td>\n",
       "      <td>0.9951</td>\n",
       "      <td>3.26</td>\n",
       "      <td>0.44</td>\n",
       "    </tr>\n",
       "    <tr>\n",
       "      <th>3</th>\n",
       "      <td>white</td>\n",
       "      <td>9.9</td>\n",
       "      <td>6</td>\n",
       "      <td>7.2</td>\n",
       "      <td>0.23</td>\n",
       "      <td>0.32</td>\n",
       "      <td>8.500000</td>\n",
       "      <td>0.058</td>\n",
       "      <td>47.0</td>\n",
       "      <td>186.0</td>\n",
       "      <td>0.9956</td>\n",
       "      <td>3.19</td>\n",
       "      <td>0.40</td>\n",
       "    </tr>\n",
       "    <tr>\n",
       "      <th>4</th>\n",
       "      <td>white</td>\n",
       "      <td>9.9</td>\n",
       "      <td>6</td>\n",
       "      <td>7.2</td>\n",
       "      <td>0.23</td>\n",
       "      <td>0.32</td>\n",
       "      <td>8.500000</td>\n",
       "      <td>0.058</td>\n",
       "      <td>47.0</td>\n",
       "      <td>186.0</td>\n",
       "      <td>0.9956</td>\n",
       "      <td>3.19</td>\n",
       "      <td>0.40</td>\n",
       "    </tr>\n",
       "  </tbody>\n",
       "</table>\n",
       "</div>"
      ],
      "text/plain": [
       "    type  alcohol  quality  New_fixed_acidity  New_volatile_acidity  \\\n",
       "0  white      8.8        6                7.0                  0.27   \n",
       "1  white      9.5        6                6.3                  0.30   \n",
       "2  white     10.1        6                8.1                  0.28   \n",
       "3  white      9.9        6                7.2                  0.23   \n",
       "4  white      9.9        6                7.2                  0.23   \n",
       "\n",
       "   New_citric_acid  New_residual_sugar  New_chlorides  \\\n",
       "0             0.36            5.551144          0.045   \n",
       "1             0.34            1.600000          0.049   \n",
       "2             0.40            6.900000          0.050   \n",
       "3             0.32            8.500000          0.058   \n",
       "4             0.32            8.500000          0.058   \n",
       "\n",
       "   New_Free_Sulfur_Dioxide  New_total_Sulfur_Dioxide  New_Density  New_pH  \\\n",
       "0                     45.0                     170.0       1.0010    3.00   \n",
       "1                     14.0                     132.0       0.9940    3.30   \n",
       "2                     30.0                      97.0       0.9951    3.26   \n",
       "3                     47.0                     186.0       0.9956    3.19   \n",
       "4                     47.0                     186.0       0.9956    3.19   \n",
       "\n",
       "   New_sulphates  \n",
       "0           0.45  \n",
       "1           0.49  \n",
       "2           0.44  \n",
       "3           0.40  \n",
       "4           0.40  "
      ]
     },
     "execution_count": 208,
     "metadata": {},
     "output_type": "execute_result"
    }
   ],
   "source": [
    "wine_t.head(5)"
   ]
  },
  {
   "cell_type": "code",
   "execution_count": 209,
   "id": "2339b2bb-0db1-434e-a6e0-3bb8f6055d48",
   "metadata": {},
   "outputs": [
    {
     "data": {
      "text/plain": [
       "type                        0\n",
       "alcohol                     0\n",
       "quality                     0\n",
       "New_fixed_acidity           0\n",
       "New_volatile_acidity        0\n",
       "New_citric_acid             0\n",
       "New_residual_sugar          0\n",
       "New_chlorides               0\n",
       "New_Free_Sulfur_Dioxide     0\n",
       "New_total_Sulfur_Dioxide    0\n",
       "New_Density                 0\n",
       "New_pH                      0\n",
       "New_sulphates               0\n",
       "dtype: int64"
      ]
     },
     "execution_count": 209,
     "metadata": {},
     "output_type": "execute_result"
    }
   ],
   "source": [
    "wine_t.isnull().sum()"
   ]
  },
  {
   "cell_type": "code",
   "execution_count": null,
   "id": "99c68e9b-f9d6-496d-966e-ab3d89ecfb87",
   "metadata": {},
   "outputs": [],
   "source": []
  },
  {
   "cell_type": "markdown",
   "id": "1c12e8c8-8b68-463c-a2e5-504d319ba181",
   "metadata": {},
   "source": [
    "#### Limpieza de la variable 'alcohol'"
   ]
  },
  {
   "cell_type": "markdown",
   "id": "dc6de85e-f959-4e83-8111-49e1acbec66b",
   "metadata": {},
   "source": [
    "- alcohol en vinos de calidad 5"
   ]
  },
  {
   "cell_type": "code",
   "execution_count": 210,
   "id": "a98d88ab-fc34-43ed-892e-4d1102807395",
   "metadata": {},
   "outputs": [],
   "source": [
    "alcohol = wine_t.loc[(wine_t['quality'] == 5), ['alcohol']]"
   ]
  },
  {
   "cell_type": "code",
   "execution_count": 211,
   "id": "4d1dcad9-7ca4-4d6e-9c45-4b75b356d693",
   "metadata": {},
   "outputs": [
    {
     "data": {
      "text/plain": [
       "{'whiskers': [<matplotlib.lines.Line2D at 0x1b69f71f190>,\n",
       "  <matplotlib.lines.Line2D at 0x1b69f71f460>],\n",
       " 'caps': [<matplotlib.lines.Line2D at 0x1b69f71f730>,\n",
       "  <matplotlib.lines.Line2D at 0x1b69f71fa00>],\n",
       " 'boxes': [<matplotlib.lines.Line2D at 0x1b69f6fee80>],\n",
       " 'medians': [<matplotlib.lines.Line2D at 0x1b69f71fcd0>],\n",
       " 'fliers': [<matplotlib.lines.Line2D at 0x1b69f71ffa0>],\n",
       " 'means': []}"
      ]
     },
     "execution_count": 211,
     "metadata": {},
     "output_type": "execute_result"
    },
    {
     "data": {
      "image/png": "[encoded data removed]",
      "text/plain": [
       "<Figure size 432x288 with 1 Axes>"
      ]
     },
     "metadata": {
      "needs_background": "light"
     },
     "output_type": "display_data"
    }
   ],
   "source": [
    "plt.boxplot(alcohol)"
   ]
  },
  {
   "cell_type": "code",
   "execution_count": 212,
   "id": "a434a852-126f-47c5-a43b-b970e4c10140",
   "metadata": {},
   "outputs": [],
   "source": [
    "alcohol_q1 = wine_t.loc[:, ['quality','alcohol']].groupby(['quality'], as_index = False).quantile(0.25)\n",
    "alcohol_q1.columns = ['quality','alcohol_q1']"
   ]
  },
  {
   "cell_type": "code",
   "execution_count": 213,
   "id": "fa4ea5ff-c6d1-4cfd-b2fe-05902e555ec6",
   "metadata": {},
   "outputs": [],
   "source": [
    "alcohol_q3 = wine_t.loc[:, ['quality','alcohol']].groupby(['quality'], as_index = False).quantile(0.75)\n",
    "alcohol_q3.columns = ['quality','alcohol_q3']"
   ]
  },
  {
   "cell_type": "code",
   "execution_count": 214,
   "id": "fdeb50b7-e7cf-424f-a7c4-c5cc4c886203",
   "metadata": {},
   "outputs": [],
   "source": [
    "alcohol_q2 = wine_t.loc[:, ['quality','alcohol']].groupby(['quality'], as_index = False).mean()\n",
    "alcohol_q2.columns = ['quality','alcohol_q2']"
   ]
  },
  {
   "cell_type": "code",
   "execution_count": 215,
   "id": "98b3c5a9-4443-4984-a45c-bf94b872823a",
   "metadata": {},
   "outputs": [],
   "source": [
    "alcohol_iqr = alcohol_q1.merge(alcohol_q3, on = 'quality', how = 'inner').merge(alcohol_q2, on = 'quality', how = 'inner')"
   ]
  },
  {
   "cell_type": "code",
   "execution_count": 216,
   "id": "3b2aab68-2699-4dd4-9d73-541edaf07275",
   "metadata": {},
   "outputs": [],
   "source": [
    "alcohol_iqr['iqr'] = alcohol_iqr.apply(lambda r: r['alcohol_q3'] - r['alcohol_q1'], axis = 1)"
   ]
  },
  {
   "cell_type": "code",
   "execution_count": 217,
   "id": "f66a1bfa-b9ba-4dce-85a7-78361ce1a235",
   "metadata": {},
   "outputs": [],
   "source": [
    "alcohol_iqr['upper'] = alcohol_iqr.apply(lambda r: (r['alcohol_q3'] + 1.5*r['iqr']), axis = 1)\n",
    "alcohol_iqr['lower'] = alcohol_iqr.apply(lambda r: (r['alcohol_q1'] - 1.5*r['iqr']), axis = 1)"
   ]
  },
  {
   "cell_type": "code",
   "execution_count": 218,
   "id": "1feae04b-8f94-4410-9673-ffdf12889bf0",
   "metadata": {},
   "outputs": [],
   "source": [
    "wine_t = wine_t.merge(alcohol_iqr, on = 'quality', how = 'left')"
   ]
  },
  {
   "cell_type": "code",
   "execution_count": 219,
   "id": "f192d555-61c6-4ef1-8422-4782bde7a9e1",
   "metadata": {},
   "outputs": [],
   "source": [
    "def getRealAlcohol(r):\n",
    "    if ( r[\"alcohol\"] <= r[\"lower\"] ) | ( r[\"alcohol\"] >= r[\"upper\"] ):\n",
    "        return r[\"alcohol_q2\"]\n",
    "    else:\n",
    "        return r[\"alcohol\"]"
   ]
  },
  {
   "cell_type": "code",
   "execution_count": 220,
   "id": "0df29f50-6bf9-4b50-aa1d-f48eb49b95b8",
   "metadata": {},
   "outputs": [],
   "source": [
    "wine_t['New_alcohol'] = wine_t.apply( lambda r: getRealAlcohol(r) , axis = 1 )"
   ]
  },
  {
   "cell_type": "code",
   "execution_count": 221,
   "id": "fd48753c-5f88-4ae4-a450-851e66d04ef1",
   "metadata": {},
   "outputs": [],
   "source": [
    "new_alcohol = wine_t.loc[(wine_t['quality'] == 5), ['New_alcohol']]"
   ]
  },
  {
   "cell_type": "code",
   "execution_count": 222,
   "id": "930610df-3331-4b11-88f8-8951d6e75a07",
   "metadata": {},
   "outputs": [
    {
     "data": {
      "text/plain": [
       "{'whiskers': [<matplotlib.lines.Line2D at 0x1b69f804bb0>,\n",
       "  <matplotlib.lines.Line2D at 0x1b69f804e80>],\n",
       " 'caps': [<matplotlib.lines.Line2D at 0x1b69f811190>,\n",
       "  <matplotlib.lines.Line2D at 0x1b69f811460>],\n",
       " 'boxes': [<matplotlib.lines.Line2D at 0x1b69f8048e0>],\n",
       " 'medians': [<matplotlib.lines.Line2D at 0x1b69f811730>],\n",
       " 'fliers': [<matplotlib.lines.Line2D at 0x1b69f811a00>],\n",
       " 'means': []}"
      ]
     },
     "execution_count": 222,
     "metadata": {},
     "output_type": "execute_result"
    },
    {
     "data": {
      "image/png": "[encoded data removed]",
      "text/plain": [
       "<Figure size 432x288 with 1 Axes>"
      ]
     },
     "metadata": {
      "needs_background": "light"
     },
     "output_type": "display_data"
    }
   ],
   "source": [
    "plt.boxplot(new_alcohol)"
   ]
  },
  {
   "cell_type": "code",
   "execution_count": 223,
   "id": "cbc5260d-d738-412d-ba57-e5594755e983",
   "metadata": {},
   "outputs": [],
   "source": [
    "wine_t = wine_t.drop(['alcohol','alcohol_q1','alcohol_q3','alcohol_q2','iqr','upper','lower'], axis = 1)"
   ]
  },
  {
   "cell_type": "code",
   "execution_count": 224,
   "id": "7a577b5e-11e2-4a1b-ab06-e01c226619cd",
   "metadata": {},
   "outputs": [
    {
     "data": {
      "text/html": [
       "<div>\n",
       "<style scoped>\n",
       "    .dataframe tbody tr th:only-of-type {\n",
       "        vertical-align: middle;\n",
       "    }\n",
       "\n",
       "    .dataframe tbody tr th {\n",
       "        vertical-align: top;\n",
       "    }\n",
       "\n",
       "    .dataframe thead th {\n",
       "        text-align: right;\n",
       "    }\n",
       "</style>\n",
       "<table border=\"1\" class=\"dataframe\">\n",
       "  <thead>\n",
       "    <tr style=\"text-align: right;\">\n",
       "      <th></th>\n",
       "      <th>type</th>\n",
       "      <th>quality</th>\n",
       "      <th>New_fixed_acidity</th>\n",
       "      <th>New_volatile_acidity</th>\n",
       "      <th>New_citric_acid</th>\n",
       "      <th>New_residual_sugar</th>\n",
       "      <th>New_chlorides</th>\n",
       "      <th>New_Free_Sulfur_Dioxide</th>\n",
       "      <th>New_total_Sulfur_Dioxide</th>\n",
       "      <th>New_Density</th>\n",
       "      <th>New_pH</th>\n",
       "      <th>New_sulphates</th>\n",
       "      <th>New_alcohol</th>\n",
       "    </tr>\n",
       "  </thead>\n",
       "  <tbody>\n",
       "    <tr>\n",
       "      <th>0</th>\n",
       "      <td>white</td>\n",
       "      <td>6</td>\n",
       "      <td>7.0</td>\n",
       "      <td>0.27</td>\n",
       "      <td>0.36</td>\n",
       "      <td>5.551144</td>\n",
       "      <td>0.045</td>\n",
       "      <td>45.0</td>\n",
       "      <td>170.0</td>\n",
       "      <td>1.0010</td>\n",
       "      <td>3.00</td>\n",
       "      <td>0.45</td>\n",
       "      <td>8.8</td>\n",
       "    </tr>\n",
       "    <tr>\n",
       "      <th>1</th>\n",
       "      <td>white</td>\n",
       "      <td>6</td>\n",
       "      <td>6.3</td>\n",
       "      <td>0.30</td>\n",
       "      <td>0.34</td>\n",
       "      <td>1.600000</td>\n",
       "      <td>0.049</td>\n",
       "      <td>14.0</td>\n",
       "      <td>132.0</td>\n",
       "      <td>0.9940</td>\n",
       "      <td>3.30</td>\n",
       "      <td>0.49</td>\n",
       "      <td>9.5</td>\n",
       "    </tr>\n",
       "    <tr>\n",
       "      <th>2</th>\n",
       "      <td>white</td>\n",
       "      <td>6</td>\n",
       "      <td>8.1</td>\n",
       "      <td>0.28</td>\n",
       "      <td>0.40</td>\n",
       "      <td>6.900000</td>\n",
       "      <td>0.050</td>\n",
       "      <td>30.0</td>\n",
       "      <td>97.0</td>\n",
       "      <td>0.9951</td>\n",
       "      <td>3.26</td>\n",
       "      <td>0.44</td>\n",
       "      <td>10.1</td>\n",
       "    </tr>\n",
       "    <tr>\n",
       "      <th>3</th>\n",
       "      <td>white</td>\n",
       "      <td>6</td>\n",
       "      <td>7.2</td>\n",
       "      <td>0.23</td>\n",
       "      <td>0.32</td>\n",
       "      <td>8.500000</td>\n",
       "      <td>0.058</td>\n",
       "      <td>47.0</td>\n",
       "      <td>186.0</td>\n",
       "      <td>0.9956</td>\n",
       "      <td>3.19</td>\n",
       "      <td>0.40</td>\n",
       "      <td>9.9</td>\n",
       "    </tr>\n",
       "    <tr>\n",
       "      <th>4</th>\n",
       "      <td>white</td>\n",
       "      <td>6</td>\n",
       "      <td>7.2</td>\n",
       "      <td>0.23</td>\n",
       "      <td>0.32</td>\n",
       "      <td>8.500000</td>\n",
       "      <td>0.058</td>\n",
       "      <td>47.0</td>\n",
       "      <td>186.0</td>\n",
       "      <td>0.9956</td>\n",
       "      <td>3.19</td>\n",
       "      <td>0.40</td>\n",
       "      <td>9.9</td>\n",
       "    </tr>\n",
       "  </tbody>\n",
       "</table>\n",
       "</div>"
      ],
      "text/plain": [
       "    type  quality  New_fixed_acidity  New_volatile_acidity  New_citric_acid  \\\n",
       "0  white        6                7.0                  0.27             0.36   \n",
       "1  white        6                6.3                  0.30             0.34   \n",
       "2  white        6                8.1                  0.28             0.40   \n",
       "3  white        6                7.2                  0.23             0.32   \n",
       "4  white        6                7.2                  0.23             0.32   \n",
       "\n",
       "   New_residual_sugar  New_chlorides  New_Free_Sulfur_Dioxide  \\\n",
       "0            5.551144          0.045                     45.0   \n",
       "1            1.600000          0.049                     14.0   \n",
       "2            6.900000          0.050                     30.0   \n",
       "3            8.500000          0.058                     47.0   \n",
       "4            8.500000          0.058                     47.0   \n",
       "\n",
       "   New_total_Sulfur_Dioxide  New_Density  New_pH  New_sulphates  New_alcohol  \n",
       "0                     170.0       1.0010    3.00           0.45          8.8  \n",
       "1                     132.0       0.9940    3.30           0.49          9.5  \n",
       "2                      97.0       0.9951    3.26           0.44         10.1  \n",
       "3                     186.0       0.9956    3.19           0.40          9.9  \n",
       "4                     186.0       0.9956    3.19           0.40          9.9  "
      ]
     },
     "execution_count": 224,
     "metadata": {},
     "output_type": "execute_result"
    }
   ],
   "source": [
    "wine_t.head(5)"
   ]
  },
  {
   "cell_type": "code",
   "execution_count": 225,
   "id": "ff7bbb03-3850-4e17-bfce-31c0b0f5c141",
   "metadata": {},
   "outputs": [
    {
     "data": {
      "text/plain": [
       "type                        0\n",
       "quality                     0\n",
       "New_fixed_acidity           0\n",
       "New_volatile_acidity        0\n",
       "New_citric_acid             0\n",
       "New_residual_sugar          0\n",
       "New_chlorides               0\n",
       "New_Free_Sulfur_Dioxide     0\n",
       "New_total_Sulfur_Dioxide    0\n",
       "New_Density                 0\n",
       "New_pH                      0\n",
       "New_sulphates               0\n",
       "New_alcohol                 0\n",
       "dtype: int64"
      ]
     },
     "execution_count": 225,
     "metadata": {},
     "output_type": "execute_result"
    }
   ],
   "source": [
    "wine_t.isnull().sum()"
   ]
  },
  {
   "cell_type": "code",
   "execution_count": null,
   "id": "a2981536-c34a-4e7d-b31a-d5847567d253",
   "metadata": {},
   "outputs": [],
   "source": []
  },
  {
   "cell_type": "markdown",
   "id": "e5848cfc-2840-423b-acf4-62935e46a3a3",
   "metadata": {},
   "source": [
    "### PCA"
   ]
  },
  {
   "cell_type": "code",
   "execution_count": 226,
   "id": "719a35fe-116e-4b44-a07c-55eb03f4bcd8",
   "metadata": {},
   "outputs": [
    {
     "data": {
      "text/html": [
       "<div>\n",
       "<style scoped>\n",
       "    .dataframe tbody tr th:only-of-type {\n",
       "        vertical-align: middle;\n",
       "    }\n",
       "\n",
       "    .dataframe tbody tr th {\n",
       "        vertical-align: top;\n",
       "    }\n",
       "\n",
       "    .dataframe thead th {\n",
       "        text-align: right;\n",
       "    }\n",
       "</style>\n",
       "<table border=\"1\" class=\"dataframe\">\n",
       "  <thead>\n",
       "    <tr style=\"text-align: right;\">\n",
       "      <th></th>\n",
       "      <th>type</th>\n",
       "      <th>quality</th>\n",
       "      <th>New_fixed_acidity</th>\n",
       "      <th>New_volatile_acidity</th>\n",
       "      <th>New_citric_acid</th>\n",
       "      <th>New_residual_sugar</th>\n",
       "      <th>New_chlorides</th>\n",
       "      <th>New_Free_Sulfur_Dioxide</th>\n",
       "      <th>New_total_Sulfur_Dioxide</th>\n",
       "      <th>New_Density</th>\n",
       "      <th>New_pH</th>\n",
       "      <th>New_sulphates</th>\n",
       "      <th>New_alcohol</th>\n",
       "    </tr>\n",
       "  </thead>\n",
       "  <tbody>\n",
       "    <tr>\n",
       "      <th>0</th>\n",
       "      <td>white</td>\n",
       "      <td>6</td>\n",
       "      <td>7.0</td>\n",
       "      <td>0.27</td>\n",
       "      <td>0.36</td>\n",
       "      <td>5.551144</td>\n",
       "      <td>0.045</td>\n",
       "      <td>45.0</td>\n",
       "      <td>170.0</td>\n",
       "      <td>1.0010</td>\n",
       "      <td>3.00</td>\n",
       "      <td>0.45</td>\n",
       "      <td>8.8</td>\n",
       "    </tr>\n",
       "    <tr>\n",
       "      <th>1</th>\n",
       "      <td>white</td>\n",
       "      <td>6</td>\n",
       "      <td>6.3</td>\n",
       "      <td>0.30</td>\n",
       "      <td>0.34</td>\n",
       "      <td>1.600000</td>\n",
       "      <td>0.049</td>\n",
       "      <td>14.0</td>\n",
       "      <td>132.0</td>\n",
       "      <td>0.9940</td>\n",
       "      <td>3.30</td>\n",
       "      <td>0.49</td>\n",
       "      <td>9.5</td>\n",
       "    </tr>\n",
       "    <tr>\n",
       "      <th>2</th>\n",
       "      <td>white</td>\n",
       "      <td>6</td>\n",
       "      <td>8.1</td>\n",
       "      <td>0.28</td>\n",
       "      <td>0.40</td>\n",
       "      <td>6.900000</td>\n",
       "      <td>0.050</td>\n",
       "      <td>30.0</td>\n",
       "      <td>97.0</td>\n",
       "      <td>0.9951</td>\n",
       "      <td>3.26</td>\n",
       "      <td>0.44</td>\n",
       "      <td>10.1</td>\n",
       "    </tr>\n",
       "    <tr>\n",
       "      <th>3</th>\n",
       "      <td>white</td>\n",
       "      <td>6</td>\n",
       "      <td>7.2</td>\n",
       "      <td>0.23</td>\n",
       "      <td>0.32</td>\n",
       "      <td>8.500000</td>\n",
       "      <td>0.058</td>\n",
       "      <td>47.0</td>\n",
       "      <td>186.0</td>\n",
       "      <td>0.9956</td>\n",
       "      <td>3.19</td>\n",
       "      <td>0.40</td>\n",
       "      <td>9.9</td>\n",
       "    </tr>\n",
       "    <tr>\n",
       "      <th>4</th>\n",
       "      <td>white</td>\n",
       "      <td>6</td>\n",
       "      <td>7.2</td>\n",
       "      <td>0.23</td>\n",
       "      <td>0.32</td>\n",
       "      <td>8.500000</td>\n",
       "      <td>0.058</td>\n",
       "      <td>47.0</td>\n",
       "      <td>186.0</td>\n",
       "      <td>0.9956</td>\n",
       "      <td>3.19</td>\n",
       "      <td>0.40</td>\n",
       "      <td>9.9</td>\n",
       "    </tr>\n",
       "  </tbody>\n",
       "</table>\n",
       "</div>"
      ],
      "text/plain": [
       "    type  quality  New_fixed_acidity  New_volatile_acidity  New_citric_acid  \\\n",
       "0  white        6                7.0                  0.27             0.36   \n",
       "1  white        6                6.3                  0.30             0.34   \n",
       "2  white        6                8.1                  0.28             0.40   \n",
       "3  white        6                7.2                  0.23             0.32   \n",
       "4  white        6                7.2                  0.23             0.32   \n",
       "\n",
       "   New_residual_sugar  New_chlorides  New_Free_Sulfur_Dioxide  \\\n",
       "0            5.551144          0.045                     45.0   \n",
       "1            1.600000          0.049                     14.0   \n",
       "2            6.900000          0.050                     30.0   \n",
       "3            8.500000          0.058                     47.0   \n",
       "4            8.500000          0.058                     47.0   \n",
       "\n",
       "   New_total_Sulfur_Dioxide  New_Density  New_pH  New_sulphates  New_alcohol  \n",
       "0                     170.0       1.0010    3.00           0.45          8.8  \n",
       "1                     132.0       0.9940    3.30           0.49          9.5  \n",
       "2                      97.0       0.9951    3.26           0.44         10.1  \n",
       "3                     186.0       0.9956    3.19           0.40          9.9  \n",
       "4                     186.0       0.9956    3.19           0.40          9.9  "
      ]
     },
     "execution_count": 226,
     "metadata": {},
     "output_type": "execute_result"
    }
   ],
   "source": [
    "wine_t.head(5)"
   ]
  },
  {
   "cell_type": "code",
   "execution_count": 227,
   "id": "2ab1ed28-1c57-4bff-bd4e-3f41ec9ac698",
   "metadata": {},
   "outputs": [],
   "source": [
    "cols_to_use = ['New_citric_acid','New_residual_sugar','New_total_Sulfur_Dioxide','New_Density','New_alcohol']"
   ]
  },
  {
   "cell_type": "code",
   "execution_count": 228,
   "id": "6a8f6c6b-f413-425d-a428-31921487ecd1",
   "metadata": {},
   "outputs": [],
   "source": [
    "x = wine_t.loc[:,cols_to_use].values"
   ]
  },
  {
   "cell_type": "code",
   "execution_count": 229,
   "id": "286b40a8-1ed6-4b2a-9162-b578ba570d81",
   "metadata": {},
   "outputs": [
    {
     "data": {
      "text/plain": [
       "array([[3.60000000e-01, 5.55114398e+00, 1.70000000e+02, 1.00100000e+00,\n",
       "        8.80000000e+00],\n",
       "       [3.40000000e-01, 1.60000000e+00, 1.32000000e+02, 9.94000000e-01,\n",
       "        9.50000000e+00],\n",
       "       [4.00000000e-01, 6.90000000e+00, 9.70000000e+01, 9.95100000e-01,\n",
       "        1.01000000e+01],\n",
       "       ...,\n",
       "       [1.30000000e-01, 2.30000000e+00, 4.00000000e+01, 9.95740000e-01,\n",
       "        1.10000000e+01],\n",
       "       [1.20000000e-01, 2.00000000e+00, 4.40000000e+01, 9.95470000e-01,\n",
       "        1.02000000e+01],\n",
       "       [4.70000000e-01, 3.60000000e+00, 4.20000000e+01, 9.95490000e-01,\n",
       "        1.10000000e+01]])"
      ]
     },
     "execution_count": 229,
     "metadata": {},
     "output_type": "execute_result"
    }
   ],
   "source": [
    "x"
   ]
  },
  {
   "cell_type": "markdown",
   "id": "8b2f8e6f-14f1-4df3-a5a5-383c814c1603",
   "metadata": {},
   "source": [
    "- Estandarizamos los datos"
   ]
  },
  {
   "cell_type": "code",
   "execution_count": 230,
   "id": "88b40196-09f7-4b11-a3e6-299007a67ff6",
   "metadata": {},
   "outputs": [],
   "source": [
    "x = StandardScaler().fit_transform(x)"
   ]
  },
  {
   "cell_type": "code",
   "execution_count": 231,
   "id": "cc992725-d81e-4b3f-82d7-d368599acc5d",
   "metadata": {},
   "outputs": [],
   "source": [
    "x = np.around(x,2)"
   ]
  },
  {
   "cell_type": "code",
   "execution_count": 232,
   "id": "76a43b03-6d11-4987-906e-e217d441acef",
   "metadata": {},
   "outputs": [
    {
     "data": {
      "text/plain": [
       "array([[ 0.39,  0.09,  0.98,  2.17, -1.42],\n",
       "       [ 0.21, -0.82,  0.29, -0.23, -0.82],\n",
       "       [ 0.73,  0.4 , -0.33,  0.15, -0.31],\n",
       "       ...,\n",
       "       [-1.6 , -0.66, -1.36,  0.37,  0.45],\n",
       "       [-1.69, -0.73, -1.28,  0.27, -0.23],\n",
       "       [ 1.34, -0.36, -1.32,  0.28,  0.45]])"
      ]
     },
     "execution_count": 232,
     "metadata": {},
     "output_type": "execute_result"
    }
   ],
   "source": [
    "x"
   ]
  },
  {
   "cell_type": "markdown",
   "id": "74548f9b-53e0-4520-aefb-faac56e567e9",
   "metadata": {},
   "source": [
    "- Parametrizar, preparamos el modelo que vamos a entrenar"
   ]
  },
  {
   "cell_type": "code",
   "execution_count": 233,
   "id": "e82afb47-6b38-4472-a71a-157796443e1e",
   "metadata": {},
   "outputs": [],
   "source": [
    "pca = PCA(n_components = 2)"
   ]
  },
  {
   "cell_type": "code",
   "execution_count": 234,
   "id": "975fdb6a-df98-4934-b34f-6a96dce872e0",
   "metadata": {},
   "outputs": [],
   "source": [
    "principalComponents = pca.fit_transform(x)"
   ]
  },
  {
   "cell_type": "code",
   "execution_count": 235,
   "id": "8e971a7a-cc69-47e4-8ed9-ae0623d2f4a3",
   "metadata": {},
   "outputs": [],
   "source": [
    "pcadf = pd.DataFrame(data = principalComponents, columns = ['c1','c2'])"
   ]
  },
  {
   "cell_type": "code",
   "execution_count": 236,
   "id": "7b49dde6-2b2e-4ccd-80ba-6aef5dac8f48",
   "metadata": {},
   "outputs": [
    {
     "data": {
      "text/plain": [
       "<matplotlib.collections.PathCollection at 0x1b69f2b9b50>"
      ]
     },
     "execution_count": 236,
     "metadata": {},
     "output_type": "execute_result"
    },
    {
     "data": {
      "image/png": "[encoded data removed]",
      "text/plain": [
       "<Figure size 432x288 with 1 Axes>"
      ]
     },
     "metadata": {
      "needs_background": "light"
     },
     "output_type": "display_data"
    }
   ],
   "source": [
    "plt.scatter(pcadf['c1'], pcadf['c2'])"
   ]
  },
  {
   "cell_type": "code",
   "execution_count": null,
   "id": "e3e9efa3-8395-4e11-95cf-864217fb056f",
   "metadata": {},
   "outputs": [],
   "source": []
  },
  {
   "cell_type": "markdown",
   "id": "b3c81fb5-012b-448d-842f-3a5a65ba28bd",
   "metadata": {},
   "source": [
    "### KMeans"
   ]
  },
  {
   "cell_type": "code",
   "execution_count": 237,
   "id": "cafdfeda-a8da-4645-8ef5-8008ef409753",
   "metadata": {},
   "outputs": [],
   "source": [
    "km = KMeans(n_clusters = 3).fit(pcadf)"
   ]
  },
  {
   "cell_type": "code",
   "execution_count": 238,
   "id": "4f008996-ef0c-4f11-b114-f8386aa4028e",
   "metadata": {},
   "outputs": [],
   "source": [
    "centroids = km.cluster_centers_"
   ]
  },
  {
   "cell_type": "code",
   "execution_count": 239,
   "id": "e18ab3fb-ef2d-4ad9-bfd2-853fc5b64c05",
   "metadata": {},
   "outputs": [
    {
     "data": {
      "text/plain": [
       "array([[-0.17389622,  1.27612878],\n",
       "       [-1.23014072, -0.63235116],\n",
       "       [ 1.80805272, -0.41172234]])"
      ]
     },
     "execution_count": 239,
     "metadata": {},
     "output_type": "execute_result"
    }
   ],
   "source": [
    "centroids"
   ]
  },
  {
   "cell_type": "code",
   "execution_count": 240,
   "id": "26329aea-1875-4f66-9537-8ad9d9fa3b91",
   "metadata": {},
   "outputs": [
    {
     "data": {
      "text/plain": [
       "array([2, 0, 2, ..., 0, 0, 1])"
      ]
     },
     "execution_count": 240,
     "metadata": {},
     "output_type": "execute_result"
    }
   ],
   "source": [
    "km.labels_"
   ]
  },
  {
   "cell_type": "code",
   "execution_count": 241,
   "id": "e33278d1-e201-4552-b768-32d6ca0a48f4",
   "metadata": {},
   "outputs": [
    {
     "data": {
      "text/plain": [
       "<matplotlib.collections.PathCollection at 0x1b69f3396a0>"
      ]
     },
     "execution_count": 241,
     "metadata": {},
     "output_type": "execute_result"
    },
    {
     "data": {
      "image/png": "[encoded data removed]",
      "text/plain": [
       "<Figure size 432x288 with 1 Axes>"
      ]
     },
     "metadata": {
      "needs_background": "light"
     },
     "output_type": "display_data"
    }
   ],
   "source": [
    "plt.scatter(pcadf['c1'], pcadf['c2'], c = km.labels_.astype(float), s = 50, alpha = 0.5)"
   ]
  },
  {
   "cell_type": "markdown",
   "id": "52f65395-3248-42e6-bcc3-c969d89c9cfa",
   "metadata": {},
   "source": [
    "Cada uno de los perfiles significa que los vinos que se encuentran en ese grupo tienen caracterísiticas similares entre sí, al momento de tratar de vender los vinos, yo puedo recomendarle al cliente un vino del mismo perfil del que normalmente compra porque seguramente ese otro vino comparte características que le gustan al cliente"
   ]
  },
  {
   "cell_type": "markdown",
   "id": "12ea65c4-b4ec-408c-9a1d-9ec4eae401b6",
   "metadata": {},
   "source": [
    "### Agregamos la nueva variable al dataset y eliminamos las que formaron parte del PCA"
   ]
  },
  {
   "cell_type": "code",
   "execution_count": 242,
   "id": "9086aaae-10d3-4883-9d00-3e8e46856e6e",
   "metadata": {},
   "outputs": [],
   "source": [
    "wine_t['cluster'] = km.labels_"
   ]
  },
  {
   "cell_type": "code",
   "execution_count": 243,
   "id": "236eadec-dfa2-4ed9-ac04-0164f0aab662",
   "metadata": {},
   "outputs": [],
   "source": [
    "wine_t = wine_t.drop(['New_citric_acid','New_residual_sugar','New_total_Sulfur_Dioxide','New_Density','New_alcohol'], axis = 1)"
   ]
  },
  {
   "cell_type": "code",
   "execution_count": 244,
   "id": "2c28f9c8-efa7-4b15-97f4-781b2b48124c",
   "metadata": {},
   "outputs": [
    {
     "data": {
      "text/html": [
       "<div>\n",
       "<style scoped>\n",
       "    .dataframe tbody tr th:only-of-type {\n",
       "        vertical-align: middle;\n",
       "    }\n",
       "\n",
       "    .dataframe tbody tr th {\n",
       "        vertical-align: top;\n",
       "    }\n",
       "\n",
       "    .dataframe thead th {\n",
       "        text-align: right;\n",
       "    }\n",
       "</style>\n",
       "<table border=\"1\" class=\"dataframe\">\n",
       "  <thead>\n",
       "    <tr style=\"text-align: right;\">\n",
       "      <th></th>\n",
       "      <th>type</th>\n",
       "      <th>quality</th>\n",
       "      <th>New_fixed_acidity</th>\n",
       "      <th>New_volatile_acidity</th>\n",
       "      <th>New_chlorides</th>\n",
       "      <th>New_Free_Sulfur_Dioxide</th>\n",
       "      <th>New_pH</th>\n",
       "      <th>New_sulphates</th>\n",
       "      <th>cluster</th>\n",
       "    </tr>\n",
       "  </thead>\n",
       "  <tbody>\n",
       "    <tr>\n",
       "      <th>0</th>\n",
       "      <td>white</td>\n",
       "      <td>6</td>\n",
       "      <td>7.0</td>\n",
       "      <td>0.270</td>\n",
       "      <td>0.045</td>\n",
       "      <td>45.0</td>\n",
       "      <td>3.00</td>\n",
       "      <td>0.450000</td>\n",
       "      <td>2</td>\n",
       "    </tr>\n",
       "    <tr>\n",
       "      <th>1</th>\n",
       "      <td>white</td>\n",
       "      <td>6</td>\n",
       "      <td>6.3</td>\n",
       "      <td>0.300</td>\n",
       "      <td>0.049</td>\n",
       "      <td>14.0</td>\n",
       "      <td>3.30</td>\n",
       "      <td>0.490000</td>\n",
       "      <td>0</td>\n",
       "    </tr>\n",
       "    <tr>\n",
       "      <th>2</th>\n",
       "      <td>white</td>\n",
       "      <td>6</td>\n",
       "      <td>8.1</td>\n",
       "      <td>0.280</td>\n",
       "      <td>0.050</td>\n",
       "      <td>30.0</td>\n",
       "      <td>3.26</td>\n",
       "      <td>0.440000</td>\n",
       "      <td>2</td>\n",
       "    </tr>\n",
       "    <tr>\n",
       "      <th>3</th>\n",
       "      <td>white</td>\n",
       "      <td>6</td>\n",
       "      <td>7.2</td>\n",
       "      <td>0.230</td>\n",
       "      <td>0.058</td>\n",
       "      <td>47.0</td>\n",
       "      <td>3.19</td>\n",
       "      <td>0.400000</td>\n",
       "      <td>2</td>\n",
       "    </tr>\n",
       "    <tr>\n",
       "      <th>4</th>\n",
       "      <td>white</td>\n",
       "      <td>6</td>\n",
       "      <td>7.2</td>\n",
       "      <td>0.230</td>\n",
       "      <td>0.058</td>\n",
       "      <td>47.0</td>\n",
       "      <td>3.19</td>\n",
       "      <td>0.400000</td>\n",
       "      <td>2</td>\n",
       "    </tr>\n",
       "    <tr>\n",
       "      <th>...</th>\n",
       "      <td>...</td>\n",
       "      <td>...</td>\n",
       "      <td>...</td>\n",
       "      <td>...</td>\n",
       "      <td>...</td>\n",
       "      <td>...</td>\n",
       "      <td>...</td>\n",
       "      <td>...</td>\n",
       "      <td>...</td>\n",
       "    </tr>\n",
       "    <tr>\n",
       "      <th>6492</th>\n",
       "      <td>red</td>\n",
       "      <td>5</td>\n",
       "      <td>6.2</td>\n",
       "      <td>0.600</td>\n",
       "      <td>0.090</td>\n",
       "      <td>32.0</td>\n",
       "      <td>3.45</td>\n",
       "      <td>0.580000</td>\n",
       "      <td>0</td>\n",
       "    </tr>\n",
       "    <tr>\n",
       "      <th>6493</th>\n",
       "      <td>red</td>\n",
       "      <td>6</td>\n",
       "      <td>5.9</td>\n",
       "      <td>0.550</td>\n",
       "      <td>0.062</td>\n",
       "      <td>39.0</td>\n",
       "      <td>3.52</td>\n",
       "      <td>0.531215</td>\n",
       "      <td>0</td>\n",
       "    </tr>\n",
       "    <tr>\n",
       "      <th>6494</th>\n",
       "      <td>red</td>\n",
       "      <td>6</td>\n",
       "      <td>6.3</td>\n",
       "      <td>0.510</td>\n",
       "      <td>0.076</td>\n",
       "      <td>29.0</td>\n",
       "      <td>3.42</td>\n",
       "      <td>0.750000</td>\n",
       "      <td>0</td>\n",
       "    </tr>\n",
       "    <tr>\n",
       "      <th>6495</th>\n",
       "      <td>red</td>\n",
       "      <td>5</td>\n",
       "      <td>5.9</td>\n",
       "      <td>0.645</td>\n",
       "      <td>0.075</td>\n",
       "      <td>32.0</td>\n",
       "      <td>3.57</td>\n",
       "      <td>0.710000</td>\n",
       "      <td>0</td>\n",
       "    </tr>\n",
       "    <tr>\n",
       "      <th>6496</th>\n",
       "      <td>red</td>\n",
       "      <td>6</td>\n",
       "      <td>6.0</td>\n",
       "      <td>0.310</td>\n",
       "      <td>0.067</td>\n",
       "      <td>18.0</td>\n",
       "      <td>3.39</td>\n",
       "      <td>0.660000</td>\n",
       "      <td>1</td>\n",
       "    </tr>\n",
       "  </tbody>\n",
       "</table>\n",
       "<p>6497 rows × 9 columns</p>\n",
       "</div>"
      ],
      "text/plain": [
       "       type  quality  New_fixed_acidity  New_volatile_acidity  New_chlorides  \\\n",
       "0     white        6                7.0                 0.270          0.045   \n",
       "1     white        6                6.3                 0.300          0.049   \n",
       "2     white        6                8.1                 0.280          0.050   \n",
       "3     white        6                7.2                 0.230          0.058   \n",
       "4     white        6                7.2                 0.230          0.058   \n",
       "...     ...      ...                ...                   ...            ...   \n",
       "6492    red        5                6.2                 0.600          0.090   \n",
       "6493    red        6                5.9                 0.550          0.062   \n",
       "6494    red        6                6.3                 0.510          0.076   \n",
       "6495    red        5                5.9                 0.645          0.075   \n",
       "6496    red        6                6.0                 0.310          0.067   \n",
       "\n",
       "      New_Free_Sulfur_Dioxide  New_pH  New_sulphates  cluster  \n",
       "0                        45.0    3.00       0.450000        2  \n",
       "1                        14.0    3.30       0.490000        0  \n",
       "2                        30.0    3.26       0.440000        2  \n",
       "3                        47.0    3.19       0.400000        2  \n",
       "4                        47.0    3.19       0.400000        2  \n",
       "...                       ...     ...            ...      ...  \n",
       "6492                     32.0    3.45       0.580000        0  \n",
       "6493                     39.0    3.52       0.531215        0  \n",
       "6494                     29.0    3.42       0.750000        0  \n",
       "6495                     32.0    3.57       0.710000        0  \n",
       "6496                     18.0    3.39       0.660000        1  \n",
       "\n",
       "[6497 rows x 9 columns]"
      ]
     },
     "execution_count": 244,
     "metadata": {},
     "output_type": "execute_result"
    }
   ],
   "source": [
    "wine_t"
   ]
  },
  {
   "cell_type": "code",
   "execution_count": null,
   "id": "80dee4da-7f96-4acb-979b-09c7100046db",
   "metadata": {},
   "outputs": [],
   "source": []
  },
  {
   "cell_type": "markdown",
   "id": "0db73cfd-f807-4a34-8117-2c6a8a290fb0",
   "metadata": {},
   "source": [
    "### Variable de respuesta"
   ]
  },
  {
   "cell_type": "code",
   "execution_count": 245,
   "id": "544c7d72-ea4e-44cc-949b-231f29c73bb9",
   "metadata": {},
   "outputs": [],
   "source": [
    "wine_t['var_respuesta'] = 0"
   ]
  },
  {
   "cell_type": "code",
   "execution_count": 246,
   "id": "0ff33a2a-1704-4051-a932-4c6d30d14130",
   "metadata": {
    "tags": []
   },
   "outputs": [],
   "source": [
    "wine_t['var_respuesta'] = wine_t.apply( lambda r: 1 if r['quality'] >= 5 else r['var_respuesta'], axis = 1)"
   ]
  },
  {
   "cell_type": "code",
   "execution_count": 247,
   "id": "01573e03-257b-41fe-8b46-2ea43d014985",
   "metadata": {},
   "outputs": [
    {
     "data": {
      "text/html": [
       "<div>\n",
       "<style scoped>\n",
       "    .dataframe tbody tr th:only-of-type {\n",
       "        vertical-align: middle;\n",
       "    }\n",
       "\n",
       "    .dataframe tbody tr th {\n",
       "        vertical-align: top;\n",
       "    }\n",
       "\n",
       "    .dataframe thead th {\n",
       "        text-align: right;\n",
       "    }\n",
       "</style>\n",
       "<table border=\"1\" class=\"dataframe\">\n",
       "  <thead>\n",
       "    <tr style=\"text-align: right;\">\n",
       "      <th></th>\n",
       "      <th>type</th>\n",
       "      <th>quality</th>\n",
       "      <th>New_fixed_acidity</th>\n",
       "      <th>New_volatile_acidity</th>\n",
       "      <th>New_chlorides</th>\n",
       "      <th>New_Free_Sulfur_Dioxide</th>\n",
       "      <th>New_pH</th>\n",
       "      <th>New_sulphates</th>\n",
       "      <th>cluster</th>\n",
       "      <th>var_respuesta</th>\n",
       "    </tr>\n",
       "  </thead>\n",
       "  <tbody>\n",
       "    <tr>\n",
       "      <th>0</th>\n",
       "      <td>white</td>\n",
       "      <td>6</td>\n",
       "      <td>7.0</td>\n",
       "      <td>0.270</td>\n",
       "      <td>0.045</td>\n",
       "      <td>45.0</td>\n",
       "      <td>3.00</td>\n",
       "      <td>0.450000</td>\n",
       "      <td>2</td>\n",
       "      <td>1</td>\n",
       "    </tr>\n",
       "    <tr>\n",
       "      <th>1</th>\n",
       "      <td>white</td>\n",
       "      <td>6</td>\n",
       "      <td>6.3</td>\n",
       "      <td>0.300</td>\n",
       "      <td>0.049</td>\n",
       "      <td>14.0</td>\n",
       "      <td>3.30</td>\n",
       "      <td>0.490000</td>\n",
       "      <td>0</td>\n",
       "      <td>1</td>\n",
       "    </tr>\n",
       "    <tr>\n",
       "      <th>2</th>\n",
       "      <td>white</td>\n",
       "      <td>6</td>\n",
       "      <td>8.1</td>\n",
       "      <td>0.280</td>\n",
       "      <td>0.050</td>\n",
       "      <td>30.0</td>\n",
       "      <td>3.26</td>\n",
       "      <td>0.440000</td>\n",
       "      <td>2</td>\n",
       "      <td>1</td>\n",
       "    </tr>\n",
       "    <tr>\n",
       "      <th>3</th>\n",
       "      <td>white</td>\n",
       "      <td>6</td>\n",
       "      <td>7.2</td>\n",
       "      <td>0.230</td>\n",
       "      <td>0.058</td>\n",
       "      <td>47.0</td>\n",
       "      <td>3.19</td>\n",
       "      <td>0.400000</td>\n",
       "      <td>2</td>\n",
       "      <td>1</td>\n",
       "    </tr>\n",
       "    <tr>\n",
       "      <th>4</th>\n",
       "      <td>white</td>\n",
       "      <td>6</td>\n",
       "      <td>7.2</td>\n",
       "      <td>0.230</td>\n",
       "      <td>0.058</td>\n",
       "      <td>47.0</td>\n",
       "      <td>3.19</td>\n",
       "      <td>0.400000</td>\n",
       "      <td>2</td>\n",
       "      <td>1</td>\n",
       "    </tr>\n",
       "    <tr>\n",
       "      <th>...</th>\n",
       "      <td>...</td>\n",
       "      <td>...</td>\n",
       "      <td>...</td>\n",
       "      <td>...</td>\n",
       "      <td>...</td>\n",
       "      <td>...</td>\n",
       "      <td>...</td>\n",
       "      <td>...</td>\n",
       "      <td>...</td>\n",
       "      <td>...</td>\n",
       "    </tr>\n",
       "    <tr>\n",
       "      <th>6492</th>\n",
       "      <td>red</td>\n",
       "      <td>5</td>\n",
       "      <td>6.2</td>\n",
       "      <td>0.600</td>\n",
       "      <td>0.090</td>\n",
       "      <td>32.0</td>\n",
       "      <td>3.45</td>\n",
       "      <td>0.580000</td>\n",
       "      <td>0</td>\n",
       "      <td>1</td>\n",
       "    </tr>\n",
       "    <tr>\n",
       "      <th>6493</th>\n",
       "      <td>red</td>\n",
       "      <td>6</td>\n",
       "      <td>5.9</td>\n",
       "      <td>0.550</td>\n",
       "      <td>0.062</td>\n",
       "      <td>39.0</td>\n",
       "      <td>3.52</td>\n",
       "      <td>0.531215</td>\n",
       "      <td>0</td>\n",
       "      <td>1</td>\n",
       "    </tr>\n",
       "    <tr>\n",
       "      <th>6494</th>\n",
       "      <td>red</td>\n",
       "      <td>6</td>\n",
       "      <td>6.3</td>\n",
       "      <td>0.510</td>\n",
       "      <td>0.076</td>\n",
       "      <td>29.0</td>\n",
       "      <td>3.42</td>\n",
       "      <td>0.750000</td>\n",
       "      <td>0</td>\n",
       "      <td>1</td>\n",
       "    </tr>\n",
       "    <tr>\n",
       "      <th>6495</th>\n",
       "      <td>red</td>\n",
       "      <td>5</td>\n",
       "      <td>5.9</td>\n",
       "      <td>0.645</td>\n",
       "      <td>0.075</td>\n",
       "      <td>32.0</td>\n",
       "      <td>3.57</td>\n",
       "      <td>0.710000</td>\n",
       "      <td>0</td>\n",
       "      <td>1</td>\n",
       "    </tr>\n",
       "    <tr>\n",
       "      <th>6496</th>\n",
       "      <td>red</td>\n",
       "      <td>6</td>\n",
       "      <td>6.0</td>\n",
       "      <td>0.310</td>\n",
       "      <td>0.067</td>\n",
       "      <td>18.0</td>\n",
       "      <td>3.39</td>\n",
       "      <td>0.660000</td>\n",
       "      <td>1</td>\n",
       "      <td>1</td>\n",
       "    </tr>\n",
       "  </tbody>\n",
       "</table>\n",
       "<p>6497 rows × 10 columns</p>\n",
       "</div>"
      ],
      "text/plain": [
       "       type  quality  New_fixed_acidity  New_volatile_acidity  New_chlorides  \\\n",
       "0     white        6                7.0                 0.270          0.045   \n",
       "1     white        6                6.3                 0.300          0.049   \n",
       "2     white        6                8.1                 0.280          0.050   \n",
       "3     white        6                7.2                 0.230          0.058   \n",
       "4     white        6                7.2                 0.230          0.058   \n",
       "...     ...      ...                ...                   ...            ...   \n",
       "6492    red        5                6.2                 0.600          0.090   \n",
       "6493    red        6                5.9                 0.550          0.062   \n",
       "6494    red        6                6.3                 0.510          0.076   \n",
       "6495    red        5                5.9                 0.645          0.075   \n",
       "6496    red        6                6.0                 0.310          0.067   \n",
       "\n",
       "      New_Free_Sulfur_Dioxide  New_pH  New_sulphates  cluster  var_respuesta  \n",
       "0                        45.0    3.00       0.450000        2              1  \n",
       "1                        14.0    3.30       0.490000        0              1  \n",
       "2                        30.0    3.26       0.440000        2              1  \n",
       "3                        47.0    3.19       0.400000        2              1  \n",
       "4                        47.0    3.19       0.400000        2              1  \n",
       "...                       ...     ...            ...      ...            ...  \n",
       "6492                     32.0    3.45       0.580000        0              1  \n",
       "6493                     39.0    3.52       0.531215        0              1  \n",
       "6494                     29.0    3.42       0.750000        0              1  \n",
       "6495                     32.0    3.57       0.710000        0              1  \n",
       "6496                     18.0    3.39       0.660000        1              1  \n",
       "\n",
       "[6497 rows x 10 columns]"
      ]
     },
     "execution_count": 247,
     "metadata": {},
     "output_type": "execute_result"
    }
   ],
   "source": [
    "wine_t"
   ]
  },
  {
   "cell_type": "code",
   "execution_count": null,
   "id": "6a66d982-ba98-4223-bafe-53908db0b145",
   "metadata": {},
   "outputs": [],
   "source": []
  },
  {
   "cell_type": "markdown",
   "id": "96e598b5-2e1b-4ed0-b140-67e437bd2b52",
   "metadata": {},
   "source": [
    "### Eliminar la variable 'quality' del dataset"
   ]
  },
  {
   "cell_type": "code",
   "execution_count": 248,
   "id": "24c9f7c6-0aba-4fb3-ae17-8ba5c6a00c3f",
   "metadata": {},
   "outputs": [],
   "source": [
    "wine_t = wine_t.drop(['quality'], axis = 1)"
   ]
  },
  {
   "cell_type": "code",
   "execution_count": 249,
   "id": "740055fa-d8e1-41d1-8375-63d4ecc2addb",
   "metadata": {},
   "outputs": [
    {
     "data": {
      "text/html": [
       "<div>\n",
       "<style scoped>\n",
       "    .dataframe tbody tr th:only-of-type {\n",
       "        vertical-align: middle;\n",
       "    }\n",
       "\n",
       "    .dataframe tbody tr th {\n",
       "        vertical-align: top;\n",
       "    }\n",
       "\n",
       "    .dataframe thead th {\n",
       "        text-align: right;\n",
       "    }\n",
       "</style>\n",
       "<table border=\"1\" class=\"dataframe\">\n",
       "  <thead>\n",
       "    <tr style=\"text-align: right;\">\n",
       "      <th></th>\n",
       "      <th>type</th>\n",
       "      <th>New_fixed_acidity</th>\n",
       "      <th>New_volatile_acidity</th>\n",
       "      <th>New_chlorides</th>\n",
       "      <th>New_Free_Sulfur_Dioxide</th>\n",
       "      <th>New_pH</th>\n",
       "      <th>New_sulphates</th>\n",
       "      <th>cluster</th>\n",
       "      <th>var_respuesta</th>\n",
       "    </tr>\n",
       "  </thead>\n",
       "  <tbody>\n",
       "    <tr>\n",
       "      <th>0</th>\n",
       "      <td>white</td>\n",
       "      <td>7.0</td>\n",
       "      <td>0.27</td>\n",
       "      <td>0.045</td>\n",
       "      <td>45.0</td>\n",
       "      <td>3.00</td>\n",
       "      <td>0.45</td>\n",
       "      <td>2</td>\n",
       "      <td>1</td>\n",
       "    </tr>\n",
       "    <tr>\n",
       "      <th>1</th>\n",
       "      <td>white</td>\n",
       "      <td>6.3</td>\n",
       "      <td>0.30</td>\n",
       "      <td>0.049</td>\n",
       "      <td>14.0</td>\n",
       "      <td>3.30</td>\n",
       "      <td>0.49</td>\n",
       "      <td>0</td>\n",
       "      <td>1</td>\n",
       "    </tr>\n",
       "    <tr>\n",
       "      <th>2</th>\n",
       "      <td>white</td>\n",
       "      <td>8.1</td>\n",
       "      <td>0.28</td>\n",
       "      <td>0.050</td>\n",
       "      <td>30.0</td>\n",
       "      <td>3.26</td>\n",
       "      <td>0.44</td>\n",
       "      <td>2</td>\n",
       "      <td>1</td>\n",
       "    </tr>\n",
       "    <tr>\n",
       "      <th>3</th>\n",
       "      <td>white</td>\n",
       "      <td>7.2</td>\n",
       "      <td>0.23</td>\n",
       "      <td>0.058</td>\n",
       "      <td>47.0</td>\n",
       "      <td>3.19</td>\n",
       "      <td>0.40</td>\n",
       "      <td>2</td>\n",
       "      <td>1</td>\n",
       "    </tr>\n",
       "    <tr>\n",
       "      <th>4</th>\n",
       "      <td>white</td>\n",
       "      <td>7.2</td>\n",
       "      <td>0.23</td>\n",
       "      <td>0.058</td>\n",
       "      <td>47.0</td>\n",
       "      <td>3.19</td>\n",
       "      <td>0.40</td>\n",
       "      <td>2</td>\n",
       "      <td>1</td>\n",
       "    </tr>\n",
       "  </tbody>\n",
       "</table>\n",
       "</div>"
      ],
      "text/plain": [
       "    type  New_fixed_acidity  New_volatile_acidity  New_chlorides  \\\n",
       "0  white                7.0                  0.27          0.045   \n",
       "1  white                6.3                  0.30          0.049   \n",
       "2  white                8.1                  0.28          0.050   \n",
       "3  white                7.2                  0.23          0.058   \n",
       "4  white                7.2                  0.23          0.058   \n",
       "\n",
       "   New_Free_Sulfur_Dioxide  New_pH  New_sulphates  cluster  var_respuesta  \n",
       "0                     45.0    3.00           0.45        2              1  \n",
       "1                     14.0    3.30           0.49        0              1  \n",
       "2                     30.0    3.26           0.44        2              1  \n",
       "3                     47.0    3.19           0.40        2              1  \n",
       "4                     47.0    3.19           0.40        2              1  "
      ]
     },
     "execution_count": 249,
     "metadata": {},
     "output_type": "execute_result"
    }
   ],
   "source": [
    "wine_t.head(5)"
   ]
  },
  {
   "cell_type": "code",
   "execution_count": null,
   "id": "419f12dd-35a2-413d-ba69-b4b098dc5310",
   "metadata": {},
   "outputs": [],
   "source": []
  },
  {
   "cell_type": "markdown",
   "id": "d03a6df8-6747-4d59-862c-77b857152049",
   "metadata": {},
   "source": [
    "### Entrenamientos de MLS"
   ]
  },
  {
   "cell_type": "markdown",
   "id": "449b020b-1bc0-4bbb-a822-07e79af05793",
   "metadata": {},
   "source": [
    "- Regresión Logística"
   ]
  },
  {
   "cell_type": "code",
   "execution_count": 250,
   "id": "12a3310f-b60f-4486-961d-b13612e50370",
   "metadata": {},
   "outputs": [],
   "source": [
    "from sklearn.model_selection import train_test_split\n",
    "from sklearn.linear_model import LogisticRegression\n",
    "from sklearn import metrics\n",
    "from sklearn.metrics import accuracy_score, f1_score, precision_score, recall_score, classification_report, confusion_matrix, roc_curve"
   ]
  },
  {
   "cell_type": "code",
   "execution_count": 251,
   "id": "e47060bb-8f88-4119-acf5-01e9c05083f2",
   "metadata": {},
   "outputs": [],
   "source": [
    "features_col = wine_t.columns.values[1:7]"
   ]
  },
  {
   "cell_type": "code",
   "execution_count": 252,
   "id": "78551538-18e3-4bdf-a06b-67b85e34065a",
   "metadata": {},
   "outputs": [],
   "source": [
    "x = wine_t[features_col].values\n",
    "y = wine_t[\"var_respuesta\"].values"
   ]
  },
  {
   "cell_type": "code",
   "execution_count": 253,
   "id": "7f6e8ca9-04f6-4458-b3bf-276724605d87",
   "metadata": {},
   "outputs": [],
   "source": [
    "X_train, X_test, Y_train, Y_test = train_test_split(x,y,test_size = 0.25, random_state=0)"
   ]
  },
  {
   "cell_type": "code",
   "execution_count": 254,
   "id": "4cefbc2f-de2c-481a-a70c-00b1ab81ff9c",
   "metadata": {},
   "outputs": [
    {
     "data": {
      "text/plain": [
       "LogisticRegression(max_iter=1000)"
      ]
     },
     "execution_count": 254,
     "metadata": {},
     "output_type": "execute_result"
    }
   ],
   "source": [
    "log_model = LogisticRegression(solver='lbfgs', max_iter=1000)\n",
    "log_model.fit(X_train,Y_train)"
   ]
  },
  {
   "cell_type": "code",
   "execution_count": 255,
   "id": "0303c236-64e2-4b90-b444-66dcb2e62121",
   "metadata": {},
   "outputs": [],
   "source": [
    "y_pred  = log_model.predict(X_test)"
   ]
  },
  {
   "cell_type": "code",
   "execution_count": 256,
   "id": "7fa2ec1d-769b-43d2-abcf-b75bae65e0a2",
   "metadata": {},
   "outputs": [
    {
     "data": {
      "text/plain": [
       "array([1, 1, 1, ..., 1, 1, 1], dtype=int64)"
      ]
     },
     "execution_count": 256,
     "metadata": {},
     "output_type": "execute_result"
    }
   ],
   "source": [
    "y_pred"
   ]
  },
  {
   "cell_type": "code",
   "execution_count": 257,
   "id": "2c3f1a26-cd25-40d2-bf6c-f7722b73aeb1",
   "metadata": {},
   "outputs": [
    {
     "data": {
      "text/plain": [
       "array([1, 1, 1, ..., 1, 1, 1], dtype=int64)"
      ]
     },
     "execution_count": 257,
     "metadata": {},
     "output_type": "execute_result"
    }
   ],
   "source": [
    "Y_test"
   ]
  },
  {
   "cell_type": "code",
   "execution_count": 258,
   "id": "1175cb8d-32db-4c87-8a84-3abf740ac8ba",
   "metadata": {},
   "outputs": [],
   "source": [
    "cnf_matrix = metrics.confusion_matrix(Y_test, y_pred)"
   ]
  },
  {
   "cell_type": "code",
   "execution_count": 259,
   "id": "ad3303a1-0426-4c0f-93be-9bfb1be8bb40",
   "metadata": {},
   "outputs": [
    {
     "data": {
      "text/plain": [
       "Text(0.5, 257.44, 'Etiqueta de prediccion')"
      ]
     },
     "execution_count": 259,
     "metadata": {},
     "output_type": "execute_result"
    },
    {
     "data": {
      "image/png": "[encoded data removed]",
      "text/plain": [
       "<Figure size 432x288 with 2 Axes>"
      ]
     },
     "metadata": {
      "needs_background": "light"
     },
     "output_type": "display_data"
    }
   ],
   "source": [
    "class_names = [0,1]\n",
    "fig, ax = plt.subplots()\n",
    "tick_marks = np.arange(len(class_names))\n",
    "plt.xticks(tick_marks, class_names)\n",
    "plt.yticks(tick_marks, class_names)\n",
    "\n",
    "sns.heatmap(pd.DataFrame(cnf_matrix), annot = True, cmap=\"Blues_r\", fmt=\"g\")\n",
    "ax.xaxis.set_label_position(\"top\")\n",
    "plt.tight_layout()\n",
    "plt.title(\"Matriz de confusion\", y=1.1)\n",
    "plt.ylabel(\"Etiqueta Actual\")\n",
    "plt.xlabel(\"Etiqueta de prediccion\")"
   ]
  },
  {
   "cell_type": "code",
   "execution_count": 260,
   "id": "b324fd7e-e43c-4d5e-ab06-712866d014f3",
   "metadata": {},
   "outputs": [
    {
     "name": "stdout",
     "output_type": "stream",
     "text": [
      "0.9606153846153846\n",
      "0.9605668515095502\n",
      "1.0\n",
      "0.9798868636077939\n"
     ]
    }
   ],
   "source": [
    "print(metrics.accuracy_score(Y_test,y_pred))\n",
    "print(precision_score(Y_test, y_pred))\n",
    "print(recall_score(Y_test, y_pred))\n",
    "print(f1_score(Y_test, y_pred))"
   ]
  },
  {
   "cell_type": "code",
   "execution_count": null,
   "id": "1ec42098-00e7-4067-8dcb-a70992428818",
   "metadata": {},
   "outputs": [],
   "source": []
  },
  {
   "cell_type": "markdown",
   "id": "df52596e-0ce9-41a6-8692-a722d3d79902",
   "metadata": {},
   "source": [
    "- NN"
   ]
  },
  {
   "cell_type": "code",
   "execution_count": 261,
   "id": "27fe7427-e7e5-4d9f-be50-361ba5256243",
   "metadata": {},
   "outputs": [],
   "source": [
    "from sklearn.neural_network import MLPClassifier"
   ]
  },
  {
   "cell_type": "code",
   "execution_count": 262,
   "id": "6193b9b4-8906-4782-8182-5d9b807a1d2b",
   "metadata": {},
   "outputs": [],
   "source": [
    "x_train = X_train \n",
    "x_test = X_test\n",
    "y_train = Y_train\n",
    "y_test =  Y_test "
   ]
  },
  {
   "cell_type": "code",
   "execution_count": 263,
   "id": "6b3b1f64-dda7-4a2e-adb9-1e6fc06c79be",
   "metadata": {},
   "outputs": [],
   "source": [
    "NN = MLPClassifier(random_state=1, max_iter=1000)\n",
    "NN.fit(x_train, y_train)\n",
    "y_pred = NN.predict(x_test)\n",
    "accuracy = accuracy_score(y_test,y_pred)*100\n",
    "confusion_mat = confusion_matrix(y_test,y_pred)"
   ]
  },
  {
   "cell_type": "code",
   "execution_count": 264,
   "id": "bc8c8e31-c545-48d8-af92-7a780f1fcfa8",
   "metadata": {
    "tags": []
   },
   "outputs": [
    {
     "name": "stdout",
     "output_type": "stream",
     "text": [
      "0.96\n",
      "0.9605425400739828\n",
      "0.9993585631815266\n",
      "0.9795661741590694\n"
     ]
    }
   ],
   "source": [
    "print(metrics.accuracy_score(y_test,y_pred))\n",
    "print(precision_score(y_test, y_pred))\n",
    "print(recall_score(y_test, y_pred))\n",
    "print(f1_score(y_test, y_pred))"
   ]
  },
  {
   "cell_type": "code",
   "execution_count": null,
   "id": "0ca08b6d-bffe-463b-8e1a-b88f81dbfc38",
   "metadata": {},
   "outputs": [],
   "source": []
  },
  {
   "cell_type": "markdown",
   "id": "163cefcc-2c0c-4521-836d-26380c96ea55",
   "metadata": {},
   "source": [
    "- Arboles de decisiones"
   ]
  },
  {
   "cell_type": "code",
   "execution_count": 265,
   "id": "d5910564-00bc-40a6-a612-af98673ac9cd",
   "metadata": {},
   "outputs": [],
   "source": [
    "from sklearn import tree"
   ]
  },
  {
   "cell_type": "code",
   "execution_count": 266,
   "id": "90232041-9574-4669-bbc1-acafd4cd80fb",
   "metadata": {},
   "outputs": [],
   "source": [
    "tree_one = tree.DecisionTreeClassifier(random_state=1)"
   ]
  },
  {
   "cell_type": "code",
   "execution_count": 267,
   "id": "2a27ea67-5bc4-4a6b-8144-aa2cd47e4232",
   "metadata": {},
   "outputs": [],
   "source": [
    "tree_one = tree_one.fit( x_train , y_train )"
   ]
  },
  {
   "cell_type": "code",
   "execution_count": 268,
   "id": "827f8e9b-f7c5-4c39-9209-6ba1073a815d",
   "metadata": {},
   "outputs": [
    {
     "data": {
      "text/plain": [
       "21"
      ]
     },
     "execution_count": 268,
     "metadata": {},
     "output_type": "execute_result"
    }
   ],
   "source": [
    "tree_one.tree_.max_depth"
   ]
  },
  {
   "cell_type": "code",
   "execution_count": 269,
   "id": "1ab80d9e-01e7-4e17-88ec-d82558e1aa6d",
   "metadata": {},
   "outputs": [],
   "source": [
    "y_pred = tree_one.predict(x_test)"
   ]
  },
  {
   "cell_type": "code",
   "execution_count": 270,
   "id": "a20b69df-4050-489f-aa23-8c59d6fdcc18",
   "metadata": {},
   "outputs": [
    {
     "name": "stdout",
     "output_type": "stream",
     "text": [
      "0.9458461538461539\n",
      "0.9699680511182108\n",
      "0.9737010904425915\n",
      "0.971830985915493\n"
     ]
    }
   ],
   "source": [
    "print(metrics.accuracy_score(y_test,y_pred))\n",
    "print(precision_score(y_test, y_pred))\n",
    "print(recall_score(y_test, y_pred))\n",
    "print(f1_score(y_test, y_pred))"
   ]
  },
  {
   "cell_type": "code",
   "execution_count": null,
   "id": "5effe9b5-4f4b-4bf0-bf21-7b7998fc7bfb",
   "metadata": {},
   "outputs": [],
   "source": []
  },
  {
   "cell_type": "markdown",
   "id": "124d5b1e-0342-4e75-8be4-a56c37c6758b",
   "metadata": {},
   "source": [
    "- Ramdom Forest"
   ]
  },
  {
   "cell_type": "code",
   "execution_count": 271,
   "id": "c902d807-cc8e-4cb8-a4ea-5a26fb7567d1",
   "metadata": {},
   "outputs": [],
   "source": [
    "from sklearn.ensemble import RandomForestRegressor\n",
    "\n",
    "rf = RandomForestRegressor(n_estimators = 1000, random_state = 42)\n",
    "rf.fit(x_train , y_train);"
   ]
  },
  {
   "cell_type": "code",
   "execution_count": 272,
   "id": "25556334-eee1-45ce-856d-432158b7dc49",
   "metadata": {},
   "outputs": [],
   "source": [
    "y_pred = rf.predict(x_test) >= 0.5"
   ]
  },
  {
   "cell_type": "code",
   "execution_count": 273,
   "id": "2fa73048-f903-43ab-9a90-36dc82fbccb4",
   "metadata": {},
   "outputs": [
    {
     "name": "stdout",
     "output_type": "stream",
     "text": [
      "0.9649230769230769\n",
      "0.9670398009950248\n",
      "0.9974342527261065\n",
      "0.9820018945374172\n"
     ]
    }
   ],
   "source": [
    "print(metrics.accuracy_score(y_test,y_pred))\n",
    "print(precision_score(y_test, y_pred))\n",
    "print(recall_score(y_test, y_pred))\n",
    "print(f1_score(y_test, y_pred))"
   ]
  },
  {
   "cell_type": "code",
   "execution_count": null,
   "id": "c4849350-d6d9-4c1d-b04f-dd6c9000f514",
   "metadata": {},
   "outputs": [],
   "source": []
  },
  {
   "cell_type": "markdown",
   "id": "ca15ca13-147c-471e-abe4-4f3d4a1722b0",
   "metadata": {},
   "source": [
    "### ¿Cuál de los entrenamientos fue el mejor?"
   ]
  },
  {
   "cell_type": "markdown",
   "id": "8d0bd0ef-7eea-4b5b-89d8-46a176c8b84a",
   "metadata": {},
   "source": [
    "En base a los resultados obtenidos podemos ver que los entrenamientos andan bastante cerca con el accuracy_store, precision_score, recall y f1_score\n",
    "Definir cuál es el mejor debe ser en base a lo que buscamos:\n",
    "- Si queremos tener el mayor porcentaje de veces que el modelo acierta en las predicciones, podemos quedarnos con Ramdom Forest ya que tiene un mayor porcentaje en el accuracy_store.\n",
    "- Si nosotros queremos tener una buena precisión en el modelo nos quedamos con los árboles de decisión, es el que nos responde de una manera más acertada a la pregunta que necesitamos responder, con un precision_score mayor.\n",
    "- Si buscamos que acierte la mayor cantidad de los valores positivos, podemos usar la regresión logística porque tiene el mayor porcentaje del recall_score.\n",
    "- Si queremos tener una buena precisión de la pregunta que necesitamos responder y a la vez tener el mayor porcentaje de aciertos de los valores positivos, usamos el Ramdom Forest ya que tiene el mayor porcentaje del f1_score.\n",
    "\n",
    "Pero de manera general, considerando que el f1_score es una combinación de recall y precision, puedo decir que el Ramdom Forest es el que dio mejores resultados."
   ]
  },
  {
   "cell_type": "code",
   "execution_count": null,
   "id": "3fa4ebef-978f-48a7-af33-6bd227b78107",
   "metadata": {},
   "outputs": [],
   "source": []
  }
 ],
 "metadata": {
  "kernelspec": {
   "display_name": "Python 3 (ipykernel)",
   "language": "python",
   "name": "python3"
  },
  "language_info": {
   "codemirror_mode": {
    "name": "ipython",
    "version": 3
   },
   "file_extension": ".py",
   "mimetype": "text/x-python",
   "name": "python",
   "nbconvert_exporter": "python",
   "pygments_lexer": "ipython3",
   "version": "3.9.12"
  }
 },
 "nbformat": 4,
 "nbformat_minor": 5
}
